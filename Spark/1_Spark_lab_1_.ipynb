{
  "cells": [
    {
      "cell_type": "markdown",
      "id": "2568221b",
      "metadata": {
        "id": "2568221b"
      },
      "source": [
        "### Import the required libraries then Create SparkContext"
      ]
    },
    {
      "cell_type": "code",
      "execution_count": 1,
      "id": "65e6978c",
      "metadata": {
        "colab": {
          "base_uri": "https://localhost:8080/"
        },
        "id": "65e6978c",
        "outputId": "8af2ab12-6f97-424f-edc6-f69ec41f676f"
      },
      "outputs": [
        {
          "output_type": "stream",
          "name": "stdout",
          "text": [
            "Collecting pyspark\n",
            "  Downloading pyspark-3.5.1.tar.gz (317.0 MB)\n",
            "\u001b[2K     \u001b[90m━━━━━━━━━━━━━━━━━━━━━━━━━━━━━━━━━━━━━━━━\u001b[0m \u001b[32m317.0/317.0 MB\u001b[0m \u001b[31m2.0 MB/s\u001b[0m eta \u001b[36m0:00:00\u001b[0m\n",
            "\u001b[?25h  Preparing metadata (setup.py) ... \u001b[?25l\u001b[?25hdone\n",
            "Requirement already satisfied: py4j==0.10.9.7 in /usr/local/lib/python3.10/dist-packages (from pyspark) (0.10.9.7)\n",
            "Building wheels for collected packages: pyspark\n",
            "  Building wheel for pyspark (setup.py) ... \u001b[?25l\u001b[?25hdone\n",
            "  Created wheel for pyspark: filename=pyspark-3.5.1-py2.py3-none-any.whl size=317488491 sha256=0496eeb885f8c08f9dd203ff6e6c1493eda58bc21934dd467ccaf8ffedc7587f\n",
            "  Stored in directory: /root/.cache/pip/wheels/80/1d/60/2c256ed38dddce2fdd93be545214a63e02fbd8d74fb0b7f3a6\n",
            "Successfully built pyspark\n",
            "Installing collected packages: pyspark\n",
            "Successfully installed pyspark-3.5.1\n"
          ]
        }
      ],
      "source": [
        "#Install PySpark\n",
        "!pip install pyspark"
      ]
    },
    {
      "cell_type": "code",
      "source": [
        "# Set up Java (PySpark requires Java)\n",
        "!apt-get install openjdk-8-jdk-headless -qq > /dev/null\n"
      ],
      "metadata": {
        "id": "tzgt0xBjenai"
      },
      "id": "tzgt0xBjenai",
      "execution_count": 2,
      "outputs": []
    },
    {
      "cell_type": "code",
      "source": [
        "from pyspark import SparkContext, SparkConf\n",
        "\n",
        "conf = SparkConf().setAppName(\"Colab\").setMaster(\"local[*]\")\n",
        "sc = SparkContext.getOrCreate(conf=conf)\n"
      ],
      "metadata": {
        "id": "It0P9eHtevfx"
      },
      "id": "It0P9eHtevfx",
      "execution_count": 4,
      "outputs": []
    },
    {
      "cell_type": "markdown",
      "id": "e9a7d9c6",
      "metadata": {
        "id": "e9a7d9c6"
      },
      "source": [
        "### Create and display an RDD from the following list"
      ]
    },
    {
      "cell_type": "code",
      "execution_count": null,
      "id": "409084ef",
      "metadata": {
        "id": "409084ef"
      },
      "outputs": [],
      "source": [
        "list = [('JK', 22), ('V', 24), ('Jimin',24), ('RM', 25), ('J-Hope', 25), ('Suga', 26), ('Jin', 27)]"
      ]
    },
    {
      "cell_type": "code",
      "source": [
        "data = [('JK', 22), ('V', 24), ('Jimin', 24), ('RM', 25), ('J-Hope', 25), ('Suga', 26), ('Jin', 27)]\n",
        "rdd = sc.parallelize(data)\n",
        "rdd.collect()\n"
      ],
      "metadata": {
        "colab": {
          "base_uri": "https://localhost:8080/"
        },
        "id": "IItESInbfsVE",
        "outputId": "78f78d3b-1bf3-4b58-a48b-bc31ff405cf2"
      },
      "id": "IItESInbfsVE",
      "execution_count": 7,
      "outputs": [
        {
          "output_type": "execute_result",
          "data": {
            "text/plain": [
              "[('JK', 22),\n",
              " ('V', 24),\n",
              " ('Jimin', 24),\n",
              " ('RM', 25),\n",
              " ('J-Hope', 25),\n",
              " ('Suga', 26),\n",
              " ('Jin', 27)]"
            ]
          },
          "metadata": {},
          "execution_count": 7
        }
      ]
    },
    {
      "cell_type": "markdown",
      "id": "823af0d6",
      "metadata": {
        "id": "823af0d6"
      },
      "source": [
        "### Create a sample1.txt file to contain the text shown below."
      ]
    },
    {
      "cell_type": "code",
      "execution_count": null,
      "id": "66668929",
      "metadata": {
        "id": "66668929",
        "outputId": "fe2bc72e-07bc-41f2-ccc6-0114b16c27a8"
      },
      "outputs": [
        {
          "name": "stdout",
          "output_type": "stream",
          "text": [
            "\n",
            "Utilitatis causa amicitia est quaesita.\n",
            "Lorem ipsum dolor sit amet, consectetur adipiscing elit. \n",
            "Collatio igitur ista tenihil iuvat. \n",
            "Honesta oratio, Socratica, Platonis etiam. \n",
            "Primum in nostranepotestate est, quid meminerimus? \n",
            "Duo Reges: constructio interrete.\n",
            "Quid, sietiam iucunda memoria est praeteritorum malorum? \n",
            "Si quidem, inquit, tollerem,\n"
          ]
        }
      ],
      "source": [
        "print('''\n",
        "Utilitatis causa amicitia est quaesita.\n",
        "Lorem ipsum dolor sit amet, consectetur adipiscing elit.\n",
        "Collatio igitur ista tenihil iuvat.\n",
        "Honesta oratio, Socratica, Platonis etiam.\n",
        "Primum in nostranepotestate est, quid meminerimus?\n",
        "Duo Reges: constructio interrete.\n",
        "Quid, sietiam iucunda memoria est praeteritorum malorum?\n",
        "Si quidem, inquit, tollerem,''')"
      ]
    },
    {
      "cell_type": "code",
      "source": [
        "with open('sample1.txt', 'w') as f:\n",
        "    f.write('Utilitatis causa amicitia est quaesita.\\n'\n",
        "            'Lorem ipsum dolor sit amet, consectetur adipiscing elit.\\n'\n",
        "            'Collatio igitur ista tenihil iuvat.\\n'\n",
        "            'Honesta oratio, Socratica, Platonis etiam.\\n'\n",
        "            'Primum in nostranepotestate est, quid meminerimus?\\n'\n",
        "            'Duo Reges: constructio interrete.\\n'\n",
        "            'Quid, sietiam iucunda memoria est praeteritorum malorum?\\n'\n",
        "            'Si quidem, inquit, tollerem,')"
      ],
      "metadata": {
        "id": "DZjW7Ymhf9-P"
      },
      "id": "DZjW7Ymhf9-P",
      "execution_count": 13,
      "outputs": []
    },
    {
      "cell_type": "markdown",
      "id": "49249054",
      "metadata": {
        "id": "49249054"
      },
      "source": [
        "### Read sample1.txt file into RDD and displaying the first 4 elements"
      ]
    },
    {
      "cell_type": "code",
      "execution_count": 15,
      "id": "0732dc1d",
      "metadata": {
        "colab": {
          "base_uri": "https://localhost:8080/"
        },
        "id": "0732dc1d",
        "outputId": "587b63d3-6bce-44ab-e512-86d037b4bb8e"
      },
      "outputs": [
        {
          "output_type": "execute_result",
          "data": {
            "text/plain": [
              "['Utilitatis causa amicitia est quaesita.',\n",
              " 'Lorem ipsum dolor sit amet, consectetur adipiscing elit.',\n",
              " 'Collatio igitur ista tenihil iuvat.',\n",
              " 'Honesta oratio, Socratica, Platonis etiam.']"
            ]
          },
          "metadata": {},
          "execution_count": 15
        }
      ],
      "source": [
        "text_rdd = sc.textFile('sample1.txt')\n",
        "text_rdd.take(4)"
      ]
    },
    {
      "cell_type": "markdown",
      "id": "f0194c12",
      "metadata": {
        "id": "f0194c12"
      },
      "source": [
        "### Count the total number of rows in RDD"
      ]
    },
    {
      "cell_type": "code",
      "execution_count": 16,
      "id": "09f9d486",
      "metadata": {
        "colab": {
          "base_uri": "https://localhost:8080/"
        },
        "id": "09f9d486",
        "outputId": "31af734c-e191-4cf6-a703-54a6b781b0c5"
      },
      "outputs": [
        {
          "output_type": "stream",
          "name": "stdout",
          "text": [
            "8\n"
          ]
        }
      ],
      "source": [
        "print(text_rdd.count())"
      ]
    },
    {
      "cell_type": "markdown",
      "id": "e7c4dc87",
      "metadata": {
        "id": "e7c4dc87"
      },
      "source": [
        "### Create a function to convert the data into lower case and splitting it"
      ]
    },
    {
      "cell_type": "code",
      "execution_count": 17,
      "id": "82cd28bc",
      "metadata": {
        "scrolled": true,
        "colab": {
          "base_uri": "https://localhost:8080/"
        },
        "id": "82cd28bc",
        "outputId": "d4f9d1ab-11ae-4515-fac0-8e8d0c395c15"
      },
      "outputs": [
        {
          "output_type": "execute_result",
          "data": {
            "text/plain": [
              "['utilitatis',\n",
              " 'causa',\n",
              " 'amicitia',\n",
              " 'est',\n",
              " 'quaesita.',\n",
              " 'lorem',\n",
              " 'ipsum',\n",
              " 'dolor',\n",
              " 'sit',\n",
              " 'amet,',\n",
              " 'consectetur',\n",
              " 'adipiscing',\n",
              " 'elit.',\n",
              " 'collatio',\n",
              " 'igitur',\n",
              " 'ista',\n",
              " 'tenihil',\n",
              " 'iuvat.',\n",
              " 'honesta',\n",
              " 'oratio,',\n",
              " 'socratica,',\n",
              " 'platonis',\n",
              " 'etiam.',\n",
              " 'primum',\n",
              " 'in',\n",
              " 'nostranepotestate',\n",
              " 'est,',\n",
              " 'quid',\n",
              " 'meminerimus?',\n",
              " 'duo',\n",
              " 'reges:',\n",
              " 'constructio',\n",
              " 'interrete.',\n",
              " 'quid,',\n",
              " 'sietiam',\n",
              " 'iucunda',\n",
              " 'memoria',\n",
              " 'est',\n",
              " 'praeteritorum',\n",
              " 'malorum?',\n",
              " 'si',\n",
              " 'quidem,',\n",
              " 'inquit,',\n",
              " 'tollerem,']"
            ]
          },
          "metadata": {},
          "execution_count": 17
        }
      ],
      "source": [
        "def to_lower_split(x):\n",
        "    return x.lower().split()\n",
        "\n",
        "lower_split_rdd = text_rdd.flatMap(to_lower_split)\n",
        "lower_split_rdd.collect()"
      ]
    },
    {
      "cell_type": "markdown",
      "id": "7437d37f",
      "metadata": {
        "id": "7437d37f"
      },
      "source": [
        "### Remove the stopwords from the previous text. i.e. Remove it."
      ]
    },
    {
      "cell_type": "code",
      "execution_count": 18,
      "id": "358d6cd7",
      "metadata": {
        "id": "358d6cd7"
      },
      "outputs": [],
      "source": [
        "stopwords = ['a','all','the','as','is','am','an','and',\n",
        "             'be','been','from','had','I','I’d','why','with']\n",
        "# Hint: you may need use flatMap"
      ]
    },
    {
      "cell_type": "code",
      "execution_count": 19,
      "id": "7a03bf98",
      "metadata": {
        "colab": {
          "base_uri": "https://localhost:8080/"
        },
        "id": "7a03bf98",
        "outputId": "68b05a77-b2a3-42ea-e8d8-68b97964b9ea"
      },
      "outputs": [
        {
          "output_type": "execute_result",
          "data": {
            "text/plain": [
              "['utilitatis',\n",
              " 'causa',\n",
              " 'amicitia',\n",
              " 'est',\n",
              " 'quaesita.',\n",
              " 'lorem',\n",
              " 'ipsum',\n",
              " 'dolor',\n",
              " 'sit',\n",
              " 'amet,',\n",
              " 'consectetur',\n",
              " 'adipiscing',\n",
              " 'elit.',\n",
              " 'collatio',\n",
              " 'igitur',\n",
              " 'ista',\n",
              " 'tenihil',\n",
              " 'iuvat.',\n",
              " 'honesta',\n",
              " 'oratio,',\n",
              " 'socratica,',\n",
              " 'platonis',\n",
              " 'etiam.',\n",
              " 'primum',\n",
              " 'in',\n",
              " 'nostranepotestate',\n",
              " 'est,',\n",
              " 'quid',\n",
              " 'meminerimus?',\n",
              " 'duo',\n",
              " 'reges:',\n",
              " 'constructio',\n",
              " 'interrete.',\n",
              " 'quid,',\n",
              " 'sietiam',\n",
              " 'iucunda',\n",
              " 'memoria',\n",
              " 'est',\n",
              " 'praeteritorum',\n",
              " 'malorum?',\n",
              " 'si',\n",
              " 'quidem,',\n",
              " 'inquit,',\n",
              " 'tollerem,']"
            ]
          },
          "metadata": {},
          "execution_count": 19
        }
      ],
      "source": [
        "filtered_rdd = lower_split_rdd.filter(lambda x: x not in stopwords)\n",
        "filtered_rdd.collect()"
      ]
    },
    {
      "cell_type": "markdown",
      "id": "fb9f6058",
      "metadata": {
        "id": "fb9f6058"
      },
      "source": [
        "### Find the words starting with ‘c’"
      ]
    },
    {
      "cell_type": "code",
      "execution_count": 20,
      "id": "6407c39b",
      "metadata": {
        "colab": {
          "base_uri": "https://localhost:8080/"
        },
        "id": "6407c39b",
        "outputId": "a124bc74-7a31-4da8-f40a-929f32254458"
      },
      "outputs": [
        {
          "output_type": "execute_result",
          "data": {
            "text/plain": [
              "['causa', 'consectetur', 'collatio', 'constructio']"
            ]
          },
          "metadata": {},
          "execution_count": 20
        }
      ],
      "source": [
        "c_words_rdd = filtered_rdd.filter(lambda x: x.startswith('c'))\n",
        "c_words_rdd.collect()"
      ]
    },
    {
      "cell_type": "markdown",
      "id": "eba39e2e",
      "metadata": {
        "id": "eba39e2e"
      },
      "source": [
        "### Reduce the data by key and sum it (use the data from the following list)"
      ]
    },
    {
      "cell_type": "code",
      "execution_count": 21,
      "id": "f26dea46",
      "metadata": {
        "id": "f26dea46"
      },
      "outputs": [],
      "source": [
        "list = [('JK', 22), ('V', 24), ('Jimin',24), ('RM', 25)\n",
        "        , ('J-Hope', 25), ('Suga', 26), ('Jin', 27)\n",
        "       , ('J-Hope', 12), ('Suga', 25), ('Jin', 34)\n",
        "       , ('JK', 32), ('V', 44), ('Jimin',14), ('RM', 35)]\n",
        "# Hint: use reduceByKey"
      ]
    },
    {
      "cell_type": "code",
      "source": [
        "rdd = sc.parallelize(list)"
      ],
      "metadata": {
        "id": "qMEU6hjWiRFq"
      },
      "id": "qMEU6hjWiRFq",
      "execution_count": 22,
      "outputs": []
    },
    {
      "cell_type": "code",
      "source": [
        "reduced_rdd = rdd.reduceByKey(lambda a, b: a + b)\n",
        "reduced_rdd.collect()"
      ],
      "metadata": {
        "colab": {
          "base_uri": "https://localhost:8080/"
        },
        "id": "FPGvQbtTiaic",
        "outputId": "bab26fbd-d546-4b84-d646-77e79d88564a"
      },
      "id": "FPGvQbtTiaic",
      "execution_count": 23,
      "outputs": [
        {
          "output_type": "execute_result",
          "data": {
            "text/plain": [
              "[('Suga', 51),\n",
              " ('Jin', 61),\n",
              " ('JK', 54),\n",
              " ('V', 68),\n",
              " ('Jimin', 38),\n",
              " ('RM', 60),\n",
              " ('J-Hope', 37)]"
            ]
          },
          "metadata": {},
          "execution_count": 23
        }
      ]
    },
    {
      "cell_type": "markdown",
      "id": "a4587230",
      "metadata": {
        "id": "a4587230"
      },
      "source": [
        "### Creat some key value pairs RDDs"
      ]
    },
    {
      "cell_type": "code",
      "execution_count": 27,
      "id": "cfb446ee",
      "metadata": {
        "id": "cfb446ee"
      },
      "outputs": [],
      "source": [
        "rdd1 = sc.parallelize([('a',2),('b',3)])\n",
        "rdd2 = sc.parallelize([('a',9),('b',7),('c',10)])"
      ]
    },
    {
      "cell_type": "code",
      "execution_count": 28,
      "id": "e4ef9f47",
      "metadata": {
        "colab": {
          "base_uri": "https://localhost:8080/"
        },
        "id": "e4ef9f47",
        "outputId": "32973579-12be-4fc4-ded1-c029873cacec"
      },
      "outputs": [
        {
          "output_type": "execute_result",
          "data": {
            "text/plain": [
              "[('a', 2), ('b', 3)]"
            ]
          },
          "metadata": {},
          "execution_count": 28
        }
      ],
      "source": [
        "rdd1.collect()"
      ]
    },
    {
      "cell_type": "code",
      "execution_count": 29,
      "id": "d16f7ae9",
      "metadata": {
        "colab": {
          "base_uri": "https://localhost:8080/"
        },
        "id": "d16f7ae9",
        "outputId": "d4453911-437a-4f60-f131-decc947d92ad"
      },
      "outputs": [
        {
          "output_type": "execute_result",
          "data": {
            "text/plain": [
              "[('a', 9), ('b', 7), ('c', 10)]"
            ]
          },
          "metadata": {},
          "execution_count": 29
        }
      ],
      "source": [
        "rdd2.collect()"
      ]
    },
    {
      "cell_type": "markdown",
      "id": "98ec3168",
      "metadata": {
        "id": "98ec3168"
      },
      "source": [
        "### Perform Join operation on the RDDs (rdd1,rdd2)"
      ]
    },
    {
      "cell_type": "code",
      "execution_count": 30,
      "id": "5fc98e9f",
      "metadata": {
        "id": "5fc98e9f"
      },
      "outputs": [],
      "source": [
        "joined_rdd = rdd1.join(rdd2)"
      ]
    },
    {
      "cell_type": "code",
      "source": [
        "joined_rdd.collect()"
      ],
      "metadata": {
        "colab": {
          "base_uri": "https://localhost:8080/"
        },
        "id": "GGHSYRBDj2kS",
        "outputId": "765b090b-26c3-4381-e96f-a6335c5529fa"
      },
      "id": "GGHSYRBDj2kS",
      "execution_count": 31,
      "outputs": [
        {
          "output_type": "execute_result",
          "data": {
            "text/plain": [
              "[('b', (3, 7)), ('a', (2, 9))]"
            ]
          },
          "metadata": {},
          "execution_count": 31
        }
      ]
    }
  ],
  "metadata": {
    "kernelspec": {
      "display_name": "Python 3 (ipykernel)",
      "language": "python",
      "name": "python3"
    },
    "language_info": {
      "codemirror_mode": {
        "name": "ipython",
        "version": 3
      },
      "file_extension": ".py",
      "mimetype": "text/x-python",
      "name": "python",
      "nbconvert_exporter": "python",
      "pygments_lexer": "ipython3",
      "version": "3.9.12"
    },
    "colab": {
      "provenance": []
    }
  },
  "nbformat": 4,
  "nbformat_minor": 5
}