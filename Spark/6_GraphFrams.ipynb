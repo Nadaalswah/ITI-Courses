{
  "cells": [
    {
      "cell_type": "markdown",
      "id": "779b346d",
      "metadata": {
        "id": "779b346d"
      },
      "source": [
        "## The following section is for Colab Users.\n",
        "### Just run the following code cells"
      ]
    },
    {
      "cell_type": "code",
      "execution_count": 1,
      "id": "7d73eb01",
      "metadata": {
        "colab": {
          "base_uri": "https://localhost:8080/"
        },
        "id": "7d73eb01",
        "outputId": "638b693e-3d0b-4871-adbe-1b16780eea1f"
      },
      "outputs": [
        {
          "output_type": "stream",
          "name": "stdout",
          "text": [
            "\u001b[2K     \u001b[90m━━━━━━━━━━━━━━━━━━━━━━━━━━━━━━━━━━━━━━━━\u001b[0m \u001b[32m317.0/317.0 MB\u001b[0m \u001b[31m2.7 MB/s\u001b[0m eta \u001b[36m0:00:00\u001b[0m\n",
            "\u001b[?25h  Preparing metadata (setup.py) ... \u001b[?25l\u001b[?25hdone\n",
            "\u001b[2K     \u001b[90m━━━━━━━━━━━━━━━━━━━━━━━━━━━━━━━━━━━━━━━━\u001b[0m \u001b[32m154.7/154.7 kB\u001b[0m \u001b[31m20.8 MB/s\u001b[0m eta \u001b[36m0:00:00\u001b[0m\n",
            "\u001b[?25h  Building wheel for pyspark (setup.py) ... \u001b[?25l\u001b[?25hdone\n"
          ]
        }
      ],
      "source": [
        "!apt-get install openjdk-11-jdk-headless -qq > /dev/null\n",
        "!wget -q https://bitbucket.org/habedi/datasets/raw/b6769c4664e7ff68b001e2f43bc517888cbe3642/spark/spark-3.0.2-bin-hadoop2.7.tgz\n",
        "!tar xf spark-3.0.2-bin-hadoop2.7.tgz\n",
        "!rm -rf spark-3.0.2-bin-hadoop2.7.tgz*\n",
        "!pip -q install findspark pyspark graphframes"
      ]
    },
    {
      "cell_type": "code",
      "execution_count": 2,
      "id": "299e0d6a",
      "metadata": {
        "colab": {
          "base_uri": "https://localhost:8080/"
        },
        "id": "299e0d6a",
        "outputId": "70e70f91-5032-4ce6-beb1-240bce8d2fbf"
      },
      "outputs": [
        {
          "output_type": "stream",
          "name": "stdout",
          "text": [
            "--2024-06-04 00:49:32--  https://repos.spark-packages.org/graphframes/graphframes/0.8.2-spark3.0-s_2.12/graphframes-0.8.2-spark3.0-s_2.12.jar\n",
            "Resolving repos.spark-packages.org (repos.spark-packages.org)... 108.157.254.128, 108.157.254.42, 108.157.254.58, ...\n",
            "Connecting to repos.spark-packages.org (repos.spark-packages.org)|108.157.254.128|:443... connected.\n",
            "HTTP request sent, awaiting response... 200 OK\n",
            "Length: 247882 (242K) [binary/octet-stream]\n",
            "Saving to: ‘/content/spark-3.0.2-bin-hadoop2.7/jars/graphframes-0.8.2-spark3.0-s_2.12.jar’\n",
            "\n",
            "graphframes-0.8.2-s 100%[===================>] 242.07K   480KB/s    in 0.5s    \n",
            "\n",
            "2024-06-04 00:49:33 (480 KB/s) - ‘/content/spark-3.0.2-bin-hadoop2.7/jars/graphframes-0.8.2-spark3.0-s_2.12.jar’ saved [247882/247882]\n",
            "\n"
          ]
        }
      ],
      "source": [
        "!wget https://repos.spark-packages.org/graphframes/graphframes/0.8.2-spark3.0-s_2.12/graphframes-0.8.2-spark3.0-s_2.12.jar -P /content/spark-3.0.2-bin-hadoop2.7/jars/\n",
        "!cp /content/spark-3.0.2-bin-hadoop2.7/jars/graphframes-0.8.2-spark3.0-s_2.12.jar /content/spark-3.0.2-bin-hadoop2.7/graphframes-0.8.2-spark3.0-s_2.12.zip"
      ]
    },
    {
      "cell_type": "code",
      "execution_count": 3,
      "id": "ee0d39ec",
      "metadata": {
        "id": "ee0d39ec"
      },
      "outputs": [],
      "source": [
        "import os\n",
        "\n",
        "os.environ[\"JAVA_HOME\"] = \"/usr/lib/jvm/java-11-openjdk-amd64\"\n",
        "os.environ[\"SPARK_HOME\"] = \"/content/spark-3.0.2-bin-hadoop2.7\"\n",
        "os.environ[\"HADOOP_HOME\"] = os.environ[\"SPARK_HOME\"]\n",
        "\n",
        "os.environ[\"PYSPARK_DRIVER_PYTHON\"] = \"jupyter\"\n",
        "os.environ[\"PYSPARK_DRIVER_PYTHON_OPTS\"] = \"notebook\"\n",
        "os.environ[\"PYSPARK_SUBMIT_ARGS\"] = \"--master local[*] pyspark-shell\""
      ]
    },
    {
      "cell_type": "code",
      "source": [
        "! pip install pyspark"
      ],
      "metadata": {
        "colab": {
          "base_uri": "https://localhost:8080/"
        },
        "id": "pzzdddXEowaU",
        "outputId": "02fccc84-1275-4c03-c6ab-1018f5b66b4a"
      },
      "id": "pzzdddXEowaU",
      "execution_count": 4,
      "outputs": [
        {
          "output_type": "stream",
          "name": "stdout",
          "text": [
            "Requirement already satisfied: pyspark in /usr/local/lib/python3.10/dist-packages (3.5.1)\n",
            "Requirement already satisfied: py4j==0.10.9.7 in /usr/local/lib/python3.10/dist-packages (from pyspark) (0.10.9.7)\n"
          ]
        }
      ]
    },
    {
      "cell_type": "code",
      "execution_count": 5,
      "id": "7136d8e6",
      "metadata": {
        "id": "7136d8e6"
      },
      "outputs": [],
      "source": [
        "import findspark\n",
        "findspark.init()"
      ]
    },
    {
      "cell_type": "code",
      "execution_count": 6,
      "id": "92f3e19b",
      "metadata": {
        "id": "92f3e19b"
      },
      "outputs": [],
      "source": [
        "!export PYSPARK_SUBMIT_ARGS=\"--master local[*] pyspark-shell\"\n",
        "!export PYSPARK_DRIVER_PYTHON=jupyter\n",
        "!export PYSPARK_DRIVER_PYTHON_OPTS=notebook"
      ]
    },
    {
      "cell_type": "code",
      "execution_count": 7,
      "id": "f1504ff4",
      "metadata": {
        "id": "f1504ff4"
      },
      "outputs": [],
      "source": [
        "from pyspark.sql import SparkSession\n",
        "from graphframes import *\n",
        "\n",
        "spark = SparkSession.builder.master(\"local[*]\").appName(\"GraphFrames\").getOrCreate()"
      ]
    },
    {
      "cell_type": "code",
      "execution_count": 8,
      "id": "252db99a",
      "metadata": {
        "id": "252db99a"
      },
      "outputs": [],
      "source": [
        "os.environ[\"PYSPARK_SUBMIT_ARGS\"] = \"--packages graphframes:graphframes:0.8.1-spark3.0-s_2.12 pyspark-shell\""
      ]
    },
    {
      "cell_type": "markdown",
      "id": "66232934",
      "metadata": {
        "id": "66232934"
      },
      "source": [
        "**************************************************************************\n",
        "**************************************************************************\n",
        "**************************************************************************"
      ]
    },
    {
      "cell_type": "code",
      "execution_count": 8,
      "id": "c90808ca",
      "metadata": {
        "id": "c90808ca"
      },
      "outputs": [],
      "source": []
    },
    {
      "cell_type": "code",
      "execution_count": 9,
      "id": "2a0819b3",
      "metadata": {
        "colab": {
          "base_uri": "https://localhost:8080/",
          "height": 17
        },
        "id": "2a0819b3",
        "outputId": "8e522209-ed29-4a40-93c9-40ee5b240231"
      },
      "outputs": [
        {
          "output_type": "display_data",
          "data": {
            "text/plain": [
              "<IPython.core.display.HTML object>"
            ],
            "text/html": [
              "<style>pre { white-space: pre !important; }</style>"
            ]
          },
          "metadata": {}
        }
      ],
      "source": [
        "from IPython.display import display, HTML\n",
        "display(HTML(\"<style>pre { white-space: pre !important; }</style>\"))"
      ]
    },
    {
      "cell_type": "markdown",
      "id": "d7f57da0",
      "metadata": {
        "id": "d7f57da0"
      },
      "source": [
        "### Read departuredelays.csv in Edge DataFrame\n",
        "### Read airport-codes-na.txt in Vertix DataFrame (the separator is Tab i.e sep = '\\t' )"
      ]
    },
    {
      "cell_type": "markdown",
      "id": "631c334e",
      "metadata": {
        "id": "631c334e"
      },
      "source": [
        "#### The US flight delays data set has five columns:\n",
        "- The <b>date</b> column contains an integer like 02190925 . When converted, this maps to 02-19 09:25 am.\n",
        "- The <b>delay</b> column gives the delay in minutes between the scheduled and actual departure times. Early departures show negative numbers.\n",
        "- The <b>distance</b> column gives the distance in miles from the origin airport to the destination airport.\n",
        "- The <b>origin</b> column contains the origin IATA airport code.\n",
        "- The <b>destination</b> column contains the destination IATA airport code.\n",
        "\n",
        "#### The airport-codes data set has four columns:\n",
        "- The <b>IATA</b> column contains IATA airport code.\n",
        "- The <b>City, State, and Country</b> columns contains information about the airport location."
      ]
    },
    {
      "cell_type": "code",
      "execution_count": 11,
      "id": "30f02a5a",
      "metadata": {
        "id": "30f02a5a"
      },
      "outputs": [],
      "source": [
        "edges_df = spark.read.csv('/content/departuredelays.csv', header=True, inferSchema=True)"
      ]
    },
    {
      "cell_type": "code",
      "source": [
        "vertices_df = spark.read.csv('/content/airport-codes-na.txt', sep='\\t', header=True, inferSchema=True)\n"
      ],
      "metadata": {
        "id": "aWVJ1doxpZfB"
      },
      "id": "aWVJ1doxpZfB",
      "execution_count": 12,
      "outputs": []
    },
    {
      "cell_type": "code",
      "source": [
        "edges_df.printSchema()\n",
        "vertices_df.printSchema()"
      ],
      "metadata": {
        "colab": {
          "base_uri": "https://localhost:8080/"
        },
        "id": "L7hsyFYAprJ7",
        "outputId": "e29dbe35-93fc-4d05-aafd-eb7e9cb49ccc"
      },
      "id": "L7hsyFYAprJ7",
      "execution_count": 13,
      "outputs": [
        {
          "output_type": "stream",
          "name": "stdout",
          "text": [
            "root\n",
            " |-- date: integer (nullable = true)\n",
            " |-- delay: integer (nullable = true)\n",
            " |-- distance: integer (nullable = true)\n",
            " |-- origin: string (nullable = true)\n",
            " |-- destination: string (nullable = true)\n",
            "\n",
            "root\n",
            " |-- City: string (nullable = true)\n",
            " |-- State: string (nullable = true)\n",
            " |-- Country: string (nullable = true)\n",
            " |-- IATA: string (nullable = true)\n",
            "\n"
          ]
        }
      ]
    },
    {
      "cell_type": "markdown",
      "id": "e1d90463",
      "metadata": {
        "id": "e1d90463"
      },
      "source": [
        "### In the vertix DataFrame, drop any duplicated rows with the same  IATA code."
      ]
    },
    {
      "cell_type": "code",
      "execution_count": 14,
      "id": "15571db4",
      "metadata": {
        "id": "15571db4"
      },
      "outputs": [],
      "source": [
        "vertices_df = vertices_df.dropDuplicates(['IATA'])"
      ]
    },
    {
      "cell_type": "markdown",
      "id": "83d1dea8",
      "metadata": {
        "id": "83d1dea8"
      },
      "source": [
        "### In the edges DataFrame:\n",
        "- Rename the <b>date</b> columns to become <b>tripid</b>.\n",
        "- Rename the <b>origin</b> columns to become <b>src</b>.\n",
        "- Rename the <b>destination</b> columns to become <b>dst</b>."
      ]
    },
    {
      "cell_type": "code",
      "execution_count": 15,
      "id": "5319e844",
      "metadata": {
        "id": "5319e844"
      },
      "outputs": [],
      "source": [
        "edges_df = edges_df.withColumnRenamed('date', 'tripid') \\\n",
        "                   .withColumnRenamed('origin', 'src') \\\n",
        "                   .withColumnRenamed('destination', 'dst')"
      ]
    },
    {
      "cell_type": "markdown",
      "id": "260660dc",
      "metadata": {
        "id": "260660dc"
      },
      "source": [
        "### In the Vertix DataFrame:\n",
        "- Rename the <b>IATA</b> columns to become <b>id</b>."
      ]
    },
    {
      "cell_type": "code",
      "execution_count": 16,
      "id": "42846969",
      "metadata": {
        "scrolled": false,
        "id": "42846969"
      },
      "outputs": [],
      "source": [
        "vertices_df = vertices_df.withColumnRenamed('IATA', 'id')"
      ]
    },
    {
      "cell_type": "code",
      "source": [
        "edges_df.show(5)\n",
        "vertices_df.show(5)"
      ],
      "metadata": {
        "colab": {
          "base_uri": "https://localhost:8080/"
        },
        "id": "a0o63M4PqMyL",
        "outputId": "91c664ca-3df8-4153-d033-4f79f27eec73"
      },
      "id": "a0o63M4PqMyL",
      "execution_count": 17,
      "outputs": [
        {
          "output_type": "stream",
          "name": "stdout",
          "text": [
            "+-------+-----+--------+---+---+\n",
            "| tripid|delay|distance|src|dst|\n",
            "+-------+-----+--------+---+---+\n",
            "|1011245|    6|     602|ABE|ATL|\n",
            "|1020600|   -8|     369|ABE|DTW|\n",
            "|1021245|   -2|     602|ABE|ATL|\n",
            "|1020605|   -4|     602|ABE|ATL|\n",
            "|1031245|   -4|     602|ABE|ATL|\n",
            "+-------+-----+--------+---+---+\n",
            "only showing top 5 rows\n",
            "\n",
            "+-------------------+-----+-------+---+\n",
            "|               City|State|Country| id|\n",
            "+-------------------+-----+-------+---+\n",
            "|         Binghamton|   NY|    USA|BGM|\n",
            "|            Lebanon|   NH|    USA|LEB|\n",
            "|           Montreal|   PQ| Canada|YUL|\n",
            "|         Dillingham|   AK|    USA|DLG|\n",
            "|International Falls|   MN|    USA|INL|\n",
            "+-------------------+-----+-------+---+\n",
            "only showing top 5 rows\n",
            "\n"
          ]
        }
      ]
    },
    {
      "cell_type": "markdown",
      "id": "4b50a1fe",
      "metadata": {
        "id": "4b50a1fe"
      },
      "source": [
        "### Create GraphFrame from Vertix and Edges DataFrames"
      ]
    },
    {
      "cell_type": "code",
      "execution_count": 18,
      "id": "72be9d09",
      "metadata": {
        "id": "72be9d09"
      },
      "outputs": [],
      "source": [
        "from graphframes import GraphFrame\n",
        "g = GraphFrame(vertices_df, edges_df)"
      ]
    },
    {
      "cell_type": "code",
      "source": [
        "g.vertices.show(5)\n",
        "g.edges.show(5)"
      ],
      "metadata": {
        "colab": {
          "base_uri": "https://localhost:8080/"
        },
        "id": "Jux_y4KhqY7v",
        "outputId": "ea93dac9-9aee-4f48-ceed-c6830ab126ed"
      },
      "id": "Jux_y4KhqY7v",
      "execution_count": 19,
      "outputs": [
        {
          "output_type": "stream",
          "name": "stdout",
          "text": [
            "+-------------------+-----+-------+---+\n",
            "|               City|State|Country| id|\n",
            "+-------------------+-----+-------+---+\n",
            "|         Binghamton|   NY|    USA|BGM|\n",
            "|            Lebanon|   NH|    USA|LEB|\n",
            "|           Montreal|   PQ| Canada|YUL|\n",
            "|         Dillingham|   AK|    USA|DLG|\n",
            "|International Falls|   MN|    USA|INL|\n",
            "+-------------------+-----+-------+---+\n",
            "only showing top 5 rows\n",
            "\n",
            "+-------+-----+--------+---+---+\n",
            "| tripid|delay|distance|src|dst|\n",
            "+-------+-----+--------+---+---+\n",
            "|1011245|    6|     602|ABE|ATL|\n",
            "|1020600|   -8|     369|ABE|DTW|\n",
            "|1021245|   -2|     602|ABE|ATL|\n",
            "|1020605|   -4|     602|ABE|ATL|\n",
            "|1031245|   -4|     602|ABE|ATL|\n",
            "+-------+-----+--------+---+---+\n",
            "only showing top 5 rows\n",
            "\n"
          ]
        }
      ]
    },
    {
      "cell_type": "markdown",
      "id": "abd2ebc6",
      "metadata": {
        "id": "abd2ebc6"
      },
      "source": [
        "### Determine the number of airports"
      ]
    },
    {
      "cell_type": "code",
      "execution_count": 20,
      "id": "f38688c9",
      "metadata": {
        "colab": {
          "base_uri": "https://localhost:8080/"
        },
        "id": "f38688c9",
        "outputId": "d4a9b910-25d5-4f1f-b701-fbe88b645e82"
      },
      "outputs": [
        {
          "output_type": "execute_result",
          "data": {
            "text/plain": [
              "524"
            ]
          },
          "metadata": {},
          "execution_count": 20
        }
      ],
      "source": [
        "num_airports = g.vertices.count()\n",
        "num_airports"
      ]
    },
    {
      "cell_type": "markdown",
      "id": "435187a8",
      "metadata": {
        "id": "435187a8"
      },
      "source": [
        "### Determine the number of trips"
      ]
    },
    {
      "cell_type": "code",
      "execution_count": 21,
      "id": "db2a507d",
      "metadata": {
        "colab": {
          "base_uri": "https://localhost:8080/"
        },
        "id": "db2a507d",
        "outputId": "e6150447-cc31-490b-e745-e92ef7a2761d"
      },
      "outputs": [
        {
          "output_type": "execute_result",
          "data": {
            "text/plain": [
              "1391578"
            ]
          },
          "metadata": {},
          "execution_count": 21
        }
      ],
      "source": [
        "num_trips = g.edges.count()\n",
        "num_trips"
      ]
    },
    {
      "cell_type": "markdown",
      "id": "dec8731f",
      "metadata": {
        "id": "dec8731f"
      },
      "source": [
        "### What is the longest delay?"
      ]
    },
    {
      "cell_type": "code",
      "execution_count": 22,
      "id": "df3d6aac",
      "metadata": {
        "colab": {
          "base_uri": "https://localhost:8080/"
        },
        "id": "df3d6aac",
        "outputId": "398c904e-2105-48eb-ab09-53d4d271c3b1"
      },
      "outputs": [
        {
          "output_type": "execute_result",
          "data": {
            "text/plain": [
              "1642"
            ]
          },
          "metadata": {},
          "execution_count": 22
        }
      ],
      "source": [
        "longest_delay = g.edges.agg({\"delay\": \"max\"}).collect()[0][0]\n",
        "longest_delay"
      ]
    },
    {
      "cell_type": "markdown",
      "id": "202d888c",
      "metadata": {
        "id": "202d888c"
      },
      "source": [
        "### Find out the number of delayed flights vs. early flights (flights that departed before actual time)"
      ]
    },
    {
      "cell_type": "code",
      "execution_count": 23,
      "id": "7cdd7ff7",
      "metadata": {
        "colab": {
          "base_uri": "https://localhost:8080/"
        },
        "id": "7cdd7ff7",
        "outputId": "c9473e5f-307b-469a-8640-8256b56b7da0"
      },
      "outputs": [
        {
          "output_type": "stream",
          "name": "stdout",
          "text": [
            "Delayed flights: 591727, Early flights: 799851\n"
          ]
        }
      ],
      "source": [
        "delay_counts = g.edges.groupBy(g.edges.delay > 0).count().collect()\n",
        "delayed_flights = delay_counts[0][1] if delay_counts[0][0] else delay_counts[1][1]\n",
        "early_flights = delay_counts[1][1] if delay_counts[0][0] else delay_counts[0][1]\n",
        "print(f\"Delayed flights: {delayed_flights}, Early flights: {early_flights}\")"
      ]
    },
    {
      "cell_type": "markdown",
      "id": "30961bc3",
      "metadata": {
        "id": "30961bc3"
      },
      "source": [
        "### What flight destinations departing SFO are most likely to have significant delays? Select the top 10\n",
        "#### Hint: you should get the average delay for each destination for trips that depart from SFO only"
      ]
    },
    {
      "cell_type": "code",
      "execution_count": 24,
      "id": "afdc6842",
      "metadata": {
        "colab": {
          "base_uri": "https://localhost:8080/"
        },
        "id": "afdc6842",
        "outputId": "88704e2c-a0c6-4d71-e96f-65736ebbc16a"
      },
      "outputs": [
        {
          "output_type": "stream",
          "name": "stdout",
          "text": [
            "+---+------------------+\n",
            "|dst|         avg_delay|\n",
            "+---+------------------+\n",
            "|JAC| 30.78846153846154|\n",
            "|OKC|24.822222222222223|\n",
            "|SUN|22.696629213483146|\n",
            "|COS| 22.58888888888889|\n",
            "|SAT|             22.16|\n",
            "|STL|         20.203125|\n",
            "|HNL|19.982608695652175|\n",
            "|ASE|19.846153846153847|\n",
            "|CEC|19.089820359281436|\n",
            "|MDW|18.771929824561404|\n",
            "+---+------------------+\n",
            "\n"
          ]
        }
      ],
      "source": [
        "from pyspark.sql.functions import desc\n",
        "\n",
        "sfo_delays = g.edges.filter(g.edges.src == 'SFO') \\\n",
        "    .groupBy('dst').avg('delay') \\\n",
        "    .withColumnRenamed('avg(delay)', 'avg_delay') \\\n",
        "    .orderBy(desc('avg_delay')) \\\n",
        "    .limit(10)\n",
        "\n",
        "sfo_delays.show()"
      ]
    },
    {
      "cell_type": "markdown",
      "id": "71d46665",
      "metadata": {
        "id": "71d46665"
      },
      "source": [
        "### Find the Incoming connections to the airport sorted in Desc. order."
      ]
    },
    {
      "cell_type": "code",
      "execution_count": 25,
      "id": "c28925c3",
      "metadata": {
        "colab": {
          "base_uri": "https://localhost:8080/"
        },
        "id": "c28925c3",
        "outputId": "04fa6d9c-38f9-402e-977c-ba5d69ae453a"
      },
      "outputs": [
        {
          "output_type": "stream",
          "name": "stdout",
          "text": [
            "+---+-----+\n",
            "|dst|count|\n",
            "+---+-----+\n",
            "|ATL|90434|\n",
            "|DFW|66050|\n",
            "|ORD|61967|\n",
            "|LAX|53601|\n",
            "|DEN|50921|\n",
            "|IAH|42700|\n",
            "|PHX|39721|\n",
            "|SFO|38988|\n",
            "|LAS|32994|\n",
            "|CLT|28388|\n",
            "|MCO|27959|\n",
            "|EWR|27652|\n",
            "|LGA|25469|\n",
            "|BOS|25360|\n",
            "|SLC|25323|\n",
            "|JFK|23484|\n",
            "|DTW|23310|\n",
            "|SEA|23074|\n",
            "|MSP|22385|\n",
            "|MIA|21805|\n",
            "+---+-----+\n",
            "only showing top 20 rows\n",
            "\n"
          ]
        }
      ],
      "source": [
        "incoming_connections = g.edges.groupBy(\"dst\").count().orderBy(desc(\"count\"))\n",
        "incoming_connections.show()"
      ]
    },
    {
      "cell_type": "markdown",
      "id": "d1b6509d",
      "metadata": {
        "id": "d1b6509d"
      },
      "source": [
        "### Find the Outgoing connections from the airport sorted in Desc. order."
      ]
    },
    {
      "cell_type": "code",
      "execution_count": 26,
      "id": "631af51d",
      "metadata": {
        "colab": {
          "base_uri": "https://localhost:8080/"
        },
        "id": "631af51d",
        "outputId": "597b3f59-b05b-4c8b-da24-e8f0c7e890f4"
      },
      "outputs": [
        {
          "output_type": "stream",
          "name": "stdout",
          "text": [
            "+---+-----+\n",
            "|src|count|\n",
            "+---+-----+\n",
            "|ATL|91484|\n",
            "|DFW|68482|\n",
            "|ORD|64228|\n",
            "|LAX|54086|\n",
            "|DEN|53148|\n",
            "|IAH|43361|\n",
            "|PHX|40155|\n",
            "|SFO|39483|\n",
            "|LAS|33107|\n",
            "|CLT|28402|\n",
            "|MCO|28313|\n",
            "|EWR|27656|\n",
            "|SLC|25868|\n",
            "|LGA|25458|\n",
            "|BOS|25348|\n",
            "|MSP|24031|\n",
            "|JFK|23572|\n",
            "|DTW|23421|\n",
            "|SEA|23078|\n",
            "|MIA|21817|\n",
            "+---+-----+\n",
            "only showing top 20 rows\n",
            "\n"
          ]
        }
      ],
      "source": [
        "outgoing_connections = g.edges.groupBy(\"src\").count().orderBy(desc(\"count\"))\n",
        "outgoing_connections.show()"
      ]
    },
    {
      "cell_type": "markdown",
      "id": "fbec58ce",
      "metadata": {
        "id": "fbec58ce"
      },
      "source": [
        "### Use motif finding to answer this question: which delays could we blame on SFO?\n",
        "#### Hint: this practically means that SFO is a transit station"
      ]
    },
    {
      "cell_type": "code",
      "execution_count": 27,
      "id": "db17f3df",
      "metadata": {
        "colab": {
          "base_uri": "https://localhost:8080/"
        },
        "id": "db17f3df",
        "outputId": "9d795dbd-22f8-4b60-d604-958ad52baa7f"
      },
      "outputs": [
        {
          "output_type": "stream",
          "name": "stdout",
          "text": [
            "+--------------------+--------------------+--------------------+--------------------+--------------------+\n",
            "|                   a|                  e1|                   b|                  e2|                   c|\n",
            "+--------------------+--------------------+--------------------+--------------------+--------------------+\n",
            "|[San Francisco, C...|[1011750, 163, 16...|[New Orleans, LA,...|[1011910, 19, 389...|[Dallas, TX, USA,...|\n",
            "|[San Francisco, C...|[1011750, 163, 16...|[New Orleans, LA,...|[1021335, 10, 389...|[Dallas, TX, USA,...|\n",
            "|[San Francisco, C...|[1011750, 163, 16...|[New Orleans, LA,...|[1021550, 81, 389...|[Dallas, TX, USA,...|\n",
            "|[San Francisco, C...|[1011750, 163, 16...|[New Orleans, LA,...|[1021505, 18, 586...|[Miami, FL, USA, ...|\n",
            "|[San Francisco, C...|[1011750, 163, 16...|[New Orleans, LA,...|[1021010, 9, 389,...|[Dallas, TX, USA,...|\n",
            "|[San Francisco, C...|[1011750, 163, 16...|[New Orleans, LA,...|[1031335, 11, 389...|[Dallas, TX, USA,...|\n",
            "|[San Francisco, C...|[1011750, 163, 16...|[New Orleans, LA,...|[1031550, 11, 389...|[Dallas, TX, USA,...|\n",
            "|[San Francisco, C...|[1011750, 163, 16...|[New Orleans, LA,...|[1031010, 89, 389...|[Dallas, TX, USA,...|\n",
            "|[San Francisco, C...|[1011750, 163, 16...|[New Orleans, LA,...|[1031910, 42, 389...|[Dallas, TX, USA,...|\n",
            "|[San Francisco, C...|[1011750, 163, 16...|[New Orleans, LA,...|[1031230, 31, 586...|[Miami, FL, USA, ...|\n",
            "|[San Francisco, C...|[1011750, 163, 16...|[New Orleans, LA,...|[1041335, 5, 389,...|[Dallas, TX, USA,...|\n",
            "|[San Francisco, C...|[1011750, 163, 16...|[New Orleans, LA,...|[1041845, 26, 586...|[Miami, FL, USA, ...|\n",
            "|[San Francisco, C...|[1011750, 163, 16...|[New Orleans, LA,...|[1051335, 4, 389,...|[Dallas, TX, USA,...|\n",
            "|[San Francisco, C...|[1011750, 163, 16...|[New Orleans, LA,...|[1051550, 34, 389...|[Dallas, TX, USA,...|\n",
            "|[San Francisco, C...|[1011750, 163, 16...|[New Orleans, LA,...|[1051505, 2, 586,...|[Miami, FL, USA, ...|\n",
            "|[San Francisco, C...|[1011750, 163, 16...|[New Orleans, LA,...|[1051910, 21, 389...|[Dallas, TX, USA,...|\n",
            "|[San Francisco, C...|[1011750, 163, 16...|[New Orleans, LA,...|[1051230, 7, 586,...|[Miami, FL, USA, ...|\n",
            "|[San Francisco, C...|[1011750, 163, 16...|[New Orleans, LA,...|[1061335, 61, 389...|[Dallas, TX, USA,...|\n",
            "|[San Francisco, C...|[1011750, 163, 16...|[New Orleans, LA,...|[1061910, 77, 389...|[Dallas, TX, USA,...|\n",
            "|[San Francisco, C...|[1011750, 163, 16...|[New Orleans, LA,...|[1071550, 13, 389...|[Dallas, TX, USA,...|\n",
            "+--------------------+--------------------+--------------------+--------------------+--------------------+\n",
            "only showing top 20 rows\n",
            "\n"
          ]
        }
      ],
      "source": [
        "motifs_delay = g.find(\"(a)-[e1]->(b); (b)-[e2]->(c)\").filter(\"a.id = 'SFO' and e1.delay > 0 and e2.delay > 0\")\n",
        "motifs_delay.show()"
      ]
    },
    {
      "cell_type": "markdown",
      "id": "cc1ece96",
      "metadata": {
        "id": "cc1ece96"
      },
      "source": [
        "### Determine Airport Ranking in Desc. order using PageRank algorithm"
      ]
    },
    {
      "cell_type": "code",
      "execution_count": 28,
      "id": "f754d545",
      "metadata": {
        "id": "f754d545"
      },
      "outputs": [],
      "source": [
        "# Sample 1% of the edges DataFrame to create a smaller subset\n",
        "sampled_edges_df = edges_df.sample(fraction=0.01, seed=42)\n",
        "\n",
        "# Create a new GraphFrame using the sampled edges DataFrame\n",
        "sampled_g = GraphFrame(vertices_df, sampled_edges_df)"
      ]
    },
    {
      "cell_type": "code",
      "source": [
        "results = sampled_g.pageRank(resetProbability=0.15, maxIter=10)\n",
        "results.vertices.select(\"id\", \"pagerank\").orderBy(desc(\"pagerank\")).show()"
      ],
      "metadata": {
        "colab": {
          "base_uri": "https://localhost:8080/"
        },
        "id": "BlYSsxk-tHEI",
        "outputId": "a03593b4-af2f-4aac-a1dd-a80243a9be2d"
      },
      "id": "BlYSsxk-tHEI",
      "execution_count": 29,
      "outputs": [
        {
          "output_type": "stream",
          "name": "stdout",
          "text": [
            "+---+------------------+\n",
            "| id|          pagerank|\n",
            "+---+------------------+\n",
            "|ATL|28.972251142802747|\n",
            "|DFW|22.235881120169132|\n",
            "|ORD| 20.98620855918177|\n",
            "|DEN|15.279574477436306|\n",
            "|LAX|13.995423148618006|\n",
            "|IAH|13.471657301075073|\n",
            "|SFO|11.546641661479331|\n",
            "|PHX|11.229570699109104|\n",
            "|SLC| 9.525621523366365|\n",
            "|LAS|7.8423359421900996|\n",
            "|DTW| 7.367102499612098|\n",
            "|MCO| 7.318610914953621|\n",
            "|SEA| 7.030451887681951|\n",
            "|LGA| 6.758826045392688|\n",
            "|EWR| 6.652304930214718|\n",
            "|MSP|6.5667102172377865|\n",
            "|CLT| 6.454068246017832|\n",
            "|JFK| 6.345773972706368|\n",
            "|BOS| 5.754206887993827|\n",
            "|MIA| 5.342552894228703|\n",
            "+---+------------------+\n",
            "only showing top 20 rows\n",
            "\n"
          ]
        }
      ]
    },
    {
      "cell_type": "markdown",
      "id": "fe1e7648",
      "metadata": {
        "id": "fe1e7648"
      },
      "source": [
        "## Determine the most popular flights (single city hops)"
      ]
    },
    {
      "cell_type": "code",
      "execution_count": 30,
      "id": "da4b3306",
      "metadata": {
        "colab": {
          "base_uri": "https://localhost:8080/"
        },
        "id": "da4b3306",
        "outputId": "d5324e72-5e8b-41c2-b04c-1753577df343"
      },
      "outputs": [
        {
          "output_type": "stream",
          "name": "stdout",
          "text": [
            "+---+---+-----+\n",
            "|src|dst|count|\n",
            "+---+---+-----+\n",
            "|LAX|SFO|   43|\n",
            "|JFK|LAX|   38|\n",
            "|SFO|LAX|   37|\n",
            "|LAX|LAS|   34|\n",
            "|ATL|LGA|   31|\n",
            "|SFO|JFK|   31|\n",
            "|OGG|HNL|   30|\n",
            "|DCA|BOS|   29|\n",
            "|SFO|LAS|   28|\n",
            "|LGA|ATL|   28|\n",
            "+---+---+-----+\n",
            "\n"
          ]
        }
      ],
      "source": [
        "popular_flights = sampled_g.edges.groupBy(\"src\", \"dst\").count().orderBy(desc(\"count\")).limit(10)\n",
        "popular_flights.show()"
      ]
    },
    {
      "cell_type": "markdown",
      "id": "8ebb5e18",
      "metadata": {
        "id": "8ebb5e18"
      },
      "source": [
        "### Find and Save a Subragph that obtained from the following pattern:\n",
        "#### The flight starts from an airport and return back to the same airport through 2 other airports."
      ]
    },
    {
      "cell_type": "code",
      "source": [
        "from pyspark.sql.functions import col\n",
        "\n",
        "motif = sampled_g.find(\"(a)-[e1]->(b); (b)-[e2]->(c); (c)-[e3]->(a)\")"
      ],
      "metadata": {
        "id": "EHCD_vctsx-_"
      },
      "id": "EHCD_vctsx-_",
      "execution_count": 31,
      "outputs": []
    },
    {
      "cell_type": "code",
      "source": [
        "motif.show(5)"
      ],
      "metadata": {
        "colab": {
          "base_uri": "https://localhost:8080/"
        },
        "id": "wyYr1BXctaq4",
        "outputId": "af4394ae-dc62-4bf9-afe3-aa72e0b30e5d"
      },
      "id": "wyYr1BXctaq4",
      "execution_count": 32,
      "outputs": [
        {
          "output_type": "stream",
          "name": "stdout",
          "text": [
            "+--------------------+--------------------+--------------------+--------------------+--------------------+--------------------+\n",
            "|                   a|                  e1|                   b|                  e2|                   c|                  e3|\n",
            "+--------------------+--------------------+--------------------+--------------------+--------------------+--------------------+\n",
            "|[Albuquerque, NM,...|[1030605, 2, 494,...|[Dallas, TX, USA,...|[3091745, 0, 1073...|[Los Angeles, CA,...|[3171915, 45, 589...|\n",
            "|[Albuquerque, NM,...|[1030605, 2, 494,...|[Dallas, TX, USA,...|[3091745, 0, 1073...|[Los Angeles, CA,...|[2190935, -9, 589...|\n",
            "|[Albuquerque, NM,...|[1030605, 2, 494,...|[Dallas, TX, USA,...|[3091745, 0, 1073...|[Los Angeles, CA,...|[2261620, -4, 589...|\n",
            "|[Albuquerque, NM,...|[1030605, 2, 494,...|[Dallas, TX, USA,...|[3091745, 0, 1073...|[Los Angeles, CA,...|[1111540, 7, 589,...|\n",
            "|[Albuquerque, NM,...|[1030605, 2, 494,...|[Dallas, TX, USA,...|[3091745, 0, 1073...|[Los Angeles, CA,...|[1040714, 35, 589...|\n",
            "+--------------------+--------------------+--------------------+--------------------+--------------------+--------------------+\n",
            "only showing top 5 rows\n",
            "\n"
          ]
        }
      ]
    },
    {
      "cell_type": "code",
      "source": [
        "filtered_motif = motif.filter((col(\"a.id\") != col(\"b.id\")) &\n",
        "                              (col(\"b.id\") != col(\"c.id\")) &\n",
        "                              (col(\"a.id\") != col(\"c.id\")))"
      ],
      "metadata": {
        "id": "QMI_9Fcateh3"
      },
      "id": "QMI_9Fcateh3",
      "execution_count": 33,
      "outputs": []
    },
    {
      "cell_type": "code",
      "source": [
        "filtered_motif.show(5)"
      ],
      "metadata": {
        "colab": {
          "base_uri": "https://localhost:8080/"
        },
        "id": "sVlfZLUQtkdE",
        "outputId": "ac4db168-820f-407e-ee8b-5704258089bc"
      },
      "id": "sVlfZLUQtkdE",
      "execution_count": 34,
      "outputs": [
        {
          "output_type": "stream",
          "name": "stdout",
          "text": [
            "+--------------------+--------------------+--------------------+--------------------+--------------------+--------------------+\n",
            "|                   a|                  e1|                   b|                  e2|                   c|                  e3|\n",
            "+--------------------+--------------------+--------------------+--------------------+--------------------+--------------------+\n",
            "|[Albuquerque, NM,...|[1030605, 2, 494,...|[Dallas, TX, USA,...|[3091745, 0, 1073...|[Los Angeles, CA,...|[3171915, 45, 589...|\n",
            "|[Albuquerque, NM,...|[1030605, 2, 494,...|[Dallas, TX, USA,...|[3091745, 0, 1073...|[Los Angeles, CA,...|[2190935, -9, 589...|\n",
            "|[Albuquerque, NM,...|[1030605, 2, 494,...|[Dallas, TX, USA,...|[3091745, 0, 1073...|[Los Angeles, CA,...|[2261620, -4, 589...|\n",
            "|[Albuquerque, NM,...|[1030605, 2, 494,...|[Dallas, TX, USA,...|[3091745, 0, 1073...|[Los Angeles, CA,...|[1111540, 7, 589,...|\n",
            "|[Albuquerque, NM,...|[1030605, 2, 494,...|[Dallas, TX, USA,...|[3091745, 0, 1073...|[Los Angeles, CA,...|[1040714, 35, 589...|\n",
            "+--------------------+--------------------+--------------------+--------------------+--------------------+--------------------+\n",
            "only showing top 5 rows\n",
            "\n"
          ]
        }
      ]
    },
    {
      "cell_type": "code",
      "source": [
        "renamed_motif = filtered_motif.select(\n",
        "    col(\"a.id\").alias(\"airport_a\"),\n",
        "    col(\"b.id\").alias(\"airport_b\"),\n",
        "    col(\"c.id\").alias(\"airport_c\"),\n",
        "    col(\"e1.tripid\").alias(\"tripid_1\"),\n",
        "    col(\"e2.tripid\").alias(\"tripid_2\"),\n",
        "    col(\"e3.tripid\").alias(\"tripid_3\")\n",
        ")"
      ],
      "metadata": {
        "id": "J0cJ0DUMyzYX"
      },
      "id": "J0cJ0DUMyzYX",
      "execution_count": 36,
      "outputs": []
    },
    {
      "cell_type": "code",
      "source": [
        "renamed_motif.show(10)"
      ],
      "metadata": {
        "colab": {
          "base_uri": "https://localhost:8080/"
        },
        "id": "SmfPyDrazAQE",
        "outputId": "266e7d40-02a5-48c1-99ec-fbe024c45697"
      },
      "id": "SmfPyDrazAQE",
      "execution_count": 38,
      "outputs": [
        {
          "output_type": "stream",
          "name": "stdout",
          "text": [
            "+---------+---------+---------+--------+--------+--------+\n",
            "|airport_a|airport_b|airport_c|tripid_1|tripid_2|tripid_3|\n",
            "+---------+---------+---------+--------+--------+--------+\n",
            "|      ABQ|      DFW|      LAX| 1030605| 3091745| 3171915|\n",
            "|      ABQ|      DFW|      LAX| 1030605| 3091745| 2190935|\n",
            "|      ABQ|      DFW|      LAX| 1030605| 3091745| 2261620|\n",
            "|      ABQ|      DFW|      LAX| 1030605| 3091745| 1111540|\n",
            "|      ABQ|      DFW|      LAX| 1030605| 3091745| 1040714|\n",
            "|      ABQ|      DFW|      LAX| 1030605| 3050705| 3171915|\n",
            "|      ABQ|      DFW|      LAX| 1030605| 3050705| 2190935|\n",
            "|      ABQ|      DFW|      LAX| 1030605| 3050705| 2261620|\n",
            "|      ABQ|      DFW|      LAX| 1030605| 3050705| 1111540|\n",
            "|      ABQ|      DFW|      LAX| 1030605| 3050705| 1040714|\n",
            "+---------+---------+---------+--------+--------+--------+\n",
            "only showing top 10 rows\n",
            "\n"
          ]
        }
      ]
    },
    {
      "cell_type": "code",
      "source": [
        "renamed_motif.write.csv('/content/subgraph_sampled.csv')"
      ],
      "metadata": {
        "id": "-QH2gV9yzYJx"
      },
      "id": "-QH2gV9yzYJx",
      "execution_count": 39,
      "outputs": []
    },
    {
      "cell_type": "code",
      "source": [],
      "metadata": {
        "id": "kY_0K_G7tz23"
      },
      "id": "kY_0K_G7tz23",
      "execution_count": null,
      "outputs": []
    }
  ],
  "metadata": {
    "kernelspec": {
      "display_name": "Python 3",
      "name": "python3"
    },
    "language_info": {
      "codemirror_mode": {
        "name": "ipython",
        "version": 3
      },
      "file_extension": ".py",
      "mimetype": "text/x-python",
      "name": "python",
      "nbconvert_exporter": "python",
      "pygments_lexer": "ipython3",
      "version": "3.9.12"
    },
    "colab": {
      "provenance": [],
      "gpuType": "T4"
    },
    "accelerator": "GPU"
  },
  "nbformat": 4,
  "nbformat_minor": 5
}