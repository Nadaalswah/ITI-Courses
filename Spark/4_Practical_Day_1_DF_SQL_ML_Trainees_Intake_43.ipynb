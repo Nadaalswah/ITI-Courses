{
  "cells": [
    {
      "cell_type": "markdown",
      "id": "05f1e8db",
      "metadata": {
        "id": "05f1e8db"
      },
      "source": [
        "# **Labs 1 and 2 PySpark:**\n",
        "\n",
        "In these labs we will be using the \"[[NeurIPS 2020] Data Science for COVID-19 (DS4C)](https://www.kaggle.com/datasets/kimjihoo/coronavirusdataset?select=PatientInfo.csv)\" dataset, retrieved from [Kaggle](https://www.kaggle.com/) on 1/6/2022, for educational non commercial purpose, License\n",
        "[CC BY-NC-SA 4.0\n",
        "](https://creativecommons.org/licenses/by-nc-sa/4.0/)\n",
        "\n",
        "\n",
        "The csv file that we will be using in this lab is **PatientInfo**."
      ]
    },
    {
      "cell_type": "markdown",
      "id": "3ac9bbf0",
      "metadata": {
        "id": "3ac9bbf0"
      },
      "source": [
        "## PatientInfo.csv\n",
        "\n",
        "**patient_id**\n",
        "the ID of the patient\n",
        "\n",
        "**sex**\n",
        "the sex of the patient\n",
        "\n",
        "**age**\n",
        "the age of the patient\n",
        "\n",
        "**country**\n",
        "the country of the patient\n",
        "\n",
        "**province**\n",
        "the province of the patient\n",
        "\n",
        "**city**\n",
        "the city of the patient\n",
        "\n",
        "**infection_case**\n",
        "the case of infection\n",
        "\n",
        "**infected_by**\n",
        "the ID of who infected the patient\n",
        "\n",
        "\n",
        "**contact_number**\n",
        "the number of contacts with people\n",
        "\n",
        "**symptom_onset_date**\n",
        "the date of symptom onset\n",
        "\n",
        "**confirmed_date**\n",
        "the date of being confirmed\n",
        "\n",
        "**released_date**\n",
        "the date of being released\n",
        "\n",
        "**deceased_date**\n",
        "the date of being deceased\n",
        "\n",
        "**state**\n",
        "isolated / released / deceased"
      ]
    },
    {
      "cell_type": "markdown",
      "id": "34b6f619",
      "metadata": {
        "id": "34b6f619"
      },
      "source": [
        "### Import the pyspark and check it's version"
      ]
    },
    {
      "cell_type": "code",
      "source": [
        "pip install pyspark"
      ],
      "metadata": {
        "colab": {
          "base_uri": "https://localhost:8080/"
        },
        "id": "cu3HhrB0YHEu",
        "outputId": "af0d3cf0-e8fc-4448-e257-e79cccd1ecab"
      },
      "id": "cu3HhrB0YHEu",
      "execution_count": 1,
      "outputs": [
        {
          "output_type": "stream",
          "name": "stdout",
          "text": [
            "Collecting pyspark\n",
            "  Downloading pyspark-3.5.1.tar.gz (317.0 MB)\n",
            "\u001b[2K     \u001b[90m━━━━━━━━━━━━━━━━━━━━━━━━━━━━━━━━━━━━━━━━\u001b[0m \u001b[32m317.0/317.0 MB\u001b[0m \u001b[31m3.7 MB/s\u001b[0m eta \u001b[36m0:00:00\u001b[0m\n",
            "\u001b[?25h  Preparing metadata (setup.py) ... \u001b[?25l\u001b[?25hdone\n",
            "Requirement already satisfied: py4j==0.10.9.7 in /usr/local/lib/python3.10/dist-packages (from pyspark) (0.10.9.7)\n",
            "Building wheels for collected packages: pyspark\n",
            "  Building wheel for pyspark (setup.py) ... \u001b[?25l\u001b[?25hdone\n",
            "  Created wheel for pyspark: filename=pyspark-3.5.1-py2.py3-none-any.whl size=317488491 sha256=b50f70ea3172f6a7f824054e8b9afde208362593124c4b98f2637fae466cd5da\n",
            "  Stored in directory: /root/.cache/pip/wheels/80/1d/60/2c256ed38dddce2fdd93be545214a63e02fbd8d74fb0b7f3a6\n",
            "Successfully built pyspark\n",
            "Installing collected packages: pyspark\n",
            "Successfully installed pyspark-3.5.1\n"
          ]
        }
      ]
    },
    {
      "cell_type": "code",
      "execution_count": 2,
      "id": "29fe2ddc",
      "metadata": {
        "colab": {
          "base_uri": "https://localhost:8080/"
        },
        "id": "29fe2ddc",
        "outputId": "ea797483-1586-43f7-b19e-6e9e59cfe581"
      },
      "outputs": [
        {
          "output_type": "stream",
          "name": "stdout",
          "text": [
            "3.5.1\n"
          ]
        }
      ],
      "source": [
        "import pyspark\n",
        "print(pyspark.__version__)"
      ]
    },
    {
      "cell_type": "markdown",
      "id": "70c0fc8e",
      "metadata": {
        "id": "70c0fc8e"
      },
      "source": [
        "### Import and create SparkSession"
      ]
    },
    {
      "cell_type": "code",
      "execution_count": 22,
      "id": "94904228",
      "metadata": {
        "id": "94904228"
      },
      "outputs": [],
      "source": [
        "from pyspark.sql import SparkSession\n",
        "from pyspark.sql.functions import udf\n",
        "from pyspark.sql.types import BooleanType"
      ]
    },
    {
      "cell_type": "markdown",
      "source": [
        "# import libraries"
      ],
      "metadata": {
        "id": "JGvd0ZRRardf"
      },
      "id": "JGvd0ZRRardf"
    },
    {
      "cell_type": "code",
      "source": [
        "from pyspark.sql import functions as F"
      ],
      "metadata": {
        "id": "VjM-gXARapbF"
      },
      "id": "VjM-gXARapbF",
      "execution_count": 11,
      "outputs": []
    },
    {
      "cell_type": "markdown",
      "id": "7356d68d",
      "metadata": {
        "id": "7356d68d"
      },
      "source": [
        "### Load the PatientInfo.csv file and show the first 5 rows"
      ]
    },
    {
      "cell_type": "code",
      "source": [
        "# Create Spark session\n",
        "spark = SparkSession.builder .appName(\"Patient Analysis\") .getOrCreate()"
      ],
      "metadata": {
        "id": "79tlualwYakJ"
      },
      "id": "79tlualwYakJ",
      "execution_count": 4,
      "outputs": []
    },
    {
      "cell_type": "code",
      "execution_count": 5,
      "id": "d5185728",
      "metadata": {
        "colab": {
          "base_uri": "https://localhost:8080/",
          "height": 17
        },
        "id": "d5185728",
        "outputId": "b636193c-b514-42e1-c0cc-dcd151539f7d"
      },
      "outputs": [
        {
          "output_type": "display_data",
          "data": {
            "text/plain": [
              "<IPython.core.display.HTML object>"
            ],
            "text/html": [
              "<style>pre { white-space: pre !important; }</style>"
            ]
          },
          "metadata": {}
        }
      ],
      "source": [
        "from IPython.display import display, HTML\n",
        "display(HTML(\"<style>pre { white-space: pre !important; }</style>\"))"
      ]
    },
    {
      "cell_type": "markdown",
      "id": "4d43bdca",
      "metadata": {
        "id": "4d43bdca"
      },
      "source": [
        "### Display the schema of the dataset"
      ]
    },
    {
      "cell_type": "code",
      "execution_count": 6,
      "id": "c51a2507",
      "metadata": {
        "id": "c51a2507"
      },
      "outputs": [],
      "source": [
        "df = spark.read.csv('/content/PatientInfo.csv', header=True, inferSchema=True)"
      ]
    },
    {
      "cell_type": "code",
      "source": [
        "df.show(5)"
      ],
      "metadata": {
        "colab": {
          "base_uri": "https://localhost:8080/"
        },
        "id": "FV22fVTXZnYi",
        "outputId": "b4aed10a-7239-4333-d14f-c20896635364"
      },
      "id": "FV22fVTXZnYi",
      "execution_count": 7,
      "outputs": [
        {
          "output_type": "stream",
          "name": "stdout",
          "text": [
            "+----------+------+---+-------+--------+-----------+--------------------+-----------+--------------+------------------+--------------+-------------+-------------+--------+\n",
            "|patient_id|   sex|age|country|province|       city|      infection_case|infected_by|contact_number|symptom_onset_date|confirmed_date|released_date|deceased_date|   state|\n",
            "+----------+------+---+-------+--------+-----------+--------------------+-----------+--------------+------------------+--------------+-------------+-------------+--------+\n",
            "|1000000001|  male|50s|  Korea|   Seoul| Gangseo-gu|     overseas inflow|       NULL|            75|        2020-01-22|    2020-01-23|   2020-02-05|         NULL|released|\n",
            "|1000000002|  male|30s|  Korea|   Seoul|Jungnang-gu|     overseas inflow|       NULL|            31|              NULL|    2020-01-30|   2020-03-02|         NULL|released|\n",
            "|1000000003|  male|50s|  Korea|   Seoul|  Jongno-gu|contact with patient| 2002000001|            17|              NULL|    2020-01-30|   2020-02-19|         NULL|released|\n",
            "|1000000004|  male|20s|  Korea|   Seoul|    Mapo-gu|     overseas inflow|       NULL|             9|        2020-01-26|    2020-01-30|   2020-02-15|         NULL|released|\n",
            "|1000000005|female|20s|  Korea|   Seoul|Seongbuk-gu|contact with patient| 1000000002|             2|              NULL|    2020-01-31|   2020-02-24|         NULL|released|\n",
            "+----------+------+---+-------+--------+-----------+--------------------+-----------+--------------+------------------+--------------+-------------+-------------+--------+\n",
            "only showing top 5 rows\n",
            "\n"
          ]
        }
      ]
    },
    {
      "cell_type": "markdown",
      "id": "3114e1dd",
      "metadata": {
        "id": "3114e1dd"
      },
      "source": [
        "### Display the statistical summary"
      ]
    },
    {
      "cell_type": "code",
      "execution_count": 8,
      "id": "18d63947",
      "metadata": {
        "colab": {
          "base_uri": "https://localhost:8080/"
        },
        "id": "18d63947",
        "outputId": "d6c32e31-2749-45c6-9a7f-eaf82ce0a211"
      },
      "outputs": [
        {
          "output_type": "stream",
          "name": "stdout",
          "text": [
            "root\n",
            " |-- patient_id: long (nullable = true)\n",
            " |-- sex: string (nullable = true)\n",
            " |-- age: string (nullable = true)\n",
            " |-- country: string (nullable = true)\n",
            " |-- province: string (nullable = true)\n",
            " |-- city: string (nullable = true)\n",
            " |-- infection_case: string (nullable = true)\n",
            " |-- infected_by: string (nullable = true)\n",
            " |-- contact_number: string (nullable = true)\n",
            " |-- symptom_onset_date: string (nullable = true)\n",
            " |-- confirmed_date: date (nullable = true)\n",
            " |-- released_date: date (nullable = true)\n",
            " |-- deceased_date: date (nullable = true)\n",
            " |-- state: string (nullable = true)\n",
            "\n"
          ]
        }
      ],
      "source": [
        "df.printSchema()"
      ]
    },
    {
      "cell_type": "markdown",
      "id": "c78859b9",
      "metadata": {
        "id": "c78859b9"
      },
      "source": [
        "### Using the state column.\n",
        "### How many people survived (released), and how many didn't survive (isolated/deceased)?"
      ]
    },
    {
      "cell_type": "code",
      "execution_count": 9,
      "id": "63e84045",
      "metadata": {
        "colab": {
          "base_uri": "https://localhost:8080/"
        },
        "id": "63e84045",
        "outputId": "6c1e2f9f-f831-4dcd-9133-dd3c29a9d46e"
      },
      "outputs": [
        {
          "output_type": "stream",
          "name": "stdout",
          "text": [
            "+--------+-----+\n",
            "|   state|count|\n",
            "+--------+-----+\n",
            "|isolated| 2158|\n",
            "|released| 2929|\n",
            "|deceased|   78|\n",
            "+--------+-----+\n",
            "\n"
          ]
        }
      ],
      "source": [
        "df.groupBy('state').count().show()"
      ]
    },
    {
      "cell_type": "markdown",
      "id": "59c16346",
      "metadata": {
        "id": "59c16346"
      },
      "source": [
        "### Display the number of null values in each column"
      ]
    },
    {
      "cell_type": "code",
      "source": [
        "null_counts = df.select([F.sum(F.col(c).isNull().cast(\"int\")).alias(c) for c in df.columns])\n",
        "null_counts.show()"
      ],
      "metadata": {
        "colab": {
          "base_uri": "https://localhost:8080/"
        },
        "id": "bIgBhWLLbPop",
        "outputId": "13539b17-7721-4903-9de3-09f64baa2d98"
      },
      "id": "bIgBhWLLbPop",
      "execution_count": 14,
      "outputs": [
        {
          "output_type": "stream",
          "name": "stdout",
          "text": [
            "+----------+----+----+-------+--------+----+--------------+-----------+--------------+------------------+--------------+-------------+-------------+-----+\n",
            "|patient_id| sex| age|country|province|city|infection_case|infected_by|contact_number|symptom_onset_date|confirmed_date|released_date|deceased_date|state|\n",
            "+----------+----+----+-------+--------+----+--------------+-----------+--------------+------------------+--------------+-------------+-------------+-----+\n",
            "|         0|1122|1380|      0|       0|  94|           919|       3819|          4374|              4475|             3|         3578|         5099|    0|\n",
            "+----------+----+----+-------+--------+----+--------------+-----------+--------------+------------------+--------------+-------------+-------------+-----+\n",
            "\n"
          ]
        }
      ]
    },
    {
      "cell_type": "markdown",
      "id": "c3133f5a",
      "metadata": {
        "id": "c3133f5a"
      },
      "source": [
        "## Data preprocessing"
      ]
    },
    {
      "cell_type": "markdown",
      "id": "ec32fa0c",
      "metadata": {
        "id": "ec32fa0c"
      },
      "source": [
        "### Fill the nulls in the deceased_date with the released_date.\n",
        "- You can use <b>coalesce</b> function"
      ]
    },
    {
      "cell_type": "code",
      "execution_count": 15,
      "id": "d5ba64f9",
      "metadata": {
        "id": "d5ba64f9"
      },
      "outputs": [],
      "source": [
        "df = df.withColumn('deceased_date', F.coalesce(df['deceased_date'], df['released_date']))"
      ]
    },
    {
      "cell_type": "markdown",
      "id": "4ec324f5",
      "metadata": {
        "id": "4ec324f5"
      },
      "source": [
        "### Add a column named no_days which is difference between the deceased_date and the confirmed_date then show the top 5 rows. Print the schema.\n",
        "- <b> Hint: You need to typecast these columns as date first <b>"
      ]
    },
    {
      "cell_type": "code",
      "execution_count": 16,
      "id": "d065e472",
      "metadata": {
        "id": "d065e472"
      },
      "outputs": [],
      "source": [
        "df = df.withColumn('confirmed_date', F.to_date(df['confirmed_date']))\n",
        "df = df.withColumn('deceased_date', F.to_date(df['deceased_date']))"
      ]
    },
    {
      "cell_type": "code",
      "source": [
        "df = df.withColumn('no_days', F.datediff(df['deceased_date'], df['confirmed_date']))"
      ],
      "metadata": {
        "id": "lpCoVhjNeAVu"
      },
      "id": "lpCoVhjNeAVu",
      "execution_count": 17,
      "outputs": []
    },
    {
      "cell_type": "code",
      "source": [
        "df.show(5)"
      ],
      "metadata": {
        "colab": {
          "base_uri": "https://localhost:8080/"
        },
        "id": "2e6UpgcReH3z",
        "outputId": "90343418-0b9a-4341-8870-7ae23fe8fe9d"
      },
      "id": "2e6UpgcReH3z",
      "execution_count": 18,
      "outputs": [
        {
          "output_type": "stream",
          "name": "stdout",
          "text": [
            "+----------+------+---+-------+--------+-----------+--------------------+-----------+--------------+------------------+--------------+-------------+-------------+--------+-------+\n",
            "|patient_id|   sex|age|country|province|       city|      infection_case|infected_by|contact_number|symptom_onset_date|confirmed_date|released_date|deceased_date|   state|no_days|\n",
            "+----------+------+---+-------+--------+-----------+--------------------+-----------+--------------+------------------+--------------+-------------+-------------+--------+-------+\n",
            "|1000000001|  male|50s|  Korea|   Seoul| Gangseo-gu|     overseas inflow|       NULL|            75|        2020-01-22|    2020-01-23|   2020-02-05|   2020-02-05|released|     13|\n",
            "|1000000002|  male|30s|  Korea|   Seoul|Jungnang-gu|     overseas inflow|       NULL|            31|              NULL|    2020-01-30|   2020-03-02|   2020-03-02|released|     32|\n",
            "|1000000003|  male|50s|  Korea|   Seoul|  Jongno-gu|contact with patient| 2002000001|            17|              NULL|    2020-01-30|   2020-02-19|   2020-02-19|released|     20|\n",
            "|1000000004|  male|20s|  Korea|   Seoul|    Mapo-gu|     overseas inflow|       NULL|             9|        2020-01-26|    2020-01-30|   2020-02-15|   2020-02-15|released|     16|\n",
            "|1000000005|female|20s|  Korea|   Seoul|Seongbuk-gu|contact with patient| 1000000002|             2|              NULL|    2020-01-31|   2020-02-24|   2020-02-24|released|     24|\n",
            "+----------+------+---+-------+--------+-----------+--------------------+-----------+--------------+------------------+--------------+-------------+-------------+--------+-------+\n",
            "only showing top 5 rows\n",
            "\n"
          ]
        }
      ]
    },
    {
      "cell_type": "code",
      "source": [
        "df.printSchema()"
      ],
      "metadata": {
        "colab": {
          "base_uri": "https://localhost:8080/"
        },
        "id": "VrrrJGZ0eLpK",
        "outputId": "55272a61-2648-44e8-d912-6029f47e3ac8"
      },
      "id": "VrrrJGZ0eLpK",
      "execution_count": 19,
      "outputs": [
        {
          "output_type": "stream",
          "name": "stdout",
          "text": [
            "root\n",
            " |-- patient_id: long (nullable = true)\n",
            " |-- sex: string (nullable = true)\n",
            " |-- age: string (nullable = true)\n",
            " |-- country: string (nullable = true)\n",
            " |-- province: string (nullable = true)\n",
            " |-- city: string (nullable = true)\n",
            " |-- infection_case: string (nullable = true)\n",
            " |-- infected_by: string (nullable = true)\n",
            " |-- contact_number: string (nullable = true)\n",
            " |-- symptom_onset_date: string (nullable = true)\n",
            " |-- confirmed_date: date (nullable = true)\n",
            " |-- released_date: date (nullable = true)\n",
            " |-- deceased_date: date (nullable = true)\n",
            " |-- state: string (nullable = true)\n",
            " |-- no_days: integer (nullable = true)\n",
            "\n"
          ]
        }
      ]
    },
    {
      "cell_type": "markdown",
      "id": "967b2466",
      "metadata": {
        "id": "967b2466"
      },
      "source": [
        "### Remove null values of sex column.\n",
        "### Add a is_male column if male then it should yield true, else (Female) then False"
      ]
    },
    {
      "cell_type": "code",
      "execution_count": 20,
      "id": "8efe03b5",
      "metadata": {
        "id": "8efe03b5"
      },
      "outputs": [],
      "source": [
        "df = df.na.drop(subset=['sex'])"
      ]
    },
    {
      "cell_type": "code",
      "source": [
        "df = df.withColumn('is_male', F.when(df['sex'] == 'male', True).otherwise(False))"
      ],
      "metadata": {
        "id": "AhcMjhQBiGk5"
      },
      "id": "AhcMjhQBiGk5",
      "execution_count": 21,
      "outputs": []
    },
    {
      "cell_type": "markdown",
      "id": "8603d7c0",
      "metadata": {
        "id": "8603d7c0"
      },
      "source": [
        "### Add a is_dead column if patient state is not released then it should yield true, else then False\n",
        "\n",
        "- Use <b>UDF</b> to perform this task.\n",
        "- However, UDF is not recommended there is no built in function can do the required operation.\n",
        "- UDF is slower than built in functions."
      ]
    },
    {
      "cell_type": "code",
      "execution_count": 23,
      "id": "d3343075",
      "metadata": {
        "id": "d3343075"
      },
      "outputs": [],
      "source": [
        "# Define a UDF to determine if the patient is dead\n",
        "def is_dead(state):\n",
        "    return state != 'released'\n",
        "\n",
        "is_dead_udf = udf(is_dead, BooleanType())\n",
        "\n"
      ]
    },
    {
      "cell_type": "code",
      "source": [
        "\n",
        "df = df.withColumn('is_dead', is_dead_udf(df['state']))"
      ],
      "metadata": {
        "id": "stEL7rZjin-C"
      },
      "id": "stEL7rZjin-C",
      "execution_count": null,
      "outputs": []
    },
    {
      "cell_type": "markdown",
      "id": "e15264a9",
      "metadata": {
        "id": "e15264a9"
      },
      "source": [
        "### Change the ages to bins from 10s, 0s, 10s, 20s,.etc to 0,10, 20"
      ]
    },
    {
      "cell_type": "code",
      "execution_count": 24,
      "id": "7a2b57ed",
      "metadata": {
        "id": "7a2b57ed"
      },
      "outputs": [],
      "source": [
        "df = df.withColumn('age', df['age'].substr(1, 2).cast('int'))"
      ]
    },
    {
      "cell_type": "code",
      "source": [
        "df.show(5)"
      ],
      "metadata": {
        "colab": {
          "base_uri": "https://localhost:8080/"
        },
        "id": "OHs523cBjcHa",
        "outputId": "2043593f-0ce1-4405-e43f-28ca92a5c324"
      },
      "id": "OHs523cBjcHa",
      "execution_count": 25,
      "outputs": [
        {
          "output_type": "stream",
          "name": "stdout",
          "text": [
            "+----------+------+---+-------+--------+-----------+--------------------+-----------+--------------+------------------+--------------+-------------+-------------+--------+-------+-------+-------+\n",
            "|patient_id|   sex|age|country|province|       city|      infection_case|infected_by|contact_number|symptom_onset_date|confirmed_date|released_date|deceased_date|   state|no_days|is_male|is_dead|\n",
            "+----------+------+---+-------+--------+-----------+--------------------+-----------+--------------+------------------+--------------+-------------+-------------+--------+-------+-------+-------+\n",
            "|1000000001|  male| 50|  Korea|   Seoul| Gangseo-gu|     overseas inflow|       NULL|            75|        2020-01-22|    2020-01-23|   2020-02-05|   2020-02-05|released|     13|   true|  false|\n",
            "|1000000002|  male| 30|  Korea|   Seoul|Jungnang-gu|     overseas inflow|       NULL|            31|              NULL|    2020-01-30|   2020-03-02|   2020-03-02|released|     32|   true|  false|\n",
            "|1000000003|  male| 50|  Korea|   Seoul|  Jongno-gu|contact with patient| 2002000001|            17|              NULL|    2020-01-30|   2020-02-19|   2020-02-19|released|     20|   true|  false|\n",
            "|1000000004|  male| 20|  Korea|   Seoul|    Mapo-gu|     overseas inflow|       NULL|             9|        2020-01-26|    2020-01-30|   2020-02-15|   2020-02-15|released|     16|   true|  false|\n",
            "|1000000005|female| 20|  Korea|   Seoul|Seongbuk-gu|contact with patient| 1000000002|             2|              NULL|    2020-01-31|   2020-02-24|   2020-02-24|released|     24|  false|  false|\n",
            "+----------+------+---+-------+--------+-----------+--------------------+-----------+--------------+------------------+--------------+-------------+-------------+--------+-------+-------+-------+\n",
            "only showing top 5 rows\n",
            "\n"
          ]
        }
      ]
    },
    {
      "cell_type": "markdown",
      "id": "43cdf846",
      "metadata": {
        "id": "43cdf846"
      },
      "source": [
        "### Change age, and no_days  to be typecasted as Double"
      ]
    },
    {
      "cell_type": "code",
      "execution_count": 26,
      "id": "dfea7fcb",
      "metadata": {
        "id": "dfea7fcb"
      },
      "outputs": [],
      "source": [
        "df = df.withColumn('age', df['age'].cast('double'))\n",
        "df = df.withColumn('no_days', df['no_days'].cast('double'))"
      ]
    },
    {
      "cell_type": "markdown",
      "id": "d31e3a87",
      "metadata": {
        "id": "d31e3a87"
      },
      "source": [
        "### Drop the columns\n",
        "[\"patient_id\",\"sex\",\"infected_by\",\"contact_number\",\"released_date\",\"state\",\n",
        "\"symptom_onset_date\",\"confirmed_date\",\"deceased_date\",\"country\",\"no_days\",\n",
        "\"city\",\"infection_case\"]"
      ]
    },
    {
      "cell_type": "code",
      "execution_count": 27,
      "id": "3ae0c428",
      "metadata": {
        "id": "3ae0c428"
      },
      "outputs": [],
      "source": [
        "columns_to_drop = [\"patient_id\", \"sex\", \"infected_by\", \"contact_number\", \"released_date\", \"state\",\n",
        "                   \"symptom_onset_date\", \"confirmed_date\", \"deceased_date\", \"country\", \"no_days\",\n",
        "                   \"city\", \"infection_case\"]\n",
        "df_dropped = df.drop(*columns_to_drop)"
      ]
    },
    {
      "cell_type": "code",
      "source": [
        "df_dropped.show(5)"
      ],
      "metadata": {
        "colab": {
          "base_uri": "https://localhost:8080/"
        },
        "id": "-UIsUKPckDWh",
        "outputId": "fa46063b-91e5-4ff9-d9c1-5cf4190b578c"
      },
      "id": "-UIsUKPckDWh",
      "execution_count": 28,
      "outputs": [
        {
          "output_type": "stream",
          "name": "stdout",
          "text": [
            "+----+--------+-------+-------+\n",
            "| age|province|is_male|is_dead|\n",
            "+----+--------+-------+-------+\n",
            "|50.0|   Seoul|   true|  false|\n",
            "|30.0|   Seoul|   true|  false|\n",
            "|50.0|   Seoul|   true|  false|\n",
            "|20.0|   Seoul|   true|  false|\n",
            "|20.0|   Seoul|  false|  false|\n",
            "+----+--------+-------+-------+\n",
            "only showing top 5 rows\n",
            "\n"
          ]
        }
      ]
    },
    {
      "cell_type": "markdown",
      "id": "32df47a6",
      "metadata": {
        "id": "32df47a6"
      },
      "source": [
        "### Recount the number of nulls now"
      ]
    },
    {
      "cell_type": "code",
      "source": [
        "null_counts = df_dropped.select([F.sum(F.col(c).isNull().cast(\"int\")).alias(c) for c in df_dropped.columns])\n",
        "null_counts.show()"
      ],
      "metadata": {
        "colab": {
          "base_uri": "https://localhost:8080/"
        },
        "id": "nSkBMFMpkuyn",
        "outputId": "75c1f8a9-59d4-4124-a289-4d0375ce618a"
      },
      "id": "nSkBMFMpkuyn",
      "execution_count": 31,
      "outputs": [
        {
          "output_type": "stream",
          "name": "stdout",
          "text": [
            "+---+--------+-------+-------+\n",
            "|age|province|is_male|is_dead|\n",
            "+---+--------+-------+-------+\n",
            "|327|       0|      0|      0|\n",
            "+---+--------+-------+-------+\n",
            "\n"
          ]
        }
      ]
    },
    {
      "cell_type": "markdown",
      "id": "cc71f158",
      "metadata": {
        "id": "cc71f158"
      },
      "source": [
        "## Now do the same but using SQL select statement"
      ]
    },
    {
      "cell_type": "markdown",
      "id": "1d540282",
      "metadata": {
        "id": "1d540282"
      },
      "source": [
        "### From the original Patient DataFrame, Create a temporary view (table)."
      ]
    },
    {
      "cell_type": "code",
      "execution_count": 32,
      "id": "cf56099f",
      "metadata": {
        "id": "cf56099f"
      },
      "outputs": [],
      "source": [
        "df.createOrReplaceTempView('view_patient_data')"
      ]
    },
    {
      "cell_type": "markdown",
      "id": "cb004277",
      "metadata": {
        "id": "cb004277"
      },
      "source": [
        "### Use SELECT statement to select all columns from the dataframe and show the output."
      ]
    },
    {
      "cell_type": "code",
      "execution_count": 34,
      "id": "12ae8226",
      "metadata": {
        "scrolled": false,
        "colab": {
          "base_uri": "https://localhost:8080/"
        },
        "id": "12ae8226",
        "outputId": "b8da394e-0799-4ff7-d504-5abe21e61dde"
      },
      "outputs": [
        {
          "output_type": "stream",
          "name": "stdout",
          "text": [
            "+----------+------+----+-------+--------+-----------+--------------------+-----------+--------------+------------------+--------------+-------------+-------------+--------+-------+-------+-------+\n",
            "|patient_id|   sex| age|country|province|       city|      infection_case|infected_by|contact_number|symptom_onset_date|confirmed_date|released_date|deceased_date|   state|no_days|is_male|is_dead|\n",
            "+----------+------+----+-------+--------+-----------+--------------------+-----------+--------------+------------------+--------------+-------------+-------------+--------+-------+-------+-------+\n",
            "|1000000001|  male|50.0|  Korea|   Seoul| Gangseo-gu|     overseas inflow|       NULL|            75|        2020-01-22|    2020-01-23|   2020-02-05|   2020-02-05|released|   13.0|   true|  false|\n",
            "|1000000002|  male|30.0|  Korea|   Seoul|Jungnang-gu|     overseas inflow|       NULL|            31|              NULL|    2020-01-30|   2020-03-02|   2020-03-02|released|   32.0|   true|  false|\n",
            "|1000000003|  male|50.0|  Korea|   Seoul|  Jongno-gu|contact with patient| 2002000001|            17|              NULL|    2020-01-30|   2020-02-19|   2020-02-19|released|   20.0|   true|  false|\n",
            "|1000000004|  male|20.0|  Korea|   Seoul|    Mapo-gu|     overseas inflow|       NULL|             9|        2020-01-26|    2020-01-30|   2020-02-15|   2020-02-15|released|   16.0|   true|  false|\n",
            "|1000000005|female|20.0|  Korea|   Seoul|Seongbuk-gu|contact with patient| 1000000002|             2|              NULL|    2020-01-31|   2020-02-24|   2020-02-24|released|   24.0|  false|  false|\n",
            "+----------+------+----+-------+--------+-----------+--------------------+-----------+--------------+------------------+--------------+-------------+-------------+--------+-------+-------+-------+\n",
            "only showing top 5 rows\n",
            "\n"
          ]
        }
      ],
      "source": [
        "spark.sql('SELECT * FROM view_patient_data').show(5)"
      ]
    },
    {
      "cell_type": "markdown",
      "id": "e0da4318",
      "metadata": {
        "id": "e0da4318"
      },
      "source": [
        "### *Using SQL commands*, limit the output to only 5 rows"
      ]
    },
    {
      "cell_type": "code",
      "execution_count": 35,
      "id": "97911bdd",
      "metadata": {
        "colab": {
          "base_uri": "https://localhost:8080/"
        },
        "id": "97911bdd",
        "outputId": "4f868255-2410-4894-93c3-aa25e6875a36"
      },
      "outputs": [
        {
          "output_type": "stream",
          "name": "stdout",
          "text": [
            "+----------+------+----+-------+--------+-----------+--------------------+-----------+--------------+------------------+--------------+-------------+-------------+--------+-------+-------+-------+\n",
            "|patient_id|   sex| age|country|province|       city|      infection_case|infected_by|contact_number|symptom_onset_date|confirmed_date|released_date|deceased_date|   state|no_days|is_male|is_dead|\n",
            "+----------+------+----+-------+--------+-----------+--------------------+-----------+--------------+------------------+--------------+-------------+-------------+--------+-------+-------+-------+\n",
            "|1000000001|  male|50.0|  Korea|   Seoul| Gangseo-gu|     overseas inflow|       NULL|            75|        2020-01-22|    2020-01-23|   2020-02-05|   2020-02-05|released|   13.0|   true|  false|\n",
            "|1000000002|  male|30.0|  Korea|   Seoul|Jungnang-gu|     overseas inflow|       NULL|            31|              NULL|    2020-01-30|   2020-03-02|   2020-03-02|released|   32.0|   true|  false|\n",
            "|1000000003|  male|50.0|  Korea|   Seoul|  Jongno-gu|contact with patient| 2002000001|            17|              NULL|    2020-01-30|   2020-02-19|   2020-02-19|released|   20.0|   true|  false|\n",
            "|1000000004|  male|20.0|  Korea|   Seoul|    Mapo-gu|     overseas inflow|       NULL|             9|        2020-01-26|    2020-01-30|   2020-02-15|   2020-02-15|released|   16.0|   true|  false|\n",
            "|1000000005|female|20.0|  Korea|   Seoul|Seongbuk-gu|contact with patient| 1000000002|             2|              NULL|    2020-01-31|   2020-02-24|   2020-02-24|released|   24.0|  false|  false|\n",
            "+----------+------+----+-------+--------+-----------+--------------------+-----------+--------------+------------------+--------------+-------------+-------------+--------+-------+-------+-------+\n",
            "\n"
          ]
        }
      ],
      "source": [
        "spark.sql('SELECT * FROM view_patient_data LIMIT 5').show()"
      ]
    },
    {
      "cell_type": "markdown",
      "id": "b70edf17",
      "metadata": {
        "id": "b70edf17"
      },
      "source": [
        "### Select the count of males and females in the dataset"
      ]
    },
    {
      "cell_type": "code",
      "execution_count": 36,
      "id": "00e9fd65",
      "metadata": {
        "colab": {
          "base_uri": "https://localhost:8080/"
        },
        "id": "00e9fd65",
        "outputId": "9711b5fc-c87d-4bb6-c245-447f64d89a35"
      },
      "outputs": [
        {
          "output_type": "stream",
          "name": "stdout",
          "text": [
            "+------+-----+\n",
            "|   sex|count|\n",
            "+------+-----+\n",
            "|female| 2218|\n",
            "|  male| 1825|\n",
            "+------+-----+\n",
            "\n"
          ]
        }
      ],
      "source": [
        "spark.sql('SELECT sex, COUNT(*) as count FROM view_patient_data GROUP BY sex').show()"
      ]
    },
    {
      "cell_type": "markdown",
      "id": "73683674",
      "metadata": {
        "id": "73683674"
      },
      "source": [
        "### How many people did survive, and how many didn't?"
      ]
    },
    {
      "cell_type": "code",
      "execution_count": 37,
      "id": "1e5a3908",
      "metadata": {
        "colab": {
          "base_uri": "https://localhost:8080/"
        },
        "id": "1e5a3908",
        "outputId": "2a6725fb-9c1a-41ac-f5fd-ca8f0bb15d83"
      },
      "outputs": [
        {
          "output_type": "stream",
          "name": "stdout",
          "text": [
            "+--------+-----+\n",
            "|   state|count|\n",
            "+--------+-----+\n",
            "|isolated| 1454|\n",
            "|released| 2514|\n",
            "|deceased|   75|\n",
            "+--------+-----+\n",
            "\n"
          ]
        }
      ],
      "source": [
        "spark.sql('SELECT state, COUNT(*) as count FROM view_patient_data GROUP BY state').show()"
      ]
    },
    {
      "cell_type": "markdown",
      "id": "d4424228",
      "metadata": {
        "id": "d4424228"
      },
      "source": [
        "### Now, let's perform some preprocessing using SQL:\n",
        "1. Convert *age* column to double after removing the 's' at the end -- *hint: check SUBSTRING method*\n",
        "2. Select only the following columns: `['sex', 'age', 'province', 'state']`\n",
        "3. Store the result of the query in a new dataframe"
      ]
    },
    {
      "cell_type": "code",
      "execution_count": 39,
      "id": "16994e4d",
      "metadata": {
        "colab": {
          "base_uri": "https://localhost:8080/"
        },
        "id": "16994e4d",
        "outputId": "d5cca678-cbe5-420c-dfc5-92a852bb73e4"
      },
      "outputs": [
        {
          "output_type": "execute_result",
          "data": {
            "text/plain": [
              "DataFrame[]"
            ]
          },
          "metadata": {},
          "execution_count": 39
        }
      ],
      "source": [
        "# Create a temporary view with age converted to double\n",
        "spark.sql(\"\"\"\n",
        "    CREATE OR REPLACE TEMP VIEW view_patient_data_step1 AS\n",
        "    SELECT\n",
        "        sex,\n",
        "        CAST(SUBSTRING(age, 1, LENGTH(age) - 1) AS DOUBLE) as age,\n",
        "        province,\n",
        "        state\n",
        "    FROM view_patient_data\n",
        "\"\"\")"
      ]
    },
    {
      "cell_type": "code",
      "execution_count": 40,
      "id": "d3cf4f0f",
      "metadata": {
        "scrolled": true,
        "colab": {
          "base_uri": "https://localhost:8080/"
        },
        "id": "d3cf4f0f",
        "outputId": "c5ae695f-ad4d-4c44-efee-29ffec6a9d4e"
      },
      "outputs": [
        {
          "output_type": "execute_result",
          "data": {
            "text/plain": [
              "DataFrame[]"
            ]
          },
          "metadata": {},
          "execution_count": 40
        }
      ],
      "source": [
        "# Select only the required columns and create a new temporary view\n",
        "spark.sql(\"\"\"\n",
        "    CREATE OR REPLACE TEMP VIEW view_patient_data_step2 AS\n",
        "    SELECT\n",
        "        sex,\n",
        "        age,\n",
        "        province,\n",
        "        state\n",
        "    FROM view_patient_data_step1\n",
        "\"\"\")"
      ]
    },
    {
      "cell_type": "code",
      "execution_count": 41,
      "id": "791ec1b8",
      "metadata": {
        "colab": {
          "base_uri": "https://localhost:8080/"
        },
        "id": "791ec1b8",
        "outputId": "56a3300d-2eb0-4c6c-880f-70d0ae86bbee"
      },
      "outputs": [
        {
          "output_type": "stream",
          "name": "stdout",
          "text": [
            "+------+----+--------+--------+\n",
            "|   sex| age|province|   state|\n",
            "+------+----+--------+--------+\n",
            "|  male|50.0|   Seoul|released|\n",
            "|  male|30.0|   Seoul|released|\n",
            "|  male|50.0|   Seoul|released|\n",
            "|  male|20.0|   Seoul|released|\n",
            "|female|20.0|   Seoul|released|\n",
            "+------+----+--------+--------+\n",
            "only showing top 5 rows\n",
            "\n"
          ]
        }
      ],
      "source": [
        "# Store the result in a new DataFrame\n",
        "result_df = spark.sql(\"\"\"\n",
        "    SELECT\n",
        "        sex,\n",
        "        age,\n",
        "        province,\n",
        "        state\n",
        "    FROM view_patient_data_step2\n",
        "\"\"\")\n",
        "\n",
        "# Show the result\n",
        "result_df.show(5)"
      ]
    },
    {
      "cell_type": "markdown",
      "source": [
        "## OR we can use it ..."
      ],
      "metadata": {
        "id": "WrY-d5R-mlCc"
      },
      "id": "WrY-d5R-mlCc"
    },
    {
      "cell_type": "code",
      "execution_count": 38,
      "id": "61c70bc8",
      "metadata": {
        "colab": {
          "base_uri": "https://localhost:8080/"
        },
        "id": "61c70bc8",
        "outputId": "5b437031-6927-48ad-f2fc-2729b2c401bc"
      },
      "outputs": [
        {
          "output_type": "stream",
          "name": "stdout",
          "text": [
            "+------+----+--------+--------+\n",
            "|   sex| age|province|   state|\n",
            "+------+----+--------+--------+\n",
            "|  male|50.0|   Seoul|released|\n",
            "|  male|30.0|   Seoul|released|\n",
            "|  male|50.0|   Seoul|released|\n",
            "|  male|20.0|   Seoul|released|\n",
            "|female|20.0|   Seoul|released|\n",
            "+------+----+--------+--------+\n",
            "only showing top 5 rows\n",
            "\n"
          ]
        }
      ],
      "source": [
        "result_df2= spark.sql(\"\"\"\n",
        "    SELECT\n",
        "        sex,\n",
        "        CAST(SUBSTRING(age, 1, LENGTH(age) - 1) AS DOUBLE) as age,\n",
        "        province,\n",
        "        state\n",
        "    FROM view_patient_data\n",
        "\"\"\")\n",
        "\n",
        "# Show the result\n",
        "result_df2.show(5)"
      ]
    },
    {
      "cell_type": "markdown",
      "id": "d4a24c24",
      "metadata": {
        "id": "d4a24c24"
      },
      "source": [
        "## Machine Learning\n",
        "### Create a pipeline model to predict is_dead and evaluate the performance.\n",
        "- Use <b>StringIndexer</b> to transform <b>string</b> data type to indices.\n",
        "- Use <b>OneHotEncoder</b> to deal with categorical values.\n",
        "- Use <b>Imputer</b> to fill missing data with mean."
      ]
    },
    {
      "cell_type": "code",
      "execution_count": 64,
      "id": "7a71806f",
      "metadata": {
        "id": "7a71806f"
      },
      "outputs": [],
      "source": [
        "from pyspark.ml import Pipeline\n",
        "from pyspark.ml.feature import StringIndexer, OneHotEncoder, Imputer, VectorAssembler\n",
        "from pyspark.ml.classification import LogisticRegression\n",
        "from pyspark.ml.evaluation import BinaryClassificationEvaluator\n",
        "from pyspark.sql.functions import col\n",
        "from pyspark.sql.types import IntegerType"
      ]
    },
    {
      "cell_type": "code",
      "source": [
        "selected_columns = ['age', 'sex', 'province', 'is_dead']\n",
        "data = df.select(*selected_columns)"
      ],
      "metadata": {
        "id": "N0_CY8YOyRvg"
      },
      "id": "N0_CY8YOyRvg",
      "execution_count": 53,
      "outputs": []
    },
    {
      "cell_type": "code",
      "source": [
        "data.show(5)"
      ],
      "metadata": {
        "colab": {
          "base_uri": "https://localhost:8080/"
        },
        "id": "k1XrRbbOztYG",
        "outputId": "d5c55526-4420-4c76-abcf-77527b96ab66"
      },
      "id": "k1XrRbbOztYG",
      "execution_count": 54,
      "outputs": [
        {
          "output_type": "stream",
          "name": "stdout",
          "text": [
            "+----+------+--------+-------+\n",
            "| age|   sex|province|is_dead|\n",
            "+----+------+--------+-------+\n",
            "|50.0|  male|   Seoul|  false|\n",
            "|30.0|  male|   Seoul|  false|\n",
            "|50.0|  male|   Seoul|  false|\n",
            "|20.0|  male|   Seoul|  false|\n",
            "|20.0|female|   Seoul|  false|\n",
            "+----+------+--------+-------+\n",
            "only showing top 5 rows\n",
            "\n"
          ]
        }
      ]
    },
    {
      "cell_type": "code",
      "source": [
        "data = data.dropna(subset=[col_name for col_name in selected_columns if col_name != 'is_dead'])\n"
      ],
      "metadata": {
        "id": "wRqex2iez4VX"
      },
      "id": "wRqex2iez4VX",
      "execution_count": 55,
      "outputs": []
    },
    {
      "cell_type": "code",
      "source": [
        "data = data.withColumn('is_dead', data['is_dead'].cast(IntegerType()))"
      ],
      "metadata": {
        "id": "3zKnAMc-0kKQ"
      },
      "id": "3zKnAMc-0kKQ",
      "execution_count": 65,
      "outputs": []
    },
    {
      "cell_type": "code",
      "source": [
        "train_data, test_data = data.randomSplit([0.8, 0.2], seed=42)\n"
      ],
      "metadata": {
        "id": "TxEmIghaz7VP"
      },
      "id": "TxEmIghaz7VP",
      "execution_count": 66,
      "outputs": []
    },
    {
      "cell_type": "code",
      "source": [
        "sex_indexer = StringIndexer(inputCol='sex', outputCol='sex_index')\n",
        "province_indexer = StringIndexer(inputCol='province', outputCol='province_index')\n",
        "sex_encoder = OneHotEncoder(inputCol='sex_index', outputCol='sex_vec')\n",
        "province_encoder = OneHotEncoder(inputCol='province_index', outputCol='province_vec')"
      ],
      "metadata": {
        "id": "ShpcsY_N0BR1"
      },
      "id": "ShpcsY_N0BR1",
      "execution_count": 67,
      "outputs": []
    },
    {
      "cell_type": "code",
      "source": [
        "imputer = Imputer(inputCols=['age'], outputCols=['age'])\n",
        "assembler = VectorAssembler(inputCols=['age', 'sex_vec', 'province_vec'], outputCol='features')"
      ],
      "metadata": {
        "id": "hcZZjzR40GwV"
      },
      "id": "hcZZjzR40GwV",
      "execution_count": 68,
      "outputs": []
    },
    {
      "cell_type": "code",
      "source": [
        "log_reg = LogisticRegression(featuresCol='features', labelCol='is_dead')"
      ],
      "metadata": {
        "id": "T2aLGmWKnYK4"
      },
      "id": "T2aLGmWKnYK4",
      "execution_count": 69,
      "outputs": []
    },
    {
      "cell_type": "code",
      "source": [
        "# Create pipeline\n",
        "pipeline = Pipeline(stages=[sex_indexer, province_indexer, sex_encoder, province_encoder, imputer, assembler, log_reg])"
      ],
      "metadata": {
        "id": "95Ybexko0Q1M"
      },
      "id": "95Ybexko0Q1M",
      "execution_count": 70,
      "outputs": []
    },
    {
      "cell_type": "code",
      "source": [
        "# Fit the pipeline to training data\n",
        "pipeline_model = pipeline.fit(train_data)\n"
      ],
      "metadata": {
        "id": "56blRJSOoeRA"
      },
      "id": "56blRJSOoeRA",
      "execution_count": 71,
      "outputs": []
    },
    {
      "cell_type": "code",
      "source": [
        "# Make predictions on test data\n",
        "predictions = pipeline_model.transform(test_data)"
      ],
      "metadata": {
        "id": "0tra2C0Qohfh"
      },
      "id": "0tra2C0Qohfh",
      "execution_count": 72,
      "outputs": []
    },
    {
      "cell_type": "code",
      "source": [
        "# Evaluate performance\n",
        "evaluator = BinaryClassificationEvaluator(labelCol='is_dead')\n",
        "accuracy = evaluator.evaluate(predictions)"
      ],
      "metadata": {
        "id": "pG8kKjYNono9"
      },
      "id": "pG8kKjYNono9",
      "execution_count": 73,
      "outputs": []
    },
    {
      "cell_type": "code",
      "source": [
        "print(\"Accuracy:\", accuracy)"
      ],
      "metadata": {
        "colab": {
          "base_uri": "https://localhost:8080/"
        },
        "id": "BiTveALS0yvq",
        "outputId": "50beb97c-804c-48af-e461-146788fbdc5c"
      },
      "id": "BiTveALS0yvq",
      "execution_count": 74,
      "outputs": [
        {
          "output_type": "stream",
          "name": "stdout",
          "text": [
            "Accuracy: 0.9048481431220015\n"
          ]
        }
      ]
    },
    {
      "cell_type": "code",
      "source": [],
      "metadata": {
        "id": "q-TtCNe-02x7"
      },
      "id": "q-TtCNe-02x7",
      "execution_count": null,
      "outputs": []
    }
  ],
  "metadata": {
    "kernelspec": {
      "display_name": "Python 3 (ipykernel)",
      "language": "python",
      "name": "python3"
    },
    "language_info": {
      "codemirror_mode": {
        "name": "ipython",
        "version": 3
      },
      "file_extension": ".py",
      "mimetype": "text/x-python",
      "name": "python",
      "nbconvert_exporter": "python",
      "pygments_lexer": "ipython3",
      "version": "3.11.4"
    },
    "colab": {
      "provenance": []
    }
  },
  "nbformat": 4,
  "nbformat_minor": 5
}