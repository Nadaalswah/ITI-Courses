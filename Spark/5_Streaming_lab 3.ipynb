{
  "cells": [
    {
      "cell_type": "code",
      "source": [
        "from google.colab import files\n",
        "uploaded = files.upload()"
      ],
      "metadata": {
        "colab": {
          "base_uri": "https://localhost:8080/",
          "height": 73
        },
        "id": "cQNoX270RVOi",
        "outputId": "d75a1ec3-0a95-4c65-bc2a-6a7dceed50ba"
      },
      "id": "cQNoX270RVOi",
      "execution_count": 5,
      "outputs": [
        {
          "output_type": "display_data",
          "data": {
            "text/plain": [
              "<IPython.core.display.HTML object>"
            ],
            "text/html": [
              "\n",
              "     <input type=\"file\" id=\"files-01af2d85-4b67-4024-8358-e34b2759de08\" name=\"files[]\" multiple disabled\n",
              "        style=\"border:none\" />\n",
              "     <output id=\"result-01af2d85-4b67-4024-8358-e34b2759de08\">\n",
              "      Upload widget is only available when the cell has been executed in the\n",
              "      current browser session. Please rerun this cell to enable.\n",
              "      </output>\n",
              "      <script>// Copyright 2017 Google LLC\n",
              "//\n",
              "// Licensed under the Apache License, Version 2.0 (the \"License\");\n",
              "// you may not use this file except in compliance with the License.\n",
              "// You may obtain a copy of the License at\n",
              "//\n",
              "//      http://www.apache.org/licenses/LICENSE-2.0\n",
              "//\n",
              "// Unless required by applicable law or agreed to in writing, software\n",
              "// distributed under the License is distributed on an \"AS IS\" BASIS,\n",
              "// WITHOUT WARRANTIES OR CONDITIONS OF ANY KIND, either express or implied.\n",
              "// See the License for the specific language governing permissions and\n",
              "// limitations under the License.\n",
              "\n",
              "/**\n",
              " * @fileoverview Helpers for google.colab Python module.\n",
              " */\n",
              "(function(scope) {\n",
              "function span(text, styleAttributes = {}) {\n",
              "  const element = document.createElement('span');\n",
              "  element.textContent = text;\n",
              "  for (const key of Object.keys(styleAttributes)) {\n",
              "    element.style[key] = styleAttributes[key];\n",
              "  }\n",
              "  return element;\n",
              "}\n",
              "\n",
              "// Max number of bytes which will be uploaded at a time.\n",
              "const MAX_PAYLOAD_SIZE = 100 * 1024;\n",
              "\n",
              "function _uploadFiles(inputId, outputId) {\n",
              "  const steps = uploadFilesStep(inputId, outputId);\n",
              "  const outputElement = document.getElementById(outputId);\n",
              "  // Cache steps on the outputElement to make it available for the next call\n",
              "  // to uploadFilesContinue from Python.\n",
              "  outputElement.steps = steps;\n",
              "\n",
              "  return _uploadFilesContinue(outputId);\n",
              "}\n",
              "\n",
              "// This is roughly an async generator (not supported in the browser yet),\n",
              "// where there are multiple asynchronous steps and the Python side is going\n",
              "// to poll for completion of each step.\n",
              "// This uses a Promise to block the python side on completion of each step,\n",
              "// then passes the result of the previous step as the input to the next step.\n",
              "function _uploadFilesContinue(outputId) {\n",
              "  const outputElement = document.getElementById(outputId);\n",
              "  const steps = outputElement.steps;\n",
              "\n",
              "  const next = steps.next(outputElement.lastPromiseValue);\n",
              "  return Promise.resolve(next.value.promise).then((value) => {\n",
              "    // Cache the last promise value to make it available to the next\n",
              "    // step of the generator.\n",
              "    outputElement.lastPromiseValue = value;\n",
              "    return next.value.response;\n",
              "  });\n",
              "}\n",
              "\n",
              "/**\n",
              " * Generator function which is called between each async step of the upload\n",
              " * process.\n",
              " * @param {string} inputId Element ID of the input file picker element.\n",
              " * @param {string} outputId Element ID of the output display.\n",
              " * @return {!Iterable<!Object>} Iterable of next steps.\n",
              " */\n",
              "function* uploadFilesStep(inputId, outputId) {\n",
              "  const inputElement = document.getElementById(inputId);\n",
              "  inputElement.disabled = false;\n",
              "\n",
              "  const outputElement = document.getElementById(outputId);\n",
              "  outputElement.innerHTML = '';\n",
              "\n",
              "  const pickedPromise = new Promise((resolve) => {\n",
              "    inputElement.addEventListener('change', (e) => {\n",
              "      resolve(e.target.files);\n",
              "    });\n",
              "  });\n",
              "\n",
              "  const cancel = document.createElement('button');\n",
              "  inputElement.parentElement.appendChild(cancel);\n",
              "  cancel.textContent = 'Cancel upload';\n",
              "  const cancelPromise = new Promise((resolve) => {\n",
              "    cancel.onclick = () => {\n",
              "      resolve(null);\n",
              "    };\n",
              "  });\n",
              "\n",
              "  // Wait for the user to pick the files.\n",
              "  const files = yield {\n",
              "    promise: Promise.race([pickedPromise, cancelPromise]),\n",
              "    response: {\n",
              "      action: 'starting',\n",
              "    }\n",
              "  };\n",
              "\n",
              "  cancel.remove();\n",
              "\n",
              "  // Disable the input element since further picks are not allowed.\n",
              "  inputElement.disabled = true;\n",
              "\n",
              "  if (!files) {\n",
              "    return {\n",
              "      response: {\n",
              "        action: 'complete',\n",
              "      }\n",
              "    };\n",
              "  }\n",
              "\n",
              "  for (const file of files) {\n",
              "    const li = document.createElement('li');\n",
              "    li.append(span(file.name, {fontWeight: 'bold'}));\n",
              "    li.append(span(\n",
              "        `(${file.type || 'n/a'}) - ${file.size} bytes, ` +\n",
              "        `last modified: ${\n",
              "            file.lastModifiedDate ? file.lastModifiedDate.toLocaleDateString() :\n",
              "                                    'n/a'} - `));\n",
              "    const percent = span('0% done');\n",
              "    li.appendChild(percent);\n",
              "\n",
              "    outputElement.appendChild(li);\n",
              "\n",
              "    const fileDataPromise = new Promise((resolve) => {\n",
              "      const reader = new FileReader();\n",
              "      reader.onload = (e) => {\n",
              "        resolve(e.target.result);\n",
              "      };\n",
              "      reader.readAsArrayBuffer(file);\n",
              "    });\n",
              "    // Wait for the data to be ready.\n",
              "    let fileData = yield {\n",
              "      promise: fileDataPromise,\n",
              "      response: {\n",
              "        action: 'continue',\n",
              "      }\n",
              "    };\n",
              "\n",
              "    // Use a chunked sending to avoid message size limits. See b/62115660.\n",
              "    let position = 0;\n",
              "    do {\n",
              "      const length = Math.min(fileData.byteLength - position, MAX_PAYLOAD_SIZE);\n",
              "      const chunk = new Uint8Array(fileData, position, length);\n",
              "      position += length;\n",
              "\n",
              "      const base64 = btoa(String.fromCharCode.apply(null, chunk));\n",
              "      yield {\n",
              "        response: {\n",
              "          action: 'append',\n",
              "          file: file.name,\n",
              "          data: base64,\n",
              "        },\n",
              "      };\n",
              "\n",
              "      let percentDone = fileData.byteLength === 0 ?\n",
              "          100 :\n",
              "          Math.round((position / fileData.byteLength) * 100);\n",
              "      percent.textContent = `${percentDone}% done`;\n",
              "\n",
              "    } while (position < fileData.byteLength);\n",
              "  }\n",
              "\n",
              "  // All done.\n",
              "  yield {\n",
              "    response: {\n",
              "      action: 'complete',\n",
              "    }\n",
              "  };\n",
              "}\n",
              "\n",
              "scope.google = scope.google || {};\n",
              "scope.google.colab = scope.google.colab || {};\n",
              "scope.google.colab._files = {\n",
              "  _uploadFiles,\n",
              "  _uploadFilesContinue,\n",
              "};\n",
              "})(self);\n",
              "</script> "
            ]
          },
          "metadata": {}
        },
        {
          "output_type": "stream",
          "name": "stdout",
          "text": [
            "Saving kospi.zip to kospi.zip\n"
          ]
        }
      ]
    },
    {
      "cell_type": "code",
      "source": [
        "import zipfile\n",
        "import io\n",
        "\n",
        "zip_ref = zipfile.ZipFile(io.BytesIO(uploaded['kospi.zip']), 'r')\n",
        "zip_ref.extractall(\"/content/kospi\")\n",
        "zip_ref.close()"
      ],
      "metadata": {
        "id": "mSHmIVXvRmNU"
      },
      "id": "mSHmIVXvRmNU",
      "execution_count": 7,
      "outputs": []
    },
    {
      "cell_type": "code",
      "execution_count": 1,
      "id": "60f97978",
      "metadata": {
        "colab": {
          "base_uri": "https://localhost:8080/"
        },
        "id": "60f97978",
        "outputId": "5cd7ee45-c739-4c43-d354-115ac69c92af"
      },
      "outputs": [
        {
          "output_type": "stream",
          "name": "stdout",
          "text": [
            "Collecting pyspark\n",
            "  Downloading pyspark-3.5.1.tar.gz (317.0 MB)\n",
            "\u001b[2K     \u001b[90m━━━━━━━━━━━━━━━━━━━━━━━━━━━━━━━━━━━━━━━━\u001b[0m \u001b[32m317.0/317.0 MB\u001b[0m \u001b[31m3.2 MB/s\u001b[0m eta \u001b[36m0:00:00\u001b[0m\n",
            "\u001b[?25h  Preparing metadata (setup.py) ... \u001b[?25l\u001b[?25hdone\n",
            "Requirement already satisfied: py4j==0.10.9.7 in /usr/local/lib/python3.10/dist-packages (from pyspark) (0.10.9.7)\n",
            "Building wheels for collected packages: pyspark\n",
            "  Building wheel for pyspark (setup.py) ... \u001b[?25l\u001b[?25hdone\n",
            "  Created wheel for pyspark: filename=pyspark-3.5.1-py2.py3-none-any.whl size=317488491 sha256=5a7d0d8d1a7a62ae50bc714e606f46d024cbd9ffa4191ac41704b49635298bc6\n",
            "  Stored in directory: /root/.cache/pip/wheels/80/1d/60/2c256ed38dddce2fdd93be545214a63e02fbd8d74fb0b7f3a6\n",
            "Successfully built pyspark\n",
            "Installing collected packages: pyspark\n",
            "Successfully installed pyspark-3.5.1\n"
          ]
        }
      ],
      "source": [
        "pip install pyspark"
      ]
    },
    {
      "cell_type": "code",
      "source": [
        "from pyspark.sql import SparkSession\n",
        "from pyspark.sql.types import StructType, StructField, StringType, DateType, DoubleType, IntegerType"
      ],
      "metadata": {
        "id": "MSBejsEsQRHp"
      },
      "id": "MSBejsEsQRHp",
      "execution_count": 12,
      "outputs": []
    },
    {
      "cell_type": "code",
      "execution_count": 3,
      "id": "201cee8c",
      "metadata": {
        "colab": {
          "base_uri": "https://localhost:8080/",
          "height": 17
        },
        "id": "201cee8c",
        "outputId": "daec9239-70e9-47b0-a3b7-8c5a3f07cca1"
      },
      "outputs": [
        {
          "output_type": "display_data",
          "data": {
            "text/plain": [
              "<IPython.core.display.HTML object>"
            ],
            "text/html": [
              "<style>pre { white-space: pre !important; }</style>"
            ]
          },
          "metadata": {}
        }
      ],
      "source": [
        "from IPython.display import display, HTML\n",
        "display(HTML(\"<style>pre { white-space: pre !important; }</style>\"))"
      ]
    },
    {
      "cell_type": "code",
      "source": [
        "spark = SparkSession.builder \\\n",
        "    .appName(\"Streaming\") \\\n",
        "    .getOrCreate()"
      ],
      "metadata": {
        "id": "2xCsP93AQecf"
      },
      "id": "2xCsP93AQecf",
      "execution_count": 4,
      "outputs": []
    },
    {
      "cell_type": "markdown",
      "id": "efac8040",
      "metadata": {
        "id": "efac8040"
      },
      "source": [
        "### Create the schema of the streamed files (check the column names and types from the CSV files)"
      ]
    },
    {
      "cell_type": "code",
      "source": [
        "example_df=spark.read.option(\"header\", \"true\").option(\"inferSchema\", \"true\").csv(\"/content/kospi/kospi/KOSPI_STOCK_1.csv\")"
      ],
      "metadata": {
        "id": "S5b_rbaoRRV3"
      },
      "id": "S5b_rbaoRRV3",
      "execution_count": 8,
      "outputs": []
    },
    {
      "cell_type": "code",
      "execution_count": 9,
      "id": "c4674d5d",
      "metadata": {
        "colab": {
          "base_uri": "https://localhost:8080/"
        },
        "id": "c4674d5d",
        "outputId": "bac517ed-6f5f-4fa3-ecca-fccd7e4a26e9"
      },
      "outputs": [
        {
          "output_type": "stream",
          "name": "stdout",
          "text": [
            "+---+----------+------------+------------+------------+------------+------------+------+\n",
            "|_c0|      Date|        Open|        High|         Low|       Close|   Adj Close|Volume|\n",
            "+---+----------+------------+------------+------------+------------+------------+------+\n",
            "| 40|2000-02-29|25163.699219|26087.699219|24239.599609|25519.099609|24115.490234|233246|\n",
            "| 41|2000-03-01|25519.099609|25519.099609|25519.099609|25519.099609|24115.490234|     0|\n",
            "| 42|2000-03-02|25767.900391|29144.300781|25767.900391|28575.699219|27003.972656|408391|\n",
            "| 43|2000-03-03|27793.800781|29499.800781|26798.599609|27864.800781|26332.175781|216505|\n",
            "| 44|2000-03-06|28291.300781|29144.300781|27367.300781|28717.800781|27138.255859|170784|\n",
            "+---+----------+------------+------------+------------+------------+------------+------+\n",
            "only showing top 5 rows\n",
            "\n"
          ]
        }
      ],
      "source": [
        "example_df.show(5)"
      ]
    },
    {
      "cell_type": "code",
      "source": [
        "example_df.printSchema()"
      ],
      "metadata": {
        "colab": {
          "base_uri": "https://localhost:8080/"
        },
        "id": "gJCPu4VCTBZX",
        "outputId": "d5184790-0024-456c-a85a-34511f5f93b9"
      },
      "id": "gJCPu4VCTBZX",
      "execution_count": 10,
      "outputs": [
        {
          "output_type": "stream",
          "name": "stdout",
          "text": [
            "root\n",
            " |-- _c0: integer (nullable = true)\n",
            " |-- Date: date (nullable = true)\n",
            " |-- Open: double (nullable = true)\n",
            " |-- High: double (nullable = true)\n",
            " |-- Low: double (nullable = true)\n",
            " |-- Close: double (nullable = true)\n",
            " |-- Adj Close: double (nullable = true)\n",
            " |-- Volume: integer (nullable = true)\n",
            "\n"
          ]
        }
      ]
    },
    {
      "cell_type": "code",
      "source": [
        "schema = StructType([\n",
        "    StructField(\"ID\", IntegerType(), True),\n",
        "    StructField(\"Date\", DateType(), True),\n",
        "    StructField(\"Open\", DoubleType(), True),\n",
        "    StructField(\"High\", DoubleType(), True),\n",
        "    StructField(\"Low\", DoubleType(), True),\n",
        "    StructField(\"Close\", DoubleType(), True),\n",
        "    StructField(\"Adj Close\", DoubleType(), True),\n",
        "    StructField(\"Volume\", IntegerType(), True)\n",
        "])"
      ],
      "metadata": {
        "id": "12xl83HHTeHJ"
      },
      "id": "12xl83HHTeHJ",
      "execution_count": 21,
      "outputs": []
    },
    {
      "cell_type": "markdown",
      "id": "4f50fbeb",
      "metadata": {
        "id": "4f50fbeb"
      },
      "source": [
        "### Create the dataframe by reading the stream using format \"csv\" and the schema you created."
      ]
    },
    {
      "cell_type": "code",
      "execution_count": 31,
      "id": "d77671b2",
      "metadata": {
        "id": "d77671b2"
      },
      "outputs": [],
      "source": [
        "streaming_df = spark.readStream \\\n",
        "    .schema(schema) \\\n",
        "    .format(\"csv\") \\\n",
        "    .load(\"/content/kospi/kospi/*.csv\")"
      ]
    },
    {
      "cell_type": "markdown",
      "id": "ce1e0e44",
      "metadata": {
        "id": "ce1e0e44"
      },
      "source": [
        "### Make sure the dataframe is streaming the files from the folder"
      ]
    },
    {
      "cell_type": "code",
      "execution_count": 23,
      "id": "0fc0fa13",
      "metadata": {
        "colab": {
          "base_uri": "https://localhost:8080/"
        },
        "id": "0fc0fa13",
        "outputId": "398be447-9361-484b-9fc8-173a2325c93c"
      },
      "outputs": [
        {
          "output_type": "execute_result",
          "data": {
            "text/plain": [
              "True"
            ]
          },
          "metadata": {},
          "execution_count": 23
        }
      ],
      "source": [
        "streaming_df.isStreaming"
      ]
    },
    {
      "cell_type": "markdown",
      "id": "ac9d68de",
      "metadata": {
        "id": "ac9d68de"
      },
      "source": [
        "### Create a stream writer into memory and specify the query name \"stock:"
      ]
    },
    {
      "cell_type": "code",
      "execution_count": 24,
      "id": "f40bf944",
      "metadata": {
        "id": "f40bf944"
      },
      "outputs": [],
      "source": [
        "stream_writer = streaming_df.writeStream \\\n",
        "    .queryName(\"stock\") \\\n",
        "    .format(\"memory\")"
      ]
    },
    {
      "cell_type": "markdown",
      "id": "63a5f9a4",
      "metadata": {
        "id": "63a5f9a4"
      },
      "source": [
        "### Start the write stream and make sure it works (read all columns from the table)"
      ]
    },
    {
      "cell_type": "code",
      "execution_count": 27,
      "id": "0d98c6dc",
      "metadata": {
        "id": "0d98c6dc"
      },
      "outputs": [],
      "source": [
        "query = stream_writer.start()"
      ]
    },
    {
      "cell_type": "code",
      "source": [
        "query.isActive"
      ],
      "metadata": {
        "colab": {
          "base_uri": "https://localhost:8080/"
        },
        "id": "0mtxiSVOUses",
        "outputId": "d1c05d17-06b4-48a6-84f9-0aed2fb2ffe1"
      },
      "id": "0mtxiSVOUses",
      "execution_count": 28,
      "outputs": [
        {
          "output_type": "execute_result",
          "data": {
            "text/plain": [
              "True"
            ]
          },
          "metadata": {},
          "execution_count": 28
        }
      ]
    },
    {
      "cell_type": "code",
      "execution_count": 32,
      "id": "27bebb21",
      "metadata": {
        "colab": {
          "base_uri": "https://localhost:8080/"
        },
        "id": "27bebb21",
        "outputId": "061d3808-b8df-4710-d3c0-522f561e98e4"
      },
      "outputs": [
        {
          "output_type": "stream",
          "name": "stdout",
          "text": [
            "+----+----------+------------+------------+------------+------------+------------+------+\n",
            "|  ID|      Date|        Open|        High|         Low|       Close|   Adj Close|Volume|\n",
            "+----+----------+------------+------------+------------+------------+------------+------+\n",
            "|NULL|      NULL|        NULL|        NULL|        NULL|        NULL|        NULL|  NULL|\n",
            "| 240|2000-12-05|26585.300781|27367.300781|26372.099609|27011.800781|25526.091797| 91019|\n",
            "| 241|2000-12-06|27011.800781|27509.400391|26798.599609|26869.699219|25391.804688|105791|\n",
            "| 242|2000-12-07|27011.800781|27011.800781|26478.699219|26656.400391|25190.236328| 40656|\n",
            "| 243|2000-12-08|26656.400391|27722.699219|26656.400391|27651.599609|26130.699219|149964|\n",
            "+----+----------+------------+------------+------------+------------+------------+------+\n",
            "only showing top 5 rows\n",
            "\n"
          ]
        }
      ],
      "source": [
        "# Show the output DataFrame with all columns\n",
        "output_df = spark.sql(\"SELECT * FROM stock\")\n",
        "output_df.show(5)"
      ]
    },
    {
      "cell_type": "markdown",
      "id": "16908fa6",
      "metadata": {
        "id": "16908fa6"
      },
      "source": [
        "### Remove the first row from the data (hint: drop the rows where ALL values are null), then add a new column \"diff\", which is the difference between high and low columns"
      ]
    },
    {
      "cell_type": "code",
      "execution_count": 33,
      "id": "9f2eaa25",
      "metadata": {
        "id": "9f2eaa25"
      },
      "outputs": [],
      "source": [
        "streaming_df = streaming_df.dropna(how=\"all\")"
      ]
    },
    {
      "cell_type": "code",
      "source": [
        "streaming_df = streaming_df.withColumn(\"diff\", streaming_df[\"High\"] - streaming_df[\"Low\"])"
      ],
      "metadata": {
        "id": "KnRqiPApWz9B"
      },
      "id": "KnRqiPApWz9B",
      "execution_count": 34,
      "outputs": []
    },
    {
      "cell_type": "markdown",
      "id": "1f14581b",
      "metadata": {
        "id": "1f14581b"
      },
      "source": [
        "### Create a new write stream using the new generated dataframe and call the generate table \"modified_data\""
      ]
    },
    {
      "cell_type": "code",
      "execution_count": 36,
      "id": "9fb1be0e",
      "metadata": {
        "id": "9fb1be0e"
      },
      "outputs": [],
      "source": [
        "stream_writer2 = streaming_df.writeStream \\\n",
        "    .queryName(\"modified_data\") \\\n",
        "    .format(\"memory\")"
      ]
    },
    {
      "cell_type": "code",
      "execution_count": 37,
      "id": "969acbbc",
      "metadata": {
        "id": "969acbbc"
      },
      "outputs": [],
      "source": [
        "query2 = stream_writer2.start()"
      ]
    },
    {
      "cell_type": "code",
      "source": [
        "output_df2 = spark.sql(\"SELECT * FROM modified_data\")\n",
        "output_df2.show(0)"
      ],
      "metadata": {
        "colab": {
          "base_uri": "https://localhost:8080/"
        },
        "id": "EZCBBHJzXixP",
        "outputId": "a0affbd8-b3dc-4ea1-b8df-668b04a47af4"
      },
      "id": "EZCBBHJzXixP",
      "execution_count": 38,
      "outputs": [
        {
          "output_type": "stream",
          "name": "stdout",
          "text": [
            "+---+----+----+----+---+-----+---------+------+----+\n",
            "| ID|Date|Open|High|Low|Close|Adj Close|Volume|diff|\n",
            "+---+----+----+----+---+-----+---------+------+----+\n",
            "+---+----+----+----+---+-----+---------+------+----+\n",
            "only showing top 0 rows\n",
            "\n"
          ]
        }
      ]
    },
    {
      "cell_type": "code",
      "execution_count": 39,
      "id": "453fbe76",
      "metadata": {
        "colab": {
          "base_uri": "https://localhost:8080/"
        },
        "id": "453fbe76",
        "outputId": "54b8f3b1-03c3-4ccf-f95f-3d68d2bfe2ac"
      },
      "outputs": [
        {
          "output_type": "stream",
          "name": "stdout",
          "text": [
            "+---+----------+------------+------------+------------+------------+------------+------+------------------+\n",
            "| ID|      Date|        Open|        High|         Low|       Close|   Adj Close|Volume|              diff|\n",
            "+---+----------+------------+------------+------------+------------+------------+------+------------------+\n",
            "|240|2000-12-05|26585.300781|27367.300781|26372.099609|27011.800781|25526.091797| 91019|  995.201172000001|\n",
            "|241|2000-12-06|27011.800781|27509.400391|26798.599609|26869.699219|25391.804688|105791| 710.8007819999984|\n",
            "|242|2000-12-07|27011.800781|27011.800781|26478.699219|26656.400391|25190.236328| 40656| 533.1015620000035|\n",
            "|243|2000-12-08|26656.400391|27722.699219|26656.400391|27651.599609|26130.699219|149964| 1066.298827999999|\n",
            "|244|2000-12-11|27687.099609|     28860.0|27651.599609|28078.099609|26533.740234|159671|1208.4003909999992|\n",
            "+---+----------+------------+------------+------------+------------+------------+------+------------------+\n",
            "only showing top 5 rows\n",
            "\n"
          ]
        }
      ],
      "source": [
        "output_df2.show(5)"
      ]
    },
    {
      "cell_type": "code",
      "source": [
        "query2.stop()"
      ],
      "metadata": {
        "id": "liQM6TA-ZMyY"
      },
      "id": "liQM6TA-ZMyY",
      "execution_count": 43,
      "outputs": []
    },
    {
      "cell_type": "markdown",
      "id": "e16c3036",
      "metadata": {
        "id": "e16c3036"
      },
      "source": [
        "### Write the generated data into files instead of the memory."
      ]
    },
    {
      "cell_type": "code",
      "execution_count": 41,
      "id": "6441b76a",
      "metadata": {
        "id": "6441b76a"
      },
      "outputs": [],
      "source": [
        "import os\n",
        "# Create a directory to store the generated files\n",
        "output_dir = \"/content/generated_data\"\n",
        "os.makedirs(output_dir, exist_ok=True)"
      ]
    },
    {
      "cell_type": "code",
      "execution_count": 44,
      "metadata": {
        "id": "01UPglQEYdVV"
      },
      "outputs": [],
      "source": [
        "write_query =stream_writer2 \\\n",
        "    .format(\"csv\") \\\n",
        "    .option(\"path\", output_dir) \\\n",
        "    .option(\"checkpointLocation\", os.path.join(output_dir, \"checkpoint\")) \\\n",
        "    .start()"
      ],
      "id": "01UPglQEYdVV"
    },
    {
      "cell_type": "code",
      "source": [
        "#write_query.awaitTermination()"
      ],
      "metadata": {
        "id": "NNNwWguDZTgB"
      },
      "id": "NNNwWguDZTgB",
      "execution_count": 46,
      "outputs": []
    },
    {
      "cell_type": "markdown",
      "id": "72f07e3f",
      "metadata": {
        "id": "72f07e3f"
      },
      "source": [
        "### Stop the query. Now, try reading the generated files into a normal dataframe\n",
        "- Create a schema and use it to read the data.\n",
        "- Show the output."
      ]
    },
    {
      "cell_type": "code",
      "execution_count": 47,
      "id": "ec1321fe",
      "metadata": {
        "scrolled": false,
        "id": "ec1321fe"
      },
      "outputs": [],
      "source": [
        "write_query.stop()"
      ]
    },
    {
      "cell_type": "code",
      "execution_count": 48,
      "id": "c71ca2ae",
      "metadata": {
        "id": "c71ca2ae"
      },
      "outputs": [],
      "source": [
        "generated_data_df = spark.read \\\n",
        "    .schema(schema) \\\n",
        "    .format(\"csv\") \\\n",
        "    .load(\"/content/generated_data\")"
      ]
    },
    {
      "cell_type": "code",
      "source": [
        "generated_data_df.show(10)"
      ],
      "metadata": {
        "colab": {
          "base_uri": "https://localhost:8080/"
        },
        "id": "aO44EkQXZ7Sx",
        "outputId": "181094db-a070-47c6-c18f-fcb8f12ee647"
      },
      "id": "aO44EkQXZ7Sx",
      "execution_count": 49,
      "outputs": [
        {
          "output_type": "stream",
          "name": "stdout",
          "text": [
            "+---+----------+------------+------------+------------+------------+------------+------+\n",
            "| ID|      Date|        Open|        High|         Low|       Close|   Adj Close|Volume|\n",
            "+---+----------+------------+------------+------------+------------+------------+------+\n",
            "|240|2000-12-05|26585.300781|27367.300781|26372.099609|27011.800781|25526.091797| 91019|\n",
            "|241|2000-12-06|27011.800781|27509.400391|26798.599609|26869.699219|25391.804688|105791|\n",
            "|242|2000-12-07|27011.800781|27011.800781|26478.699219|26656.400391|25190.236328| 40656|\n",
            "|243|2000-12-08|26656.400391|27722.699219|26656.400391|27651.599609|26130.699219|149964|\n",
            "|244|2000-12-11|27687.099609|     28860.0|27651.599609|28078.099609|26533.740234|159671|\n",
            "|245|2000-12-12|28042.599609|28078.099609|27438.300781|27935.900391|26399.361328| 74560|\n",
            "|246|2000-12-13|27651.599609|     29286.5|27651.599609|28469.099609|26903.234375|270385|\n",
            "|247|2000-12-14|28469.099609|29784.099609|28291.300781|28362.400391| 26802.40625|256317|\n",
            "|248|2000-12-15|28362.400391|28895.599609|27793.800781|27935.900391|26399.361328|108886|\n",
            "|249|2000-12-18|     27580.5|     28433.5|27367.300781|28291.300781|26735.216797| 92848|\n",
            "+---+----------+------------+------------+------------+------------+------------+------+\n",
            "only showing top 10 rows\n",
            "\n"
          ]
        }
      ]
    },
    {
      "cell_type": "markdown",
      "id": "4814d697",
      "metadata": {
        "id": "4814d697"
      },
      "source": [
        "### Sort the dataframe based on the ID"
      ]
    },
    {
      "cell_type": "code",
      "execution_count": 50,
      "id": "c51d91a5",
      "metadata": {
        "colab": {
          "base_uri": "https://localhost:8080/"
        },
        "id": "c51d91a5",
        "outputId": "2b7ea3e1-c32a-4c1a-cd1c-6379dc7e62d1"
      },
      "outputs": [
        {
          "output_type": "stream",
          "name": "stdout",
          "text": [
            "+---+----------+------------+------------+------------+------------+------------+------+\n",
            "| ID|      Date|        Open|        High|         Low|       Close|   Adj Close|Volume|\n",
            "+---+----------+------------+------------+------------+------------+------------+------+\n",
            "|  0|2000-01-04|22817.900391|25696.800781|22817.900391|24879.300781|23510.880859|108745|\n",
            "|  1|2000-01-05|24523.900391|26229.900391|23670.900391|24417.300781|23074.294922|175990|\n",
            "|  2|2000-01-06|24381.699219|24666.099609|22746.800781|22817.900391|21562.865234| 71746|\n",
            "|  3|2000-01-07|     22036.0|24879.300781|     22036.0|23884.199219|22570.513672|120984|\n",
            "|  4|2000-01-10|24879.300781|25519.099609|23813.099609|24061.900391|22738.439453|151371|\n",
            "|  5|2000-01-11|     24168.5|     25021.5|23955.199219|24239.599609|22906.365234| 95943|\n",
            "|  6|2000-01-12|     24168.5|24452.800781|23457.599609|23670.900391|22368.947266| 61899|\n",
            "|  7|2000-01-13|23670.900391|24132.900391|23102.199219|23244.400391| 21965.90625| 57538|\n",
            "|  8|2000-01-14|23457.599609|     24168.5|22746.800781|23244.400391| 21965.90625| 84267|\n",
            "|  9|2000-01-17|22533.599609|23457.599609|22533.599609|23457.599609|22167.376953| 67807|\n",
            "| 10|2000-01-18|23457.599609|     23742.0|22746.800781|23422.099609|22133.832031| 27995|\n",
            "| 11|2000-01-19|22817.900391|23173.300781|     22036.0|     22036.0|20823.970703| 44173|\n",
            "| 12|2000-01-20|21325.099609|22000.400391|     20756.5|21680.599609|20488.117188| 47550|\n",
            "| 13|2000-01-21|21680.599609|22391.400391|20863.099609|21680.599609|20488.117188| 80750|\n",
            "| 14|2000-01-24|20969.699219|21822.699219|20969.699219|20969.699219|19816.320313| 79906|\n",
            "| 15|2000-01-25|20258.900391|20934.199219|     19548.0|20116.699219|19010.236328|170925|\n",
            "| 16|2000-01-26|20223.300781|20543.199219|19761.300781|     20330.0|19211.804688| 59929|\n",
            "| 17|2000-01-27|     20401.0|22746.800781|     20330.0|21040.800781|19883.511719|139132|\n",
            "| 18|2000-01-28|21431.800781|22107.099609|21040.800781|21964.900391|20756.783203| 78640|\n",
            "| 19|2000-01-31|21325.099609|21893.800781|     21183.0|21467.300781|20286.552734| 45861|\n",
            "+---+----------+------------+------------+------------+------------+------------+------+\n",
            "only showing top 20 rows\n",
            "\n"
          ]
        }
      ],
      "source": [
        "finalDFSorted =generated_data_df.sort('ID')\n",
        "finalDFSorted.show()"
      ]
    },
    {
      "cell_type": "code",
      "execution_count": null,
      "id": "e218d5ae",
      "metadata": {
        "id": "e218d5ae"
      },
      "outputs": [],
      "source": []
    }
  ],
  "metadata": {
    "kernelspec": {
      "display_name": "Python 3 (ipykernel)",
      "language": "python",
      "name": "python3"
    },
    "language_info": {
      "codemirror_mode": {
        "name": "ipython",
        "version": 3
      },
      "file_extension": ".py",
      "mimetype": "text/x-python",
      "name": "python",
      "nbconvert_exporter": "python",
      "pygments_lexer": "ipython3",
      "version": "3.9.12"
    },
    "colab": {
      "provenance": []
    }
  },
  "nbformat": 4,
  "nbformat_minor": 5
}