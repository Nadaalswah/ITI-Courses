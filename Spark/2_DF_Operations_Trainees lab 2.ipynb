{
  "cells": [
    {
      "cell_type": "code",
      "source": [
        "# Install Java\n",
        "!apt-get install openjdk-8-jdk-headless -qq > /dev/null\n",
        "\n",
        "# Download Spark\n",
        "!wget -q https://archive.apache.org/dist/spark/spark-3.3.2/spark-3.3.2-bin-hadoop3.tgz\n",
        "\n",
        "# Verify the download\n",
        "!ls -l spark-3.3.2-bin-hadoop3.tgz\n",
        "\n",
        "# Extract Spark\n",
        "!tar -xvf spark-3.3.2-bin-hadoop3.tgz\n",
        "\n",
        "# Install findspark\n",
        "!pip install -q findspark"
      ],
      "metadata": {
        "colab": {
          "base_uri": "https://localhost:8080/"
        },
        "id": "bxS5aJamLv5v",
        "outputId": "9480a6f2-0054-4dd2-c258-3ee022ea7eda"
      },
      "execution_count": 1,
      "outputs": [
        {
          "output_type": "stream",
          "name": "stdout",
          "text": [
            "-rw-r--r-- 1 root root 299360284 Feb 10  2023 spark-3.3.2-bin-hadoop3.tgz\n",
            "spark-3.3.2-bin-hadoop3/\n",
            "spark-3.3.2-bin-hadoop3/LICENSE\n",
            "spark-3.3.2-bin-hadoop3/NOTICE\n",
            "spark-3.3.2-bin-hadoop3/R/\n",
            "spark-3.3.2-bin-hadoop3/R/lib/\n",
            "spark-3.3.2-bin-hadoop3/R/lib/SparkR/\n",
            "spark-3.3.2-bin-hadoop3/R/lib/SparkR/DESCRIPTION\n",
            "spark-3.3.2-bin-hadoop3/R/lib/SparkR/INDEX\n",
            "spark-3.3.2-bin-hadoop3/R/lib/SparkR/Meta/\n",
            "spark-3.3.2-bin-hadoop3/R/lib/SparkR/Meta/Rd.rds\n",
            "spark-3.3.2-bin-hadoop3/R/lib/SparkR/Meta/features.rds\n",
            "spark-3.3.2-bin-hadoop3/R/lib/SparkR/Meta/hsearch.rds\n",
            "spark-3.3.2-bin-hadoop3/R/lib/SparkR/Meta/links.rds\n",
            "spark-3.3.2-bin-hadoop3/R/lib/SparkR/Meta/nsInfo.rds\n",
            "spark-3.3.2-bin-hadoop3/R/lib/SparkR/Meta/package.rds\n",
            "spark-3.3.2-bin-hadoop3/R/lib/SparkR/Meta/vignette.rds\n",
            "spark-3.3.2-bin-hadoop3/R/lib/SparkR/NAMESPACE\n",
            "spark-3.3.2-bin-hadoop3/R/lib/SparkR/R/\n",
            "spark-3.3.2-bin-hadoop3/R/lib/SparkR/R/SparkR\n",
            "spark-3.3.2-bin-hadoop3/R/lib/SparkR/R/SparkR.rdb\n",
            "spark-3.3.2-bin-hadoop3/R/lib/SparkR/R/SparkR.rdx\n",
            "spark-3.3.2-bin-hadoop3/R/lib/SparkR/doc/\n",
            "spark-3.3.2-bin-hadoop3/R/lib/SparkR/doc/index.html\n",
            "spark-3.3.2-bin-hadoop3/R/lib/SparkR/doc/sparkr-vignettes.R\n",
            "spark-3.3.2-bin-hadoop3/R/lib/SparkR/doc/sparkr-vignettes.Rmd\n",
            "spark-3.3.2-bin-hadoop3/R/lib/SparkR/doc/sparkr-vignettes.html\n",
            "spark-3.3.2-bin-hadoop3/R/lib/SparkR/help/\n",
            "spark-3.3.2-bin-hadoop3/R/lib/SparkR/help/AnIndex\n",
            "spark-3.3.2-bin-hadoop3/R/lib/SparkR/help/SparkR.rdb\n",
            "spark-3.3.2-bin-hadoop3/R/lib/SparkR/help/SparkR.rdx\n",
            "spark-3.3.2-bin-hadoop3/R/lib/SparkR/help/aliases.rds\n",
            "spark-3.3.2-bin-hadoop3/R/lib/SparkR/help/paths.rds\n",
            "spark-3.3.2-bin-hadoop3/R/lib/SparkR/html/\n",
            "spark-3.3.2-bin-hadoop3/R/lib/SparkR/html/00Index.html\n",
            "spark-3.3.2-bin-hadoop3/R/lib/SparkR/html/R.css\n",
            "spark-3.3.2-bin-hadoop3/R/lib/SparkR/profile/\n",
            "spark-3.3.2-bin-hadoop3/R/lib/SparkR/profile/general.R\n",
            "spark-3.3.2-bin-hadoop3/R/lib/SparkR/profile/shell.R\n",
            "spark-3.3.2-bin-hadoop3/R/lib/SparkR/tests/\n",
            "spark-3.3.2-bin-hadoop3/R/lib/SparkR/tests/testthat/\n",
            "spark-3.3.2-bin-hadoop3/R/lib/SparkR/tests/testthat/test_basic.R\n",
            "spark-3.3.2-bin-hadoop3/R/lib/SparkR/worker/\n",
            "spark-3.3.2-bin-hadoop3/R/lib/SparkR/worker/daemon.R\n",
            "spark-3.3.2-bin-hadoop3/R/lib/SparkR/worker/worker.R\n",
            "spark-3.3.2-bin-hadoop3/R/lib/sparkr.zip\n",
            "spark-3.3.2-bin-hadoop3/README.md\n",
            "spark-3.3.2-bin-hadoop3/RELEASE\n",
            "spark-3.3.2-bin-hadoop3/bin/\n",
            "spark-3.3.2-bin-hadoop3/bin/beeline\n",
            "spark-3.3.2-bin-hadoop3/bin/beeline.cmd\n",
            "spark-3.3.2-bin-hadoop3/bin/docker-image-tool.sh\n",
            "spark-3.3.2-bin-hadoop3/bin/find-spark-home\n",
            "spark-3.3.2-bin-hadoop3/bin/find-spark-home.cmd\n",
            "spark-3.3.2-bin-hadoop3/bin/load-spark-env.cmd\n",
            "spark-3.3.2-bin-hadoop3/bin/load-spark-env.sh\n",
            "spark-3.3.2-bin-hadoop3/bin/pyspark\n",
            "spark-3.3.2-bin-hadoop3/bin/pyspark.cmd\n",
            "spark-3.3.2-bin-hadoop3/bin/pyspark2.cmd\n",
            "spark-3.3.2-bin-hadoop3/bin/run-example\n",
            "spark-3.3.2-bin-hadoop3/bin/run-example.cmd\n",
            "spark-3.3.2-bin-hadoop3/bin/spark-class\n",
            "spark-3.3.2-bin-hadoop3/bin/spark-class.cmd\n",
            "spark-3.3.2-bin-hadoop3/bin/spark-class2.cmd\n",
            "spark-3.3.2-bin-hadoop3/bin/spark-shell\n",
            "spark-3.3.2-bin-hadoop3/bin/spark-shell.cmd\n",
            "spark-3.3.2-bin-hadoop3/bin/spark-shell2.cmd\n",
            "spark-3.3.2-bin-hadoop3/bin/spark-sql\n",
            "spark-3.3.2-bin-hadoop3/bin/spark-sql.cmd\n",
            "spark-3.3.2-bin-hadoop3/bin/spark-sql2.cmd\n",
            "spark-3.3.2-bin-hadoop3/bin/spark-submit\n",
            "spark-3.3.2-bin-hadoop3/bin/spark-submit.cmd\n",
            "spark-3.3.2-bin-hadoop3/bin/spark-submit2.cmd\n",
            "spark-3.3.2-bin-hadoop3/bin/sparkR\n",
            "spark-3.3.2-bin-hadoop3/bin/sparkR.cmd\n",
            "spark-3.3.2-bin-hadoop3/bin/sparkR2.cmd\n",
            "spark-3.3.2-bin-hadoop3/conf/\n",
            "spark-3.3.2-bin-hadoop3/conf/fairscheduler.xml.template\n",
            "spark-3.3.2-bin-hadoop3/conf/log4j2.properties.template\n",
            "spark-3.3.2-bin-hadoop3/conf/metrics.properties.template\n",
            "spark-3.3.2-bin-hadoop3/conf/spark-defaults.conf.template\n",
            "spark-3.3.2-bin-hadoop3/conf/spark-env.sh.template\n",
            "spark-3.3.2-bin-hadoop3/conf/workers.template\n",
            "spark-3.3.2-bin-hadoop3/data/\n",
            "spark-3.3.2-bin-hadoop3/data/graphx/\n",
            "spark-3.3.2-bin-hadoop3/data/graphx/followers.txt\n",
            "spark-3.3.2-bin-hadoop3/data/graphx/users.txt\n",
            "spark-3.3.2-bin-hadoop3/data/mllib/\n",
            "spark-3.3.2-bin-hadoop3/data/mllib/als/\n",
            "spark-3.3.2-bin-hadoop3/data/mllib/als/sample_movielens_ratings.txt\n",
            "spark-3.3.2-bin-hadoop3/data/mllib/als/test.data\n",
            "spark-3.3.2-bin-hadoop3/data/mllib/gmm_data.txt\n",
            "spark-3.3.2-bin-hadoop3/data/mllib/images/\n",
            "spark-3.3.2-bin-hadoop3/data/mllib/images/license.txt\n",
            "spark-3.3.2-bin-hadoop3/data/mllib/images/origin/\n",
            "spark-3.3.2-bin-hadoop3/data/mllib/images/origin/kittens/\n",
            "spark-3.3.2-bin-hadoop3/data/mllib/images/origin/kittens/29.5.a_b_EGDP022204.jpg\n",
            "spark-3.3.2-bin-hadoop3/data/mllib/images/origin/kittens/54893.jpg\n",
            "spark-3.3.2-bin-hadoop3/data/mllib/images/origin/kittens/DP153539.jpg\n",
            "spark-3.3.2-bin-hadoop3/data/mllib/images/origin/kittens/DP802813.jpg\n",
            "spark-3.3.2-bin-hadoop3/data/mllib/images/origin/kittens/not-image.txt\n",
            "spark-3.3.2-bin-hadoop3/data/mllib/images/origin/license.txt\n",
            "spark-3.3.2-bin-hadoop3/data/mllib/images/origin/multi-channel/\n",
            "spark-3.3.2-bin-hadoop3/data/mllib/images/origin/multi-channel/BGRA.png\n",
            "spark-3.3.2-bin-hadoop3/data/mllib/images/origin/multi-channel/BGRA_alpha_60.png\n",
            "spark-3.3.2-bin-hadoop3/data/mllib/images/origin/multi-channel/chr30.4.184.jpg\n",
            "spark-3.3.2-bin-hadoop3/data/mllib/images/origin/multi-channel/grayscale.jpg\n",
            "spark-3.3.2-bin-hadoop3/data/mllib/kmeans_data.txt\n",
            "spark-3.3.2-bin-hadoop3/data/mllib/pagerank_data.txt\n",
            "spark-3.3.2-bin-hadoop3/data/mllib/pic_data.txt\n",
            "spark-3.3.2-bin-hadoop3/data/mllib/ridge-data/\n",
            "spark-3.3.2-bin-hadoop3/data/mllib/ridge-data/lpsa.data\n",
            "spark-3.3.2-bin-hadoop3/data/mllib/sample_binary_classification_data.txt\n",
            "spark-3.3.2-bin-hadoop3/data/mllib/sample_fpgrowth.txt\n",
            "spark-3.3.2-bin-hadoop3/data/mllib/sample_isotonic_regression_libsvm_data.txt\n",
            "spark-3.3.2-bin-hadoop3/data/mllib/sample_kmeans_data.txt\n",
            "spark-3.3.2-bin-hadoop3/data/mllib/sample_lda_data.txt\n",
            "spark-3.3.2-bin-hadoop3/data/mllib/sample_lda_libsvm_data.txt\n",
            "spark-3.3.2-bin-hadoop3/data/mllib/sample_libsvm_data.txt\n",
            "spark-3.3.2-bin-hadoop3/data/mllib/sample_linear_regression_data.txt\n",
            "spark-3.3.2-bin-hadoop3/data/mllib/sample_movielens_data.txt\n",
            "spark-3.3.2-bin-hadoop3/data/mllib/sample_multiclass_classification_data.txt\n",
            "spark-3.3.2-bin-hadoop3/data/mllib/sample_svm_data.txt\n",
            "spark-3.3.2-bin-hadoop3/data/mllib/streaming_kmeans_data_test.txt\n",
            "spark-3.3.2-bin-hadoop3/data/streaming/\n",
            "spark-3.3.2-bin-hadoop3/data/streaming/AFINN-111.txt\n",
            "spark-3.3.2-bin-hadoop3/examples/\n",
            "spark-3.3.2-bin-hadoop3/examples/jars/\n",
            "spark-3.3.2-bin-hadoop3/examples/jars/scopt_2.12-3.7.1.jar\n",
            "spark-3.3.2-bin-hadoop3/examples/jars/spark-examples_2.12-3.3.2.jar\n",
            "spark-3.3.2-bin-hadoop3/examples/src/\n",
            "spark-3.3.2-bin-hadoop3/examples/src/main/\n",
            "spark-3.3.2-bin-hadoop3/examples/src/main/java/\n",
            "spark-3.3.2-bin-hadoop3/examples/src/main/java/org/\n",
            "spark-3.3.2-bin-hadoop3/examples/src/main/java/org/apache/\n",
            "spark-3.3.2-bin-hadoop3/examples/src/main/java/org/apache/spark/\n",
            "spark-3.3.2-bin-hadoop3/examples/src/main/java/org/apache/spark/examples/\n",
            "spark-3.3.2-bin-hadoop3/examples/src/main/java/org/apache/spark/examples/JavaHdfsLR.java\n",
            "spark-3.3.2-bin-hadoop3/examples/src/main/java/org/apache/spark/examples/JavaLogQuery.java\n",
            "spark-3.3.2-bin-hadoop3/examples/src/main/java/org/apache/spark/examples/JavaPageRank.java\n",
            "spark-3.3.2-bin-hadoop3/examples/src/main/java/org/apache/spark/examples/JavaSparkPi.java\n",
            "spark-3.3.2-bin-hadoop3/examples/src/main/java/org/apache/spark/examples/JavaStatusTrackerDemo.java\n",
            "spark-3.3.2-bin-hadoop3/examples/src/main/java/org/apache/spark/examples/JavaTC.java\n",
            "spark-3.3.2-bin-hadoop3/examples/src/main/java/org/apache/spark/examples/JavaWordCount.java\n",
            "spark-3.3.2-bin-hadoop3/examples/src/main/java/org/apache/spark/examples/ml/\n",
            "spark-3.3.2-bin-hadoop3/examples/src/main/java/org/apache/spark/examples/ml/JavaAFTSurvivalRegressionExample.java\n",
            "spark-3.3.2-bin-hadoop3/examples/src/main/java/org/apache/spark/examples/ml/JavaALSExample.java\n",
            "spark-3.3.2-bin-hadoop3/examples/src/main/java/org/apache/spark/examples/ml/JavaBinarizerExample.java\n",
            "spark-3.3.2-bin-hadoop3/examples/src/main/java/org/apache/spark/examples/ml/JavaBisectingKMeansExample.java\n",
            "spark-3.3.2-bin-hadoop3/examples/src/main/java/org/apache/spark/examples/ml/JavaBucketedRandomProjectionLSHExample.java\n",
            "spark-3.3.2-bin-hadoop3/examples/src/main/java/org/apache/spark/examples/ml/JavaBucketizerExample.java\n",
            "spark-3.3.2-bin-hadoop3/examples/src/main/java/org/apache/spark/examples/ml/JavaChiSqSelectorExample.java\n",
            "spark-3.3.2-bin-hadoop3/examples/src/main/java/org/apache/spark/examples/ml/JavaChiSquareTestExample.java\n",
            "spark-3.3.2-bin-hadoop3/examples/src/main/java/org/apache/spark/examples/ml/JavaCorrelationExample.java\n",
            "spark-3.3.2-bin-hadoop3/examples/src/main/java/org/apache/spark/examples/ml/JavaCountVectorizerExample.java\n",
            "spark-3.3.2-bin-hadoop3/examples/src/main/java/org/apache/spark/examples/ml/JavaDCTExample.java\n",
            "spark-3.3.2-bin-hadoop3/examples/src/main/java/org/apache/spark/examples/ml/JavaDecisionTreeClassificationExample.java\n",
            "spark-3.3.2-bin-hadoop3/examples/src/main/java/org/apache/spark/examples/ml/JavaDecisionTreeRegressionExample.java\n",
            "spark-3.3.2-bin-hadoop3/examples/src/main/java/org/apache/spark/examples/ml/JavaDocument.java\n",
            "spark-3.3.2-bin-hadoop3/examples/src/main/java/org/apache/spark/examples/ml/JavaElementwiseProductExample.java\n",
            "spark-3.3.2-bin-hadoop3/examples/src/main/java/org/apache/spark/examples/ml/JavaEstimatorTransformerParamExample.java\n",
            "spark-3.3.2-bin-hadoop3/examples/src/main/java/org/apache/spark/examples/ml/JavaFMClassifierExample.java\n",
            "spark-3.3.2-bin-hadoop3/examples/src/main/java/org/apache/spark/examples/ml/JavaFMRegressorExample.java\n",
            "spark-3.3.2-bin-hadoop3/examples/src/main/java/org/apache/spark/examples/ml/JavaFPGrowthExample.java\n",
            "spark-3.3.2-bin-hadoop3/examples/src/main/java/org/apache/spark/examples/ml/JavaFeatureHasherExample.java\n",
            "spark-3.3.2-bin-hadoop3/examples/src/main/java/org/apache/spark/examples/ml/JavaGaussianMixtureExample.java\n",
            "spark-3.3.2-bin-hadoop3/examples/src/main/java/org/apache/spark/examples/ml/JavaGeneralizedLinearRegressionExample.java\n",
            "spark-3.3.2-bin-hadoop3/examples/src/main/java/org/apache/spark/examples/ml/JavaGradientBoostedTreeClassifierExample.java\n",
            "spark-3.3.2-bin-hadoop3/examples/src/main/java/org/apache/spark/examples/ml/JavaGradientBoostedTreeRegressorExample.java\n",
            "spark-3.3.2-bin-hadoop3/examples/src/main/java/org/apache/spark/examples/ml/JavaImputerExample.java\n",
            "spark-3.3.2-bin-hadoop3/examples/src/main/java/org/apache/spark/examples/ml/JavaIndexToStringExample.java\n",
            "spark-3.3.2-bin-hadoop3/examples/src/main/java/org/apache/spark/examples/ml/JavaInteractionExample.java\n",
            "spark-3.3.2-bin-hadoop3/examples/src/main/java/org/apache/spark/examples/ml/JavaIsotonicRegressionExample.java\n",
            "spark-3.3.2-bin-hadoop3/examples/src/main/java/org/apache/spark/examples/ml/JavaKMeansExample.java\n",
            "spark-3.3.2-bin-hadoop3/examples/src/main/java/org/apache/spark/examples/ml/JavaLDAExample.java\n",
            "spark-3.3.2-bin-hadoop3/examples/src/main/java/org/apache/spark/examples/ml/JavaLabeledDocument.java\n",
            "spark-3.3.2-bin-hadoop3/examples/src/main/java/org/apache/spark/examples/ml/JavaLinearRegressionWithElasticNetExample.java\n",
            "spark-3.3.2-bin-hadoop3/examples/src/main/java/org/apache/spark/examples/ml/JavaLinearSVCExample.java\n",
            "spark-3.3.2-bin-hadoop3/examples/src/main/java/org/apache/spark/examples/ml/JavaLogisticRegressionSummaryExample.java\n",
            "spark-3.3.2-bin-hadoop3/examples/src/main/java/org/apache/spark/examples/ml/JavaLogisticRegressionWithElasticNetExample.java\n",
            "spark-3.3.2-bin-hadoop3/examples/src/main/java/org/apache/spark/examples/ml/JavaMaxAbsScalerExample.java\n",
            "spark-3.3.2-bin-hadoop3/examples/src/main/java/org/apache/spark/examples/ml/JavaMinHashLSHExample.java\n",
            "spark-3.3.2-bin-hadoop3/examples/src/main/java/org/apache/spark/examples/ml/JavaMinMaxScalerExample.java\n",
            "spark-3.3.2-bin-hadoop3/examples/src/main/java/org/apache/spark/examples/ml/JavaModelSelectionViaCrossValidationExample.java\n",
            "spark-3.3.2-bin-hadoop3/examples/src/main/java/org/apache/spark/examples/ml/JavaModelSelectionViaTrainValidationSplitExample.java\n",
            "spark-3.3.2-bin-hadoop3/examples/src/main/java/org/apache/spark/examples/ml/JavaMulticlassLogisticRegressionWithElasticNetExample.java\n",
            "spark-3.3.2-bin-hadoop3/examples/src/main/java/org/apache/spark/examples/ml/JavaMultilayerPerceptronClassifierExample.java\n",
            "spark-3.3.2-bin-hadoop3/examples/src/main/java/org/apache/spark/examples/ml/JavaNGramExample.java\n",
            "spark-3.3.2-bin-hadoop3/examples/src/main/java/org/apache/spark/examples/ml/JavaNaiveBayesExample.java\n",
            "spark-3.3.2-bin-hadoop3/examples/src/main/java/org/apache/spark/examples/ml/JavaNormalizerExample.java\n",
            "spark-3.3.2-bin-hadoop3/examples/src/main/java/org/apache/spark/examples/ml/JavaOneHotEncoderExample.java\n",
            "spark-3.3.2-bin-hadoop3/examples/src/main/java/org/apache/spark/examples/ml/JavaOneVsRestExample.java\n",
            "spark-3.3.2-bin-hadoop3/examples/src/main/java/org/apache/spark/examples/ml/JavaPCAExample.java\n",
            "spark-3.3.2-bin-hadoop3/examples/src/main/java/org/apache/spark/examples/ml/JavaPipelineExample.java\n",
            "spark-3.3.2-bin-hadoop3/examples/src/main/java/org/apache/spark/examples/ml/JavaPolynomialExpansionExample.java\n",
            "spark-3.3.2-bin-hadoop3/examples/src/main/java/org/apache/spark/examples/ml/JavaPowerIterationClusteringExample.java\n",
            "spark-3.3.2-bin-hadoop3/examples/src/main/java/org/apache/spark/examples/ml/JavaPrefixSpanExample.java\n",
            "spark-3.3.2-bin-hadoop3/examples/src/main/java/org/apache/spark/examples/ml/JavaQuantileDiscretizerExample.java\n",
            "spark-3.3.2-bin-hadoop3/examples/src/main/java/org/apache/spark/examples/ml/JavaRFormulaExample.java\n",
            "spark-3.3.2-bin-hadoop3/examples/src/main/java/org/apache/spark/examples/ml/JavaRandomForestClassifierExample.java\n",
            "spark-3.3.2-bin-hadoop3/examples/src/main/java/org/apache/spark/examples/ml/JavaRandomForestRegressorExample.java\n",
            "spark-3.3.2-bin-hadoop3/examples/src/main/java/org/apache/spark/examples/ml/JavaRobustScalerExample.java\n",
            "spark-3.3.2-bin-hadoop3/examples/src/main/java/org/apache/spark/examples/ml/JavaSQLTransformerExample.java\n",
            "spark-3.3.2-bin-hadoop3/examples/src/main/java/org/apache/spark/examples/ml/JavaStandardScalerExample.java\n",
            "spark-3.3.2-bin-hadoop3/examples/src/main/java/org/apache/spark/examples/ml/JavaStopWordsRemoverExample.java\n",
            "spark-3.3.2-bin-hadoop3/examples/src/main/java/org/apache/spark/examples/ml/JavaStringIndexerExample.java\n",
            "spark-3.3.2-bin-hadoop3/examples/src/main/java/org/apache/spark/examples/ml/JavaSummarizerExample.java\n",
            "spark-3.3.2-bin-hadoop3/examples/src/main/java/org/apache/spark/examples/ml/JavaTfIdfExample.java\n",
            "spark-3.3.2-bin-hadoop3/examples/src/main/java/org/apache/spark/examples/ml/JavaTokenizerExample.java\n",
            "spark-3.3.2-bin-hadoop3/examples/src/main/java/org/apache/spark/examples/ml/JavaUnivariateFeatureSelectorExample.java\n",
            "spark-3.3.2-bin-hadoop3/examples/src/main/java/org/apache/spark/examples/ml/JavaVarianceThresholdSelectorExample.java\n",
            "spark-3.3.2-bin-hadoop3/examples/src/main/java/org/apache/spark/examples/ml/JavaVectorAssemblerExample.java\n",
            "spark-3.3.2-bin-hadoop3/examples/src/main/java/org/apache/spark/examples/ml/JavaVectorIndexerExample.java\n",
            "spark-3.3.2-bin-hadoop3/examples/src/main/java/org/apache/spark/examples/ml/JavaVectorSizeHintExample.java\n",
            "spark-3.3.2-bin-hadoop3/examples/src/main/java/org/apache/spark/examples/ml/JavaVectorSlicerExample.java\n",
            "spark-3.3.2-bin-hadoop3/examples/src/main/java/org/apache/spark/examples/ml/JavaWord2VecExample.java\n",
            "spark-3.3.2-bin-hadoop3/examples/src/main/java/org/apache/spark/examples/mllib/\n",
            "spark-3.3.2-bin-hadoop3/examples/src/main/java/org/apache/spark/examples/mllib/JavaALS.java\n",
            "spark-3.3.2-bin-hadoop3/examples/src/main/java/org/apache/spark/examples/mllib/JavaAssociationRulesExample.java\n",
            "spark-3.3.2-bin-hadoop3/examples/src/main/java/org/apache/spark/examples/mllib/JavaBinaryClassificationMetricsExample.java\n",
            "spark-3.3.2-bin-hadoop3/examples/src/main/java/org/apache/spark/examples/mllib/JavaBisectingKMeansExample.java\n",
            "spark-3.3.2-bin-hadoop3/examples/src/main/java/org/apache/spark/examples/mllib/JavaChiSqSelectorExample.java\n",
            "spark-3.3.2-bin-hadoop3/examples/src/main/java/org/apache/spark/examples/mllib/JavaCorrelationsExample.java\n",
            "spark-3.3.2-bin-hadoop3/examples/src/main/java/org/apache/spark/examples/mllib/JavaDecisionTreeClassificationExample.java\n",
            "spark-3.3.2-bin-hadoop3/examples/src/main/java/org/apache/spark/examples/mllib/JavaDecisionTreeRegressionExample.java\n",
            "spark-3.3.2-bin-hadoop3/examples/src/main/java/org/apache/spark/examples/mllib/JavaElementwiseProductExample.java\n",
            "spark-3.3.2-bin-hadoop3/examples/src/main/java/org/apache/spark/examples/mllib/JavaGaussianMixtureExample.java\n",
            "spark-3.3.2-bin-hadoop3/examples/src/main/java/org/apache/spark/examples/mllib/JavaGradientBoostingClassificationExample.java\n",
            "spark-3.3.2-bin-hadoop3/examples/src/main/java/org/apache/spark/examples/mllib/JavaGradientBoostingRegressionExample.java\n",
            "spark-3.3.2-bin-hadoop3/examples/src/main/java/org/apache/spark/examples/mllib/JavaHypothesisTestingExample.java\n",
            "spark-3.3.2-bin-hadoop3/examples/src/main/java/org/apache/spark/examples/mllib/JavaHypothesisTestingKolmogorovSmirnovTestExample.java\n",
            "spark-3.3.2-bin-hadoop3/examples/src/main/java/org/apache/spark/examples/mllib/JavaIsotonicRegressionExample.java\n",
            "spark-3.3.2-bin-hadoop3/examples/src/main/java/org/apache/spark/examples/mllib/JavaKMeansExample.java\n",
            "spark-3.3.2-bin-hadoop3/examples/src/main/java/org/apache/spark/examples/mllib/JavaKernelDensityEstimationExample.java\n",
            "spark-3.3.2-bin-hadoop3/examples/src/main/java/org/apache/spark/examples/mllib/JavaLBFGSExample.java\n",
            "spark-3.3.2-bin-hadoop3/examples/src/main/java/org/apache/spark/examples/mllib/JavaLatentDirichletAllocationExample.java\n",
            "spark-3.3.2-bin-hadoop3/examples/src/main/java/org/apache/spark/examples/mllib/JavaLogisticRegressionWithLBFGSExample.java\n",
            "spark-3.3.2-bin-hadoop3/examples/src/main/java/org/apache/spark/examples/mllib/JavaMultiLabelClassificationMetricsExample.java\n",
            "spark-3.3.2-bin-hadoop3/examples/src/main/java/org/apache/spark/examples/mllib/JavaMulticlassClassificationMetricsExample.java\n",
            "spark-3.3.2-bin-hadoop3/examples/src/main/java/org/apache/spark/examples/mllib/JavaNaiveBayesExample.java\n",
            "spark-3.3.2-bin-hadoop3/examples/src/main/java/org/apache/spark/examples/mllib/JavaPCAExample.java\n",
            "spark-3.3.2-bin-hadoop3/examples/src/main/java/org/apache/spark/examples/mllib/JavaPowerIterationClusteringExample.java\n",
            "spark-3.3.2-bin-hadoop3/examples/src/main/java/org/apache/spark/examples/mllib/JavaPrefixSpanExample.java\n",
            "spark-3.3.2-bin-hadoop3/examples/src/main/java/org/apache/spark/examples/mllib/JavaRandomForestClassificationExample.java\n",
            "spark-3.3.2-bin-hadoop3/examples/src/main/java/org/apache/spark/examples/mllib/JavaRandomForestRegressionExample.java\n",
            "spark-3.3.2-bin-hadoop3/examples/src/main/java/org/apache/spark/examples/mllib/JavaRankingMetricsExample.java\n",
            "spark-3.3.2-bin-hadoop3/examples/src/main/java/org/apache/spark/examples/mllib/JavaRecommendationExample.java\n",
            "spark-3.3.2-bin-hadoop3/examples/src/main/java/org/apache/spark/examples/mllib/JavaSVDExample.java\n",
            "spark-3.3.2-bin-hadoop3/examples/src/main/java/org/apache/spark/examples/mllib/JavaSVMWithSGDExample.java\n",
            "spark-3.3.2-bin-hadoop3/examples/src/main/java/org/apache/spark/examples/mllib/JavaSimpleFPGrowth.java\n",
            "spark-3.3.2-bin-hadoop3/examples/src/main/java/org/apache/spark/examples/mllib/JavaStratifiedSamplingExample.java\n",
            "spark-3.3.2-bin-hadoop3/examples/src/main/java/org/apache/spark/examples/mllib/JavaStreamingTestExample.java\n",
            "spark-3.3.2-bin-hadoop3/examples/src/main/java/org/apache/spark/examples/mllib/JavaSummaryStatisticsExample.java\n",
            "spark-3.3.2-bin-hadoop3/examples/src/main/java/org/apache/spark/examples/sql/\n",
            "spark-3.3.2-bin-hadoop3/examples/src/main/java/org/apache/spark/examples/sql/JavaSQLDataSourceExample.java\n",
            "spark-3.3.2-bin-hadoop3/examples/src/main/java/org/apache/spark/examples/sql/JavaSparkSQLExample.java\n",
            "spark-3.3.2-bin-hadoop3/examples/src/main/java/org/apache/spark/examples/sql/JavaUserDefinedScalar.java\n",
            "spark-3.3.2-bin-hadoop3/examples/src/main/java/org/apache/spark/examples/sql/JavaUserDefinedTypedAggregation.java\n",
            "spark-3.3.2-bin-hadoop3/examples/src/main/java/org/apache/spark/examples/sql/JavaUserDefinedUntypedAggregation.java\n",
            "spark-3.3.2-bin-hadoop3/examples/src/main/java/org/apache/spark/examples/sql/hive/\n",
            "spark-3.3.2-bin-hadoop3/examples/src/main/java/org/apache/spark/examples/sql/hive/JavaSparkHiveExample.java\n",
            "spark-3.3.2-bin-hadoop3/examples/src/main/java/org/apache/spark/examples/sql/streaming/\n",
            "spark-3.3.2-bin-hadoop3/examples/src/main/java/org/apache/spark/examples/sql/streaming/JavaStructuredComplexSessionization.java\n",
            "spark-3.3.2-bin-hadoop3/examples/src/main/java/org/apache/spark/examples/sql/streaming/JavaStructuredKafkaWordCount.java\n",
            "spark-3.3.2-bin-hadoop3/examples/src/main/java/org/apache/spark/examples/sql/streaming/JavaStructuredKerberizedKafkaWordCount.java\n",
            "spark-3.3.2-bin-hadoop3/examples/src/main/java/org/apache/spark/examples/sql/streaming/JavaStructuredNetworkWordCount.java\n",
            "spark-3.3.2-bin-hadoop3/examples/src/main/java/org/apache/spark/examples/sql/streaming/JavaStructuredNetworkWordCountWindowed.java\n",
            "spark-3.3.2-bin-hadoop3/examples/src/main/java/org/apache/spark/examples/sql/streaming/JavaStructuredSessionization.java\n",
            "spark-3.3.2-bin-hadoop3/examples/src/main/java/org/apache/spark/examples/streaming/\n",
            "spark-3.3.2-bin-hadoop3/examples/src/main/java/org/apache/spark/examples/streaming/JavaCustomReceiver.java\n",
            "spark-3.3.2-bin-hadoop3/examples/src/main/java/org/apache/spark/examples/streaming/JavaDirectKafkaWordCount.java\n",
            "spark-3.3.2-bin-hadoop3/examples/src/main/java/org/apache/spark/examples/streaming/JavaDirectKerberizedKafkaWordCount.java\n",
            "spark-3.3.2-bin-hadoop3/examples/src/main/java/org/apache/spark/examples/streaming/JavaNetworkWordCount.java\n",
            "spark-3.3.2-bin-hadoop3/examples/src/main/java/org/apache/spark/examples/streaming/JavaQueueStream.java\n",
            "spark-3.3.2-bin-hadoop3/examples/src/main/java/org/apache/spark/examples/streaming/JavaRecord.java\n",
            "spark-3.3.2-bin-hadoop3/examples/src/main/java/org/apache/spark/examples/streaming/JavaRecoverableNetworkWordCount.java\n",
            "spark-3.3.2-bin-hadoop3/examples/src/main/java/org/apache/spark/examples/streaming/JavaSqlNetworkWordCount.java\n",
            "spark-3.3.2-bin-hadoop3/examples/src/main/java/org/apache/spark/examples/streaming/JavaStatefulNetworkWordCount.java\n",
            "spark-3.3.2-bin-hadoop3/examples/src/main/python/\n",
            "spark-3.3.2-bin-hadoop3/examples/src/main/python/__init__.py\n",
            "spark-3.3.2-bin-hadoop3/examples/src/main/python/als.py\n",
            "spark-3.3.2-bin-hadoop3/examples/src/main/python/avro_inputformat.py\n",
            "spark-3.3.2-bin-hadoop3/examples/src/main/python/kmeans.py\n",
            "spark-3.3.2-bin-hadoop3/examples/src/main/python/logistic_regression.py\n",
            "spark-3.3.2-bin-hadoop3/examples/src/main/python/ml/\n",
            "spark-3.3.2-bin-hadoop3/examples/src/main/python/ml/__init__,py\n",
            "spark-3.3.2-bin-hadoop3/examples/src/main/python/ml/aft_survival_regression.py\n",
            "spark-3.3.2-bin-hadoop3/examples/src/main/python/ml/als_example.py\n",
            "spark-3.3.2-bin-hadoop3/examples/src/main/python/ml/binarizer_example.py\n",
            "spark-3.3.2-bin-hadoop3/examples/src/main/python/ml/bisecting_k_means_example.py\n",
            "spark-3.3.2-bin-hadoop3/examples/src/main/python/ml/bucketed_random_projection_lsh_example.py\n",
            "spark-3.3.2-bin-hadoop3/examples/src/main/python/ml/bucketizer_example.py\n",
            "spark-3.3.2-bin-hadoop3/examples/src/main/python/ml/chi_square_test_example.py\n",
            "spark-3.3.2-bin-hadoop3/examples/src/main/python/ml/chisq_selector_example.py\n",
            "spark-3.3.2-bin-hadoop3/examples/src/main/python/ml/correlation_example.py\n",
            "spark-3.3.2-bin-hadoop3/examples/src/main/python/ml/count_vectorizer_example.py\n",
            "spark-3.3.2-bin-hadoop3/examples/src/main/python/ml/cross_validator.py\n",
            "spark-3.3.2-bin-hadoop3/examples/src/main/python/ml/dataframe_example.py\n",
            "spark-3.3.2-bin-hadoop3/examples/src/main/python/ml/dct_example.py\n",
            "spark-3.3.2-bin-hadoop3/examples/src/main/python/ml/decision_tree_classification_example.py\n",
            "spark-3.3.2-bin-hadoop3/examples/src/main/python/ml/decision_tree_regression_example.py\n",
            "spark-3.3.2-bin-hadoop3/examples/src/main/python/ml/elementwise_product_example.py\n",
            "spark-3.3.2-bin-hadoop3/examples/src/main/python/ml/estimator_transformer_param_example.py\n",
            "spark-3.3.2-bin-hadoop3/examples/src/main/python/ml/feature_hasher_example.py\n",
            "spark-3.3.2-bin-hadoop3/examples/src/main/python/ml/fm_classifier_example.py\n",
            "spark-3.3.2-bin-hadoop3/examples/src/main/python/ml/fm_regressor_example.py\n",
            "spark-3.3.2-bin-hadoop3/examples/src/main/python/ml/fpgrowth_example.py\n",
            "spark-3.3.2-bin-hadoop3/examples/src/main/python/ml/gaussian_mixture_example.py\n",
            "spark-3.3.2-bin-hadoop3/examples/src/main/python/ml/generalized_linear_regression_example.py\n",
            "spark-3.3.2-bin-hadoop3/examples/src/main/python/ml/gradient_boosted_tree_classifier_example.py\n",
            "spark-3.3.2-bin-hadoop3/examples/src/main/python/ml/gradient_boosted_tree_regressor_example.py\n",
            "spark-3.3.2-bin-hadoop3/examples/src/main/python/ml/imputer_example.py\n",
            "spark-3.3.2-bin-hadoop3/examples/src/main/python/ml/index_to_string_example.py\n",
            "spark-3.3.2-bin-hadoop3/examples/src/main/python/ml/interaction_example.py\n",
            "spark-3.3.2-bin-hadoop3/examples/src/main/python/ml/isotonic_regression_example.py\n",
            "spark-3.3.2-bin-hadoop3/examples/src/main/python/ml/kmeans_example.py\n",
            "spark-3.3.2-bin-hadoop3/examples/src/main/python/ml/lda_example.py\n",
            "spark-3.3.2-bin-hadoop3/examples/src/main/python/ml/linear_regression_with_elastic_net.py\n",
            "spark-3.3.2-bin-hadoop3/examples/src/main/python/ml/linearsvc.py\n",
            "spark-3.3.2-bin-hadoop3/examples/src/main/python/ml/logistic_regression_summary_example.py\n",
            "spark-3.3.2-bin-hadoop3/examples/src/main/python/ml/logistic_regression_with_elastic_net.py\n",
            "spark-3.3.2-bin-hadoop3/examples/src/main/python/ml/max_abs_scaler_example.py\n",
            "spark-3.3.2-bin-hadoop3/examples/src/main/python/ml/min_hash_lsh_example.py\n",
            "spark-3.3.2-bin-hadoop3/examples/src/main/python/ml/min_max_scaler_example.py\n",
            "spark-3.3.2-bin-hadoop3/examples/src/main/python/ml/multiclass_logistic_regression_with_elastic_net.py\n",
            "spark-3.3.2-bin-hadoop3/examples/src/main/python/ml/multilayer_perceptron_classification.py\n",
            "spark-3.3.2-bin-hadoop3/examples/src/main/python/ml/n_gram_example.py\n",
            "spark-3.3.2-bin-hadoop3/examples/src/main/python/ml/naive_bayes_example.py\n",
            "spark-3.3.2-bin-hadoop3/examples/src/main/python/ml/normalizer_example.py\n",
            "spark-3.3.2-bin-hadoop3/examples/src/main/python/ml/one_vs_rest_example.py\n",
            "spark-3.3.2-bin-hadoop3/examples/src/main/python/ml/onehot_encoder_example.py\n",
            "spark-3.3.2-bin-hadoop3/examples/src/main/python/ml/pca_example.py\n",
            "spark-3.3.2-bin-hadoop3/examples/src/main/python/ml/pipeline_example.py\n",
            "spark-3.3.2-bin-hadoop3/examples/src/main/python/ml/polynomial_expansion_example.py\n",
            "spark-3.3.2-bin-hadoop3/examples/src/main/python/ml/power_iteration_clustering_example.py\n",
            "spark-3.3.2-bin-hadoop3/examples/src/main/python/ml/prefixspan_example.py\n",
            "spark-3.3.2-bin-hadoop3/examples/src/main/python/ml/quantile_discretizer_example.py\n",
            "spark-3.3.2-bin-hadoop3/examples/src/main/python/ml/random_forest_classifier_example.py\n",
            "spark-3.3.2-bin-hadoop3/examples/src/main/python/ml/random_forest_regressor_example.py\n",
            "spark-3.3.2-bin-hadoop3/examples/src/main/python/ml/rformula_example.py\n",
            "spark-3.3.2-bin-hadoop3/examples/src/main/python/ml/robust_scaler_example.py\n",
            "spark-3.3.2-bin-hadoop3/examples/src/main/python/ml/sql_transformer.py\n",
            "spark-3.3.2-bin-hadoop3/examples/src/main/python/ml/standard_scaler_example.py\n",
            "spark-3.3.2-bin-hadoop3/examples/src/main/python/ml/stopwords_remover_example.py\n",
            "spark-3.3.2-bin-hadoop3/examples/src/main/python/ml/string_indexer_example.py\n",
            "spark-3.3.2-bin-hadoop3/examples/src/main/python/ml/summarizer_example.py\n",
            "spark-3.3.2-bin-hadoop3/examples/src/main/python/ml/tf_idf_example.py\n",
            "spark-3.3.2-bin-hadoop3/examples/src/main/python/ml/tokenizer_example.py\n",
            "spark-3.3.2-bin-hadoop3/examples/src/main/python/ml/train_validation_split.py\n",
            "spark-3.3.2-bin-hadoop3/examples/src/main/python/ml/univariate_feature_selector_example.py\n",
            "spark-3.3.2-bin-hadoop3/examples/src/main/python/ml/variance_threshold_selector_example.py\n",
            "spark-3.3.2-bin-hadoop3/examples/src/main/python/ml/vector_assembler_example.py\n",
            "spark-3.3.2-bin-hadoop3/examples/src/main/python/ml/vector_indexer_example.py\n",
            "spark-3.3.2-bin-hadoop3/examples/src/main/python/ml/vector_size_hint_example.py\n",
            "spark-3.3.2-bin-hadoop3/examples/src/main/python/ml/vector_slicer_example.py\n",
            "spark-3.3.2-bin-hadoop3/examples/src/main/python/ml/word2vec_example.py\n",
            "spark-3.3.2-bin-hadoop3/examples/src/main/python/mllib/\n",
            "spark-3.3.2-bin-hadoop3/examples/src/main/python/mllib/__init__.py\n",
            "spark-3.3.2-bin-hadoop3/examples/src/main/python/mllib/binary_classification_metrics_example.py\n",
            "spark-3.3.2-bin-hadoop3/examples/src/main/python/mllib/bisecting_k_means_example.py\n",
            "spark-3.3.2-bin-hadoop3/examples/src/main/python/mllib/correlations.py\n",
            "spark-3.3.2-bin-hadoop3/examples/src/main/python/mllib/correlations_example.py\n",
            "spark-3.3.2-bin-hadoop3/examples/src/main/python/mllib/decision_tree_classification_example.py\n",
            "spark-3.3.2-bin-hadoop3/examples/src/main/python/mllib/decision_tree_regression_example.py\n",
            "spark-3.3.2-bin-hadoop3/examples/src/main/python/mllib/elementwise_product_example.py\n",
            "spark-3.3.2-bin-hadoop3/examples/src/main/python/mllib/fpgrowth_example.py\n",
            "spark-3.3.2-bin-hadoop3/examples/src/main/python/mllib/gaussian_mixture_example.py\n",
            "spark-3.3.2-bin-hadoop3/examples/src/main/python/mllib/gaussian_mixture_model.py\n",
            "spark-3.3.2-bin-hadoop3/examples/src/main/python/mllib/gradient_boosting_classification_example.py\n",
            "spark-3.3.2-bin-hadoop3/examples/src/main/python/mllib/gradient_boosting_regression_example.py\n",
            "spark-3.3.2-bin-hadoop3/examples/src/main/python/mllib/hypothesis_testing_example.py\n",
            "spark-3.3.2-bin-hadoop3/examples/src/main/python/mllib/hypothesis_testing_kolmogorov_smirnov_test_example.py\n",
            "spark-3.3.2-bin-hadoop3/examples/src/main/python/mllib/isotonic_regression_example.py\n",
            "spark-3.3.2-bin-hadoop3/examples/src/main/python/mllib/k_means_example.py\n",
            "spark-3.3.2-bin-hadoop3/examples/src/main/python/mllib/kernel_density_estimation_example.py\n",
            "spark-3.3.2-bin-hadoop3/examples/src/main/python/mllib/kmeans.py\n",
            "spark-3.3.2-bin-hadoop3/examples/src/main/python/mllib/latent_dirichlet_allocation_example.py\n",
            "spark-3.3.2-bin-hadoop3/examples/src/main/python/mllib/linear_regression_with_sgd_example.py\n",
            "spark-3.3.2-bin-hadoop3/examples/src/main/python/mllib/logistic_regression.py\n",
            "spark-3.3.2-bin-hadoop3/examples/src/main/python/mllib/logistic_regression_with_lbfgs_example.py\n",
            "spark-3.3.2-bin-hadoop3/examples/src/main/python/mllib/multi_class_metrics_example.py\n",
            "spark-3.3.2-bin-hadoop3/examples/src/main/python/mllib/multi_label_metrics_example.py\n",
            "spark-3.3.2-bin-hadoop3/examples/src/main/python/mllib/naive_bayes_example.py\n",
            "spark-3.3.2-bin-hadoop3/examples/src/main/python/mllib/normalizer_example.py\n",
            "spark-3.3.2-bin-hadoop3/examples/src/main/python/mllib/pca_rowmatrix_example.py\n",
            "spark-3.3.2-bin-hadoop3/examples/src/main/python/mllib/power_iteration_clustering_example.py\n",
            "spark-3.3.2-bin-hadoop3/examples/src/main/python/mllib/random_forest_classification_example.py\n",
            "spark-3.3.2-bin-hadoop3/examples/src/main/python/mllib/random_forest_regression_example.py\n",
            "spark-3.3.2-bin-hadoop3/examples/src/main/python/mllib/random_rdd_generation.py\n",
            "spark-3.3.2-bin-hadoop3/examples/src/main/python/mllib/ranking_metrics_example.py\n",
            "spark-3.3.2-bin-hadoop3/examples/src/main/python/mllib/recommendation_example.py\n",
            "spark-3.3.2-bin-hadoop3/examples/src/main/python/mllib/regression_metrics_example.py\n",
            "spark-3.3.2-bin-hadoop3/examples/src/main/python/mllib/sampled_rdds.py\n",
            "spark-3.3.2-bin-hadoop3/examples/src/main/python/mllib/standard_scaler_example.py\n",
            "spark-3.3.2-bin-hadoop3/examples/src/main/python/mllib/stratified_sampling_example.py\n",
            "spark-3.3.2-bin-hadoop3/examples/src/main/python/mllib/streaming_k_means_example.py\n",
            "spark-3.3.2-bin-hadoop3/examples/src/main/python/mllib/streaming_linear_regression_example.py\n",
            "spark-3.3.2-bin-hadoop3/examples/src/main/python/mllib/summary_statistics_example.py\n",
            "spark-3.3.2-bin-hadoop3/examples/src/main/python/mllib/svd_example.py\n",
            "spark-3.3.2-bin-hadoop3/examples/src/main/python/mllib/svm_with_sgd_example.py\n",
            "spark-3.3.2-bin-hadoop3/examples/src/main/python/mllib/tf_idf_example.py\n",
            "spark-3.3.2-bin-hadoop3/examples/src/main/python/mllib/word2vec.py\n",
            "spark-3.3.2-bin-hadoop3/examples/src/main/python/mllib/word2vec_example.py\n",
            "spark-3.3.2-bin-hadoop3/examples/src/main/python/pagerank.py\n",
            "spark-3.3.2-bin-hadoop3/examples/src/main/python/parquet_inputformat.py\n",
            "spark-3.3.2-bin-hadoop3/examples/src/main/python/pi.py\n",
            "spark-3.3.2-bin-hadoop3/examples/src/main/python/sort.py\n",
            "spark-3.3.2-bin-hadoop3/examples/src/main/python/sql/\n",
            "spark-3.3.2-bin-hadoop3/examples/src/main/python/sql/__init__.py\n",
            "spark-3.3.2-bin-hadoop3/examples/src/main/python/sql/arrow.py\n",
            "spark-3.3.2-bin-hadoop3/examples/src/main/python/sql/basic.py\n",
            "spark-3.3.2-bin-hadoop3/examples/src/main/python/sql/datasource.py\n",
            "spark-3.3.2-bin-hadoop3/examples/src/main/python/sql/hive.py\n",
            "spark-3.3.2-bin-hadoop3/examples/src/main/python/sql/streaming/\n",
            "spark-3.3.2-bin-hadoop3/examples/src/main/python/sql/streaming/__init__,py\n",
            "spark-3.3.2-bin-hadoop3/examples/src/main/python/sql/streaming/structured_kafka_wordcount.py\n",
            "spark-3.3.2-bin-hadoop3/examples/src/main/python/sql/streaming/structured_network_wordcount.py\n",
            "spark-3.3.2-bin-hadoop3/examples/src/main/python/sql/streaming/structured_network_wordcount_windowed.py\n",
            "spark-3.3.2-bin-hadoop3/examples/src/main/python/sql/streaming/structured_sessionization.py\n",
            "spark-3.3.2-bin-hadoop3/examples/src/main/python/status_api_demo.py\n",
            "spark-3.3.2-bin-hadoop3/examples/src/main/python/streaming/\n",
            "spark-3.3.2-bin-hadoop3/examples/src/main/python/streaming/__init__.py\n",
            "spark-3.3.2-bin-hadoop3/examples/src/main/python/streaming/hdfs_wordcount.py\n",
            "spark-3.3.2-bin-hadoop3/examples/src/main/python/streaming/network_wordcount.py\n",
            "spark-3.3.2-bin-hadoop3/examples/src/main/python/streaming/network_wordjoinsentiments.py\n",
            "spark-3.3.2-bin-hadoop3/examples/src/main/python/streaming/queue_stream.py\n",
            "spark-3.3.2-bin-hadoop3/examples/src/main/python/streaming/recoverable_network_wordcount.py\n",
            "spark-3.3.2-bin-hadoop3/examples/src/main/python/streaming/sql_network_wordcount.py\n",
            "spark-3.3.2-bin-hadoop3/examples/src/main/python/streaming/stateful_network_wordcount.py\n",
            "spark-3.3.2-bin-hadoop3/examples/src/main/python/transitive_closure.py\n",
            "spark-3.3.2-bin-hadoop3/examples/src/main/python/wordcount.py\n",
            "spark-3.3.2-bin-hadoop3/examples/src/main/r/\n",
            "spark-3.3.2-bin-hadoop3/examples/src/main/r/RSparkSQLExample.R\n",
            "spark-3.3.2-bin-hadoop3/examples/src/main/r/data-manipulation.R\n",
            "spark-3.3.2-bin-hadoop3/examples/src/main/r/dataframe.R\n",
            "spark-3.3.2-bin-hadoop3/examples/src/main/r/ml/\n",
            "spark-3.3.2-bin-hadoop3/examples/src/main/r/ml/als.R\n",
            "spark-3.3.2-bin-hadoop3/examples/src/main/r/ml/bisectingKmeans.R\n",
            "spark-3.3.2-bin-hadoop3/examples/src/main/r/ml/decisionTree.R\n",
            "spark-3.3.2-bin-hadoop3/examples/src/main/r/ml/fmClassifier.R\n",
            "spark-3.3.2-bin-hadoop3/examples/src/main/r/ml/fmRegressor.R\n",
            "spark-3.3.2-bin-hadoop3/examples/src/main/r/ml/fpm.R\n",
            "spark-3.3.2-bin-hadoop3/examples/src/main/r/ml/gaussianMixture.R\n",
            "spark-3.3.2-bin-hadoop3/examples/src/main/r/ml/gbt.R\n",
            "spark-3.3.2-bin-hadoop3/examples/src/main/r/ml/glm.R\n",
            "spark-3.3.2-bin-hadoop3/examples/src/main/r/ml/isoreg.R\n",
            "spark-3.3.2-bin-hadoop3/examples/src/main/r/ml/kmeans.R\n",
            "spark-3.3.2-bin-hadoop3/examples/src/main/r/ml/kstest.R\n",
            "spark-3.3.2-bin-hadoop3/examples/src/main/r/ml/lda.R\n",
            "spark-3.3.2-bin-hadoop3/examples/src/main/r/ml/lm_with_elastic_net.R\n",
            "spark-3.3.2-bin-hadoop3/examples/src/main/r/ml/logit.R\n",
            "spark-3.3.2-bin-hadoop3/examples/src/main/r/ml/ml.R\n",
            "spark-3.3.2-bin-hadoop3/examples/src/main/r/ml/mlp.R\n",
            "spark-3.3.2-bin-hadoop3/examples/src/main/r/ml/naiveBayes.R\n",
            "spark-3.3.2-bin-hadoop3/examples/src/main/r/ml/powerIterationClustering.R\n",
            "spark-3.3.2-bin-hadoop3/examples/src/main/r/ml/prefixSpan.R\n",
            "spark-3.3.2-bin-hadoop3/examples/src/main/r/ml/randomForest.R\n",
            "spark-3.3.2-bin-hadoop3/examples/src/main/r/ml/survreg.R\n",
            "spark-3.3.2-bin-hadoop3/examples/src/main/r/ml/svmLinear.R\n",
            "spark-3.3.2-bin-hadoop3/examples/src/main/r/streaming/\n",
            "spark-3.3.2-bin-hadoop3/examples/src/main/r/streaming/structured_network_wordcount.R\n",
            "spark-3.3.2-bin-hadoop3/examples/src/main/resources/\n",
            "spark-3.3.2-bin-hadoop3/examples/src/main/resources/META-INF/\n",
            "spark-3.3.2-bin-hadoop3/examples/src/main/resources/META-INF/services/\n",
            "spark-3.3.2-bin-hadoop3/examples/src/main/resources/META-INF/services/org.apache.spark.sql.SparkSessionExtensionsProvider\n",
            "spark-3.3.2-bin-hadoop3/examples/src/main/resources/META-INF/services/org.apache.spark.sql.jdbc.JdbcConnectionProvider\n",
            "spark-3.3.2-bin-hadoop3/examples/src/main/resources/dir1/\n",
            "spark-3.3.2-bin-hadoop3/examples/src/main/resources/dir1/dir2/\n",
            "spark-3.3.2-bin-hadoop3/examples/src/main/resources/dir1/dir2/file2.parquet\n",
            "spark-3.3.2-bin-hadoop3/examples/src/main/resources/dir1/file1.parquet\n",
            "spark-3.3.2-bin-hadoop3/examples/src/main/resources/dir1/file3.json\n",
            "spark-3.3.2-bin-hadoop3/examples/src/main/resources/employees.json\n",
            "spark-3.3.2-bin-hadoop3/examples/src/main/resources/full_user.avsc\n",
            "spark-3.3.2-bin-hadoop3/examples/src/main/resources/kv1.txt\n",
            "spark-3.3.2-bin-hadoop3/examples/src/main/resources/people.csv\n",
            "spark-3.3.2-bin-hadoop3/examples/src/main/resources/people.json\n",
            "spark-3.3.2-bin-hadoop3/examples/src/main/resources/people.txt\n",
            "spark-3.3.2-bin-hadoop3/examples/src/main/resources/user.avsc\n",
            "spark-3.3.2-bin-hadoop3/examples/src/main/resources/users.avro\n",
            "spark-3.3.2-bin-hadoop3/examples/src/main/resources/users.orc\n",
            "spark-3.3.2-bin-hadoop3/examples/src/main/resources/users.parquet\n",
            "spark-3.3.2-bin-hadoop3/examples/src/main/scala/\n",
            "spark-3.3.2-bin-hadoop3/examples/src/main/scala/org/\n",
            "spark-3.3.2-bin-hadoop3/examples/src/main/scala/org/apache/\n",
            "spark-3.3.2-bin-hadoop3/examples/src/main/scala/org/apache/spark/\n",
            "spark-3.3.2-bin-hadoop3/examples/src/main/scala/org/apache/spark/examples/\n",
            "spark-3.3.2-bin-hadoop3/examples/src/main/scala/org/apache/spark/examples/AccumulatorMetricsTest.scala\n",
            "spark-3.3.2-bin-hadoop3/examples/src/main/scala/org/apache/spark/examples/BroadcastTest.scala\n",
            "spark-3.3.2-bin-hadoop3/examples/src/main/scala/org/apache/spark/examples/DFSReadWriteTest.scala\n",
            "spark-3.3.2-bin-hadoop3/examples/src/main/scala/org/apache/spark/examples/DriverSubmissionTest.scala\n",
            "spark-3.3.2-bin-hadoop3/examples/src/main/scala/org/apache/spark/examples/ExceptionHandlingTest.scala\n",
            "spark-3.3.2-bin-hadoop3/examples/src/main/scala/org/apache/spark/examples/GroupByTest.scala\n",
            "spark-3.3.2-bin-hadoop3/examples/src/main/scala/org/apache/spark/examples/HdfsTest.scala\n",
            "spark-3.3.2-bin-hadoop3/examples/src/main/scala/org/apache/spark/examples/LocalALS.scala\n",
            "spark-3.3.2-bin-hadoop3/examples/src/main/scala/org/apache/spark/examples/LocalFileLR.scala\n",
            "spark-3.3.2-bin-hadoop3/examples/src/main/scala/org/apache/spark/examples/LocalKMeans.scala\n",
            "spark-3.3.2-bin-hadoop3/examples/src/main/scala/org/apache/spark/examples/LocalLR.scala\n",
            "spark-3.3.2-bin-hadoop3/examples/src/main/scala/org/apache/spark/examples/LocalPi.scala\n",
            "spark-3.3.2-bin-hadoop3/examples/src/main/scala/org/apache/spark/examples/LogQuery.scala\n",
            "spark-3.3.2-bin-hadoop3/examples/src/main/scala/org/apache/spark/examples/MiniReadWriteTest.scala\n",
            "spark-3.3.2-bin-hadoop3/examples/src/main/scala/org/apache/spark/examples/MultiBroadcastTest.scala\n",
            "spark-3.3.2-bin-hadoop3/examples/src/main/scala/org/apache/spark/examples/SimpleSkewedGroupByTest.scala\n",
            "spark-3.3.2-bin-hadoop3/examples/src/main/scala/org/apache/spark/examples/SkewedGroupByTest.scala\n",
            "spark-3.3.2-bin-hadoop3/examples/src/main/scala/org/apache/spark/examples/SparkALS.scala\n",
            "spark-3.3.2-bin-hadoop3/examples/src/main/scala/org/apache/spark/examples/SparkHdfsLR.scala\n",
            "spark-3.3.2-bin-hadoop3/examples/src/main/scala/org/apache/spark/examples/SparkKMeans.scala\n",
            "spark-3.3.2-bin-hadoop3/examples/src/main/scala/org/apache/spark/examples/SparkLR.scala\n",
            "spark-3.3.2-bin-hadoop3/examples/src/main/scala/org/apache/spark/examples/SparkPageRank.scala\n",
            "spark-3.3.2-bin-hadoop3/examples/src/main/scala/org/apache/spark/examples/SparkPi.scala\n",
            "spark-3.3.2-bin-hadoop3/examples/src/main/scala/org/apache/spark/examples/SparkRemoteFileTest.scala\n",
            "spark-3.3.2-bin-hadoop3/examples/src/main/scala/org/apache/spark/examples/SparkTC.scala\n",
            "spark-3.3.2-bin-hadoop3/examples/src/main/scala/org/apache/spark/examples/extensions/\n",
            "spark-3.3.2-bin-hadoop3/examples/src/main/scala/org/apache/spark/examples/extensions/AgeExample.scala\n",
            "spark-3.3.2-bin-hadoop3/examples/src/main/scala/org/apache/spark/examples/extensions/SessionExtensionsWithLoader.scala\n",
            "spark-3.3.2-bin-hadoop3/examples/src/main/scala/org/apache/spark/examples/extensions/SessionExtensionsWithoutLoader.scala\n",
            "spark-3.3.2-bin-hadoop3/examples/src/main/scala/org/apache/spark/examples/extensions/SparkSessionExtensionsTest.scala\n",
            "spark-3.3.2-bin-hadoop3/examples/src/main/scala/org/apache/spark/examples/graphx/\n",
            "spark-3.3.2-bin-hadoop3/examples/src/main/scala/org/apache/spark/examples/graphx/AggregateMessagesExample.scala\n",
            "spark-3.3.2-bin-hadoop3/examples/src/main/scala/org/apache/spark/examples/graphx/Analytics.scala\n",
            "spark-3.3.2-bin-hadoop3/examples/src/main/scala/org/apache/spark/examples/graphx/ComprehensiveExample.scala\n",
            "spark-3.3.2-bin-hadoop3/examples/src/main/scala/org/apache/spark/examples/graphx/ConnectedComponentsExample.scala\n",
            "spark-3.3.2-bin-hadoop3/examples/src/main/scala/org/apache/spark/examples/graphx/LiveJournalPageRank.scala\n",
            "spark-3.3.2-bin-hadoop3/examples/src/main/scala/org/apache/spark/examples/graphx/PageRankExample.scala\n",
            "spark-3.3.2-bin-hadoop3/examples/src/main/scala/org/apache/spark/examples/graphx/SSSPExample.scala\n",
            "spark-3.3.2-bin-hadoop3/examples/src/main/scala/org/apache/spark/examples/graphx/SynthBenchmark.scala\n",
            "spark-3.3.2-bin-hadoop3/examples/src/main/scala/org/apache/spark/examples/graphx/TriangleCountingExample.scala\n",
            "spark-3.3.2-bin-hadoop3/examples/src/main/scala/org/apache/spark/examples/ml/\n",
            "spark-3.3.2-bin-hadoop3/examples/src/main/scala/org/apache/spark/examples/ml/AFTSurvivalRegressionExample.scala\n",
            "spark-3.3.2-bin-hadoop3/examples/src/main/scala/org/apache/spark/examples/ml/ALSExample.scala\n",
            "spark-3.3.2-bin-hadoop3/examples/src/main/scala/org/apache/spark/examples/ml/BinarizerExample.scala\n",
            "spark-3.3.2-bin-hadoop3/examples/src/main/scala/org/apache/spark/examples/ml/BisectingKMeansExample.scala\n",
            "spark-3.3.2-bin-hadoop3/examples/src/main/scala/org/apache/spark/examples/ml/BucketedRandomProjectionLSHExample.scala\n",
            "spark-3.3.2-bin-hadoop3/examples/src/main/scala/org/apache/spark/examples/ml/BucketizerExample.scala\n",
            "spark-3.3.2-bin-hadoop3/examples/src/main/scala/org/apache/spark/examples/ml/ChiSqSelectorExample.scala\n",
            "spark-3.3.2-bin-hadoop3/examples/src/main/scala/org/apache/spark/examples/ml/ChiSquareTestExample.scala\n",
            "spark-3.3.2-bin-hadoop3/examples/src/main/scala/org/apache/spark/examples/ml/CorrelationExample.scala\n",
            "spark-3.3.2-bin-hadoop3/examples/src/main/scala/org/apache/spark/examples/ml/CountVectorizerExample.scala\n",
            "spark-3.3.2-bin-hadoop3/examples/src/main/scala/org/apache/spark/examples/ml/DCTExample.scala\n",
            "spark-3.3.2-bin-hadoop3/examples/src/main/scala/org/apache/spark/examples/ml/DataFrameExample.scala\n",
            "spark-3.3.2-bin-hadoop3/examples/src/main/scala/org/apache/spark/examples/ml/DecisionTreeClassificationExample.scala\n",
            "spark-3.3.2-bin-hadoop3/examples/src/main/scala/org/apache/spark/examples/ml/DecisionTreeExample.scala\n",
            "spark-3.3.2-bin-hadoop3/examples/src/main/scala/org/apache/spark/examples/ml/DecisionTreeRegressionExample.scala\n",
            "spark-3.3.2-bin-hadoop3/examples/src/main/scala/org/apache/spark/examples/ml/DeveloperApiExample.scala\n",
            "spark-3.3.2-bin-hadoop3/examples/src/main/scala/org/apache/spark/examples/ml/ElementwiseProductExample.scala\n",
            "spark-3.3.2-bin-hadoop3/examples/src/main/scala/org/apache/spark/examples/ml/EstimatorTransformerParamExample.scala\n",
            "spark-3.3.2-bin-hadoop3/examples/src/main/scala/org/apache/spark/examples/ml/FMClassifierExample.scala\n",
            "spark-3.3.2-bin-hadoop3/examples/src/main/scala/org/apache/spark/examples/ml/FMRegressorExample.scala\n",
            "spark-3.3.2-bin-hadoop3/examples/src/main/scala/org/apache/spark/examples/ml/FPGrowthExample.scala\n",
            "spark-3.3.2-bin-hadoop3/examples/src/main/scala/org/apache/spark/examples/ml/FeatureHasherExample.scala\n",
            "spark-3.3.2-bin-hadoop3/examples/src/main/scala/org/apache/spark/examples/ml/GBTExample.scala\n",
            "spark-3.3.2-bin-hadoop3/examples/src/main/scala/org/apache/spark/examples/ml/GaussianMixtureExample.scala\n",
            "spark-3.3.2-bin-hadoop3/examples/src/main/scala/org/apache/spark/examples/ml/GeneralizedLinearRegressionExample.scala\n",
            "spark-3.3.2-bin-hadoop3/examples/src/main/scala/org/apache/spark/examples/ml/GradientBoostedTreeClassifierExample.scala\n",
            "spark-3.3.2-bin-hadoop3/examples/src/main/scala/org/apache/spark/examples/ml/GradientBoostedTreeRegressorExample.scala\n",
            "spark-3.3.2-bin-hadoop3/examples/src/main/scala/org/apache/spark/examples/ml/ImputerExample.scala\n",
            "spark-3.3.2-bin-hadoop3/examples/src/main/scala/org/apache/spark/examples/ml/IndexToStringExample.scala\n",
            "spark-3.3.2-bin-hadoop3/examples/src/main/scala/org/apache/spark/examples/ml/InteractionExample.scala\n",
            "spark-3.3.2-bin-hadoop3/examples/src/main/scala/org/apache/spark/examples/ml/IsotonicRegressionExample.scala\n",
            "spark-3.3.2-bin-hadoop3/examples/src/main/scala/org/apache/spark/examples/ml/KMeansExample.scala\n",
            "spark-3.3.2-bin-hadoop3/examples/src/main/scala/org/apache/spark/examples/ml/LDAExample.scala\n",
            "spark-3.3.2-bin-hadoop3/examples/src/main/scala/org/apache/spark/examples/ml/LinearRegressionExample.scala\n",
            "spark-3.3.2-bin-hadoop3/examples/src/main/scala/org/apache/spark/examples/ml/LinearRegressionWithElasticNetExample.scala\n",
            "spark-3.3.2-bin-hadoop3/examples/src/main/scala/org/apache/spark/examples/ml/LinearSVCExample.scala\n",
            "spark-3.3.2-bin-hadoop3/examples/src/main/scala/org/apache/spark/examples/ml/LogisticRegressionExample.scala\n",
            "spark-3.3.2-bin-hadoop3/examples/src/main/scala/org/apache/spark/examples/ml/LogisticRegressionSummaryExample.scala\n",
            "spark-3.3.2-bin-hadoop3/examples/src/main/scala/org/apache/spark/examples/ml/LogisticRegressionWithElasticNetExample.scala\n",
            "spark-3.3.2-bin-hadoop3/examples/src/main/scala/org/apache/spark/examples/ml/MaxAbsScalerExample.scala\n",
            "spark-3.3.2-bin-hadoop3/examples/src/main/scala/org/apache/spark/examples/ml/MinHashLSHExample.scala\n",
            "spark-3.3.2-bin-hadoop3/examples/src/main/scala/org/apache/spark/examples/ml/MinMaxScalerExample.scala\n",
            "spark-3.3.2-bin-hadoop3/examples/src/main/scala/org/apache/spark/examples/ml/ModelSelectionViaCrossValidationExample.scala\n",
            "spark-3.3.2-bin-hadoop3/examples/src/main/scala/org/apache/spark/examples/ml/ModelSelectionViaTrainValidationSplitExample.scala\n",
            "spark-3.3.2-bin-hadoop3/examples/src/main/scala/org/apache/spark/examples/ml/MulticlassLogisticRegressionWithElasticNetExample.scala\n",
            "spark-3.3.2-bin-hadoop3/examples/src/main/scala/org/apache/spark/examples/ml/MultilayerPerceptronClassifierExample.scala\n",
            "spark-3.3.2-bin-hadoop3/examples/src/main/scala/org/apache/spark/examples/ml/NGramExample.scala\n",
            "spark-3.3.2-bin-hadoop3/examples/src/main/scala/org/apache/spark/examples/ml/NaiveBayesExample.scala\n",
            "spark-3.3.2-bin-hadoop3/examples/src/main/scala/org/apache/spark/examples/ml/NormalizerExample.scala\n",
            "spark-3.3.2-bin-hadoop3/examples/src/main/scala/org/apache/spark/examples/ml/OneHotEncoderExample.scala\n",
            "spark-3.3.2-bin-hadoop3/examples/src/main/scala/org/apache/spark/examples/ml/OneVsRestExample.scala\n",
            "spark-3.3.2-bin-hadoop3/examples/src/main/scala/org/apache/spark/examples/ml/PCAExample.scala\n",
            "spark-3.3.2-bin-hadoop3/examples/src/main/scala/org/apache/spark/examples/ml/PipelineExample.scala\n",
            "spark-3.3.2-bin-hadoop3/examples/src/main/scala/org/apache/spark/examples/ml/PolynomialExpansionExample.scala\n",
            "spark-3.3.2-bin-hadoop3/examples/src/main/scala/org/apache/spark/examples/ml/PowerIterationClusteringExample.scala\n",
            "spark-3.3.2-bin-hadoop3/examples/src/main/scala/org/apache/spark/examples/ml/PrefixSpanExample.scala\n",
            "spark-3.3.2-bin-hadoop3/examples/src/main/scala/org/apache/spark/examples/ml/QuantileDiscretizerExample.scala\n",
            "spark-3.3.2-bin-hadoop3/examples/src/main/scala/org/apache/spark/examples/ml/RFormulaExample.scala\n",
            "spark-3.3.2-bin-hadoop3/examples/src/main/scala/org/apache/spark/examples/ml/RandomForestClassifierExample.scala\n",
            "spark-3.3.2-bin-hadoop3/examples/src/main/scala/org/apache/spark/examples/ml/RandomForestExample.scala\n",
            "spark-3.3.2-bin-hadoop3/examples/src/main/scala/org/apache/spark/examples/ml/RandomForestRegressorExample.scala\n",
            "spark-3.3.2-bin-hadoop3/examples/src/main/scala/org/apache/spark/examples/ml/RobustScalerExample.scala\n",
            "spark-3.3.2-bin-hadoop3/examples/src/main/scala/org/apache/spark/examples/ml/SQLTransformerExample.scala\n",
            "spark-3.3.2-bin-hadoop3/examples/src/main/scala/org/apache/spark/examples/ml/StandardScalerExample.scala\n",
            "spark-3.3.2-bin-hadoop3/examples/src/main/scala/org/apache/spark/examples/ml/StopWordsRemoverExample.scala\n",
            "spark-3.3.2-bin-hadoop3/examples/src/main/scala/org/apache/spark/examples/ml/StringIndexerExample.scala\n",
            "spark-3.3.2-bin-hadoop3/examples/src/main/scala/org/apache/spark/examples/ml/SummarizerExample.scala\n",
            "spark-3.3.2-bin-hadoop3/examples/src/main/scala/org/apache/spark/examples/ml/TfIdfExample.scala\n",
            "spark-3.3.2-bin-hadoop3/examples/src/main/scala/org/apache/spark/examples/ml/TokenizerExample.scala\n",
            "spark-3.3.2-bin-hadoop3/examples/src/main/scala/org/apache/spark/examples/ml/UnaryTransformerExample.scala\n",
            "spark-3.3.2-bin-hadoop3/examples/src/main/scala/org/apache/spark/examples/ml/UnivariateFeatureSelectorExample.scala\n",
            "spark-3.3.2-bin-hadoop3/examples/src/main/scala/org/apache/spark/examples/ml/VarianceThresholdSelectorExample.scala\n",
            "spark-3.3.2-bin-hadoop3/examples/src/main/scala/org/apache/spark/examples/ml/VectorAssemblerExample.scala\n",
            "spark-3.3.2-bin-hadoop3/examples/src/main/scala/org/apache/spark/examples/ml/VectorIndexerExample.scala\n",
            "spark-3.3.2-bin-hadoop3/examples/src/main/scala/org/apache/spark/examples/ml/VectorSizeHintExample.scala\n",
            "spark-3.3.2-bin-hadoop3/examples/src/main/scala/org/apache/spark/examples/ml/VectorSlicerExample.scala\n",
            "spark-3.3.2-bin-hadoop3/examples/src/main/scala/org/apache/spark/examples/ml/Word2VecExample.scala\n",
            "spark-3.3.2-bin-hadoop3/examples/src/main/scala/org/apache/spark/examples/mllib/\n",
            "spark-3.3.2-bin-hadoop3/examples/src/main/scala/org/apache/spark/examples/mllib/AbstractParams.scala\n",
            "spark-3.3.2-bin-hadoop3/examples/src/main/scala/org/apache/spark/examples/mllib/AssociationRulesExample.scala\n",
            "spark-3.3.2-bin-hadoop3/examples/src/main/scala/org/apache/spark/examples/mllib/BinaryClassification.scala\n",
            "spark-3.3.2-bin-hadoop3/examples/src/main/scala/org/apache/spark/examples/mllib/BinaryClassificationMetricsExample.scala\n",
            "spark-3.3.2-bin-hadoop3/examples/src/main/scala/org/apache/spark/examples/mllib/BisectingKMeansExample.scala\n",
            "spark-3.3.2-bin-hadoop3/examples/src/main/scala/org/apache/spark/examples/mllib/ChiSqSelectorExample.scala\n",
            "spark-3.3.2-bin-hadoop3/examples/src/main/scala/org/apache/spark/examples/mllib/Correlations.scala\n",
            "spark-3.3.2-bin-hadoop3/examples/src/main/scala/org/apache/spark/examples/mllib/CorrelationsExample.scala\n",
            "spark-3.3.2-bin-hadoop3/examples/src/main/scala/org/apache/spark/examples/mllib/CosineSimilarity.scala\n",
            "spark-3.3.2-bin-hadoop3/examples/src/main/scala/org/apache/spark/examples/mllib/DecisionTreeClassificationExample.scala\n",
            "spark-3.3.2-bin-hadoop3/examples/src/main/scala/org/apache/spark/examples/mllib/DecisionTreeRegressionExample.scala\n",
            "spark-3.3.2-bin-hadoop3/examples/src/main/scala/org/apache/spark/examples/mllib/DecisionTreeRunner.scala\n",
            "spark-3.3.2-bin-hadoop3/examples/src/main/scala/org/apache/spark/examples/mllib/DenseKMeans.scala\n",
            "spark-3.3.2-bin-hadoop3/examples/src/main/scala/org/apache/spark/examples/mllib/ElementwiseProductExample.scala\n",
            "spark-3.3.2-bin-hadoop3/examples/src/main/scala/org/apache/spark/examples/mllib/FPGrowthExample.scala\n",
            "spark-3.3.2-bin-hadoop3/examples/src/main/scala/org/apache/spark/examples/mllib/GaussianMixtureExample.scala\n",
            "spark-3.3.2-bin-hadoop3/examples/src/main/scala/org/apache/spark/examples/mllib/GradientBoostedTreesRunner.scala\n",
            "spark-3.3.2-bin-hadoop3/examples/src/main/scala/org/apache/spark/examples/mllib/GradientBoostingClassificationExample.scala\n",
            "spark-3.3.2-bin-hadoop3/examples/src/main/scala/org/apache/spark/examples/mllib/GradientBoostingRegressionExample.scala\n",
            "spark-3.3.2-bin-hadoop3/examples/src/main/scala/org/apache/spark/examples/mllib/HypothesisTestingExample.scala\n",
            "spark-3.3.2-bin-hadoop3/examples/src/main/scala/org/apache/spark/examples/mllib/HypothesisTestingKolmogorovSmirnovTestExample.scala\n",
            "spark-3.3.2-bin-hadoop3/examples/src/main/scala/org/apache/spark/examples/mllib/IsotonicRegressionExample.scala\n",
            "spark-3.3.2-bin-hadoop3/examples/src/main/scala/org/apache/spark/examples/mllib/KMeansExample.scala\n",
            "spark-3.3.2-bin-hadoop3/examples/src/main/scala/org/apache/spark/examples/mllib/KernelDensityEstimationExample.scala\n",
            "spark-3.3.2-bin-hadoop3/examples/src/main/scala/org/apache/spark/examples/mllib/LBFGSExample.scala\n",
            "spark-3.3.2-bin-hadoop3/examples/src/main/scala/org/apache/spark/examples/mllib/LDAExample.scala\n",
            "spark-3.3.2-bin-hadoop3/examples/src/main/scala/org/apache/spark/examples/mllib/LatentDirichletAllocationExample.scala\n",
            "spark-3.3.2-bin-hadoop3/examples/src/main/scala/org/apache/spark/examples/mllib/LogisticRegressionWithLBFGSExample.scala\n",
            "spark-3.3.2-bin-hadoop3/examples/src/main/scala/org/apache/spark/examples/mllib/MovieLensALS.scala\n",
            "spark-3.3.2-bin-hadoop3/examples/src/main/scala/org/apache/spark/examples/mllib/MultiLabelMetricsExample.scala\n",
            "spark-3.3.2-bin-hadoop3/examples/src/main/scala/org/apache/spark/examples/mllib/MulticlassMetricsExample.scala\n",
            "spark-3.3.2-bin-hadoop3/examples/src/main/scala/org/apache/spark/examples/mllib/MultivariateSummarizer.scala\n",
            "spark-3.3.2-bin-hadoop3/examples/src/main/scala/org/apache/spark/examples/mllib/NaiveBayesExample.scala\n",
            "spark-3.3.2-bin-hadoop3/examples/src/main/scala/org/apache/spark/examples/mllib/NormalizerExample.scala\n",
            "spark-3.3.2-bin-hadoop3/examples/src/main/scala/org/apache/spark/examples/mllib/PCAOnRowMatrixExample.scala\n",
            "spark-3.3.2-bin-hadoop3/examples/src/main/scala/org/apache/spark/examples/mllib/PCAOnSourceVectorExample.scala\n",
            "spark-3.3.2-bin-hadoop3/examples/src/main/scala/org/apache/spark/examples/mllib/PMMLModelExportExample.scala\n",
            "spark-3.3.2-bin-hadoop3/examples/src/main/scala/org/apache/spark/examples/mllib/PowerIterationClusteringExample.scala\n",
            "spark-3.3.2-bin-hadoop3/examples/src/main/scala/org/apache/spark/examples/mllib/PrefixSpanExample.scala\n",
            "spark-3.3.2-bin-hadoop3/examples/src/main/scala/org/apache/spark/examples/mllib/RandomForestClassificationExample.scala\n",
            "spark-3.3.2-bin-hadoop3/examples/src/main/scala/org/apache/spark/examples/mllib/RandomForestRegressionExample.scala\n",
            "spark-3.3.2-bin-hadoop3/examples/src/main/scala/org/apache/spark/examples/mllib/RandomRDDGeneration.scala\n",
            "spark-3.3.2-bin-hadoop3/examples/src/main/scala/org/apache/spark/examples/mllib/RankingMetricsExample.scala\n",
            "spark-3.3.2-bin-hadoop3/examples/src/main/scala/org/apache/spark/examples/mllib/RecommendationExample.scala\n",
            "spark-3.3.2-bin-hadoop3/examples/src/main/scala/org/apache/spark/examples/mllib/SVDExample.scala\n",
            "spark-3.3.2-bin-hadoop3/examples/src/main/scala/org/apache/spark/examples/mllib/SVMWithSGDExample.scala\n",
            "spark-3.3.2-bin-hadoop3/examples/src/main/scala/org/apache/spark/examples/mllib/SampledRDDs.scala\n",
            "spark-3.3.2-bin-hadoop3/examples/src/main/scala/org/apache/spark/examples/mllib/SimpleFPGrowth.scala\n",
            "spark-3.3.2-bin-hadoop3/examples/src/main/scala/org/apache/spark/examples/mllib/SparseNaiveBayes.scala\n",
            "spark-3.3.2-bin-hadoop3/examples/src/main/scala/org/apache/spark/examples/mllib/StandardScalerExample.scala\n",
            "spark-3.3.2-bin-hadoop3/examples/src/main/scala/org/apache/spark/examples/mllib/StratifiedSamplingExample.scala\n",
            "spark-3.3.2-bin-hadoop3/examples/src/main/scala/org/apache/spark/examples/mllib/StreamingKMeansExample.scala\n",
            "spark-3.3.2-bin-hadoop3/examples/src/main/scala/org/apache/spark/examples/mllib/StreamingLinearRegressionExample.scala\n",
            "spark-3.3.2-bin-hadoop3/examples/src/main/scala/org/apache/spark/examples/mllib/StreamingLogisticRegression.scala\n",
            "spark-3.3.2-bin-hadoop3/examples/src/main/scala/org/apache/spark/examples/mllib/StreamingTestExample.scala\n",
            "spark-3.3.2-bin-hadoop3/examples/src/main/scala/org/apache/spark/examples/mllib/SummaryStatisticsExample.scala\n",
            "spark-3.3.2-bin-hadoop3/examples/src/main/scala/org/apache/spark/examples/mllib/TFIDFExample.scala\n",
            "spark-3.3.2-bin-hadoop3/examples/src/main/scala/org/apache/spark/examples/mllib/TallSkinnyPCA.scala\n",
            "spark-3.3.2-bin-hadoop3/examples/src/main/scala/org/apache/spark/examples/mllib/TallSkinnySVD.scala\n",
            "spark-3.3.2-bin-hadoop3/examples/src/main/scala/org/apache/spark/examples/mllib/Word2VecExample.scala\n",
            "spark-3.3.2-bin-hadoop3/examples/src/main/scala/org/apache/spark/examples/pythonconverters/\n",
            "spark-3.3.2-bin-hadoop3/examples/src/main/scala/org/apache/spark/examples/pythonconverters/AvroConverters.scala\n",
            "spark-3.3.2-bin-hadoop3/examples/src/main/scala/org/apache/spark/examples/sql/\n",
            "spark-3.3.2-bin-hadoop3/examples/src/main/scala/org/apache/spark/examples/sql/RDDRelation.scala\n",
            "spark-3.3.2-bin-hadoop3/examples/src/main/scala/org/apache/spark/examples/sql/SQLDataSourceExample.scala\n",
            "spark-3.3.2-bin-hadoop3/examples/src/main/scala/org/apache/spark/examples/sql/SimpleTypedAggregator.scala\n",
            "spark-3.3.2-bin-hadoop3/examples/src/main/scala/org/apache/spark/examples/sql/SparkSQLExample.scala\n",
            "spark-3.3.2-bin-hadoop3/examples/src/main/scala/org/apache/spark/examples/sql/UserDefinedScalar.scala\n",
            "spark-3.3.2-bin-hadoop3/examples/src/main/scala/org/apache/spark/examples/sql/UserDefinedTypedAggregation.scala\n",
            "spark-3.3.2-bin-hadoop3/examples/src/main/scala/org/apache/spark/examples/sql/UserDefinedUntypedAggregation.scala\n",
            "spark-3.3.2-bin-hadoop3/examples/src/main/scala/org/apache/spark/examples/sql/hive/\n",
            "spark-3.3.2-bin-hadoop3/examples/src/main/scala/org/apache/spark/examples/sql/hive/SparkHiveExample.scala\n",
            "spark-3.3.2-bin-hadoop3/examples/src/main/scala/org/apache/spark/examples/sql/jdbc/\n",
            "spark-3.3.2-bin-hadoop3/examples/src/main/scala/org/apache/spark/examples/sql/jdbc/ExampleJdbcConnectionProvider.scala\n",
            "spark-3.3.2-bin-hadoop3/examples/src/main/scala/org/apache/spark/examples/sql/streaming/\n",
            "spark-3.3.2-bin-hadoop3/examples/src/main/scala/org/apache/spark/examples/sql/streaming/StructuredComplexSessionization.scala\n",
            "spark-3.3.2-bin-hadoop3/examples/src/main/scala/org/apache/spark/examples/sql/streaming/StructuredKafkaWordCount.scala\n",
            "spark-3.3.2-bin-hadoop3/examples/src/main/scala/org/apache/spark/examples/sql/streaming/StructuredKerberizedKafkaWordCount.scala\n",
            "spark-3.3.2-bin-hadoop3/examples/src/main/scala/org/apache/spark/examples/sql/streaming/StructuredNetworkWordCount.scala\n",
            "spark-3.3.2-bin-hadoop3/examples/src/main/scala/org/apache/spark/examples/sql/streaming/StructuredNetworkWordCountWindowed.scala\n",
            "spark-3.3.2-bin-hadoop3/examples/src/main/scala/org/apache/spark/examples/sql/streaming/StructuredSessionization.scala\n",
            "spark-3.3.2-bin-hadoop3/examples/src/main/scala/org/apache/spark/examples/streaming/\n",
            "spark-3.3.2-bin-hadoop3/examples/src/main/scala/org/apache/spark/examples/streaming/CustomReceiver.scala\n",
            "spark-3.3.2-bin-hadoop3/examples/src/main/scala/org/apache/spark/examples/streaming/DirectKafkaWordCount.scala\n",
            "spark-3.3.2-bin-hadoop3/examples/src/main/scala/org/apache/spark/examples/streaming/DirectKerberizedKafkaWordCount.scala\n",
            "spark-3.3.2-bin-hadoop3/examples/src/main/scala/org/apache/spark/examples/streaming/HdfsWordCount.scala\n",
            "spark-3.3.2-bin-hadoop3/examples/src/main/scala/org/apache/spark/examples/streaming/NetworkWordCount.scala\n",
            "spark-3.3.2-bin-hadoop3/examples/src/main/scala/org/apache/spark/examples/streaming/QueueStream.scala\n",
            "spark-3.3.2-bin-hadoop3/examples/src/main/scala/org/apache/spark/examples/streaming/RawNetworkGrep.scala\n",
            "spark-3.3.2-bin-hadoop3/examples/src/main/scala/org/apache/spark/examples/streaming/RecoverableNetworkWordCount.scala\n",
            "spark-3.3.2-bin-hadoop3/examples/src/main/scala/org/apache/spark/examples/streaming/SqlNetworkWordCount.scala\n",
            "spark-3.3.2-bin-hadoop3/examples/src/main/scala/org/apache/spark/examples/streaming/StatefulNetworkWordCount.scala\n",
            "spark-3.3.2-bin-hadoop3/examples/src/main/scala/org/apache/spark/examples/streaming/StreamingExamples.scala\n",
            "spark-3.3.2-bin-hadoop3/examples/src/main/scala/org/apache/spark/examples/streaming/clickstream/\n",
            "spark-3.3.2-bin-hadoop3/examples/src/main/scala/org/apache/spark/examples/streaming/clickstream/PageViewGenerator.scala\n",
            "spark-3.3.2-bin-hadoop3/examples/src/main/scala/org/apache/spark/examples/streaming/clickstream/PageViewStream.scala\n",
            "spark-3.3.2-bin-hadoop3/examples/src/main/scripts/\n",
            "spark-3.3.2-bin-hadoop3/examples/src/main/scripts/getGpusResources.sh\n",
            "spark-3.3.2-bin-hadoop3/jars/\n",
            "spark-3.3.2-bin-hadoop3/jars/HikariCP-2.5.1.jar\n",
            "spark-3.3.2-bin-hadoop3/jars/JLargeArrays-1.5.jar\n",
            "spark-3.3.2-bin-hadoop3/jars/JTransforms-3.1.jar\n",
            "spark-3.3.2-bin-hadoop3/jars/RoaringBitmap-0.9.25.jar\n",
            "spark-3.3.2-bin-hadoop3/jars/ST4-4.0.4.jar\n",
            "spark-3.3.2-bin-hadoop3/jars/activation-1.1.1.jar\n",
            "spark-3.3.2-bin-hadoop3/jars/aircompressor-0.21.jar\n",
            "spark-3.3.2-bin-hadoop3/jars/algebra_2.12-2.0.1.jar\n",
            "spark-3.3.2-bin-hadoop3/jars/annotations-17.0.0.jar\n",
            "spark-3.3.2-bin-hadoop3/jars/antlr-runtime-3.5.2.jar\n",
            "spark-3.3.2-bin-hadoop3/jars/antlr4-runtime-4.8.jar\n",
            "spark-3.3.2-bin-hadoop3/jars/aopalliance-repackaged-2.6.1.jar\n",
            "spark-3.3.2-bin-hadoop3/jars/arpack-2.2.1.jar\n",
            "spark-3.3.2-bin-hadoop3/jars/arpack_combined_all-0.1.jar\n",
            "spark-3.3.2-bin-hadoop3/jars/arrow-format-7.0.0.jar\n",
            "spark-3.3.2-bin-hadoop3/jars/arrow-memory-core-7.0.0.jar\n",
            "spark-3.3.2-bin-hadoop3/jars/arrow-memory-netty-7.0.0.jar\n",
            "spark-3.3.2-bin-hadoop3/jars/arrow-vector-7.0.0.jar\n",
            "spark-3.3.2-bin-hadoop3/jars/audience-annotations-0.5.0.jar\n",
            "spark-3.3.2-bin-hadoop3/jars/automaton-1.11-8.jar\n",
            "spark-3.3.2-bin-hadoop3/jars/avro-1.11.0.jar\n",
            "spark-3.3.2-bin-hadoop3/jars/avro-ipc-1.11.0.jar\n",
            "spark-3.3.2-bin-hadoop3/jars/avro-mapred-1.11.0.jar\n",
            "spark-3.3.2-bin-hadoop3/jars/blas-2.2.1.jar\n",
            "spark-3.3.2-bin-hadoop3/jars/bonecp-0.8.0.RELEASE.jar\n",
            "spark-3.3.2-bin-hadoop3/jars/breeze-macros_2.12-1.2.jar\n",
            "spark-3.3.2-bin-hadoop3/jars/breeze_2.12-1.2.jar\n",
            "spark-3.3.2-bin-hadoop3/jars/cats-kernel_2.12-2.1.1.jar\n",
            "spark-3.3.2-bin-hadoop3/jars/chill-java-0.10.0.jar\n",
            "spark-3.3.2-bin-hadoop3/jars/chill_2.12-0.10.0.jar\n",
            "spark-3.3.2-bin-hadoop3/jars/commons-cli-1.5.0.jar\n",
            "spark-3.3.2-bin-hadoop3/jars/commons-codec-1.15.jar\n",
            "spark-3.3.2-bin-hadoop3/jars/commons-collections-3.2.2.jar\n",
            "spark-3.3.2-bin-hadoop3/jars/commons-collections4-4.4.jar\n",
            "spark-3.3.2-bin-hadoop3/jars/commons-compiler-3.0.16.jar\n",
            "spark-3.3.2-bin-hadoop3/jars/commons-compress-1.21.jar\n",
            "spark-3.3.2-bin-hadoop3/jars/commons-crypto-1.1.0.jar\n",
            "spark-3.3.2-bin-hadoop3/jars/commons-dbcp-1.4.jar\n",
            "spark-3.3.2-bin-hadoop3/jars/commons-io-2.11.0.jar\n",
            "spark-3.3.2-bin-hadoop3/jars/commons-lang-2.6.jar\n",
            "spark-3.3.2-bin-hadoop3/jars/commons-lang3-3.12.0.jar\n",
            "spark-3.3.2-bin-hadoop3/jars/commons-logging-1.1.3.jar\n",
            "spark-3.3.2-bin-hadoop3/jars/commons-math3-3.6.1.jar\n",
            "spark-3.3.2-bin-hadoop3/jars/commons-pool-1.5.4.jar\n",
            "spark-3.3.2-bin-hadoop3/jars/commons-text-1.10.0.jar\n",
            "spark-3.3.2-bin-hadoop3/jars/compress-lzf-1.1.jar\n",
            "spark-3.3.2-bin-hadoop3/jars/core-1.1.2.jar\n",
            "spark-3.3.2-bin-hadoop3/jars/curator-client-2.13.0.jar\n",
            "spark-3.3.2-bin-hadoop3/jars/curator-framework-2.13.0.jar\n",
            "spark-3.3.2-bin-hadoop3/jars/curator-recipes-2.13.0.jar\n",
            "spark-3.3.2-bin-hadoop3/jars/datanucleus-api-jdo-4.2.4.jar\n",
            "spark-3.3.2-bin-hadoop3/jars/datanucleus-core-4.1.17.jar\n",
            "spark-3.3.2-bin-hadoop3/jars/datanucleus-rdbms-4.1.19.jar\n",
            "spark-3.3.2-bin-hadoop3/jars/derby-10.14.2.0.jar\n",
            "spark-3.3.2-bin-hadoop3/jars/dropwizard-metrics-hadoop-metrics2-reporter-0.1.2.jar\n",
            "spark-3.3.2-bin-hadoop3/jars/flatbuffers-java-1.12.0.jar\n",
            "spark-3.3.2-bin-hadoop3/jars/generex-1.0.2.jar\n",
            "spark-3.3.2-bin-hadoop3/jars/gson-2.2.4.jar\n",
            "spark-3.3.2-bin-hadoop3/jars/guava-14.0.1.jar\n",
            "spark-3.3.2-bin-hadoop3/jars/hadoop-client-api-3.3.2.jar\n",
            "spark-3.3.2-bin-hadoop3/jars/hadoop-client-runtime-3.3.2.jar\n",
            "spark-3.3.2-bin-hadoop3/jars/hadoop-shaded-guava-1.1.1.jar\n",
            "spark-3.3.2-bin-hadoop3/jars/hadoop-yarn-server-web-proxy-3.3.2.jar\n",
            "spark-3.3.2-bin-hadoop3/jars/hive-beeline-2.3.9.jar\n",
            "spark-3.3.2-bin-hadoop3/jars/hive-cli-2.3.9.jar\n",
            "spark-3.3.2-bin-hadoop3/jars/hive-common-2.3.9.jar\n",
            "spark-3.3.2-bin-hadoop3/jars/hive-exec-2.3.9-core.jar\n",
            "spark-3.3.2-bin-hadoop3/jars/hive-jdbc-2.3.9.jar\n",
            "spark-3.3.2-bin-hadoop3/jars/hive-llap-common-2.3.9.jar\n",
            "spark-3.3.2-bin-hadoop3/jars/hive-metastore-2.3.9.jar\n",
            "spark-3.3.2-bin-hadoop3/jars/hive-serde-2.3.9.jar\n",
            "spark-3.3.2-bin-hadoop3/jars/hive-service-rpc-3.1.2.jar\n",
            "spark-3.3.2-bin-hadoop3/jars/hive-shims-0.23-2.3.9.jar\n",
            "spark-3.3.2-bin-hadoop3/jars/hive-shims-2.3.9.jar\n",
            "spark-3.3.2-bin-hadoop3/jars/hive-shims-common-2.3.9.jar\n",
            "spark-3.3.2-bin-hadoop3/jars/hive-shims-scheduler-2.3.9.jar\n",
            "spark-3.3.2-bin-hadoop3/jars/hive-storage-api-2.7.2.jar\n",
            "spark-3.3.2-bin-hadoop3/jars/hive-vector-code-gen-2.3.9.jar\n",
            "spark-3.3.2-bin-hadoop3/jars/hk2-api-2.6.1.jar\n",
            "spark-3.3.2-bin-hadoop3/jars/hk2-locator-2.6.1.jar\n",
            "spark-3.3.2-bin-hadoop3/jars/hk2-utils-2.6.1.jar\n",
            "spark-3.3.2-bin-hadoop3/jars/httpclient-4.5.13.jar\n",
            "spark-3.3.2-bin-hadoop3/jars/httpcore-4.4.14.jar\n",
            "spark-3.3.2-bin-hadoop3/jars/istack-commons-runtime-3.0.8.jar\n",
            "spark-3.3.2-bin-hadoop3/jars/ivy-2.5.1.jar\n",
            "spark-3.3.2-bin-hadoop3/jars/jackson-annotations-2.13.4.jar\n",
            "spark-3.3.2-bin-hadoop3/jars/jackson-core-2.13.4.jar\n",
            "spark-3.3.2-bin-hadoop3/jars/jackson-core-asl-1.9.13.jar\n",
            "spark-3.3.2-bin-hadoop3/jars/jackson-databind-2.13.4.2.jar\n",
            "spark-3.3.2-bin-hadoop3/jars/jackson-dataformat-yaml-2.13.4.jar\n",
            "spark-3.3.2-bin-hadoop3/jars/jackson-datatype-jsr310-2.13.4.jar\n",
            "spark-3.3.2-bin-hadoop3/jars/jackson-mapper-asl-1.9.13.jar\n",
            "spark-3.3.2-bin-hadoop3/jars/jackson-module-scala_2.12-2.13.4.jar\n",
            "spark-3.3.2-bin-hadoop3/jars/jakarta.annotation-api-1.3.5.jar\n",
            "spark-3.3.2-bin-hadoop3/jars/jakarta.inject-2.6.1.jar\n",
            "spark-3.3.2-bin-hadoop3/jars/jakarta.servlet-api-4.0.3.jar\n",
            "spark-3.3.2-bin-hadoop3/jars/jakarta.validation-api-2.0.2.jar\n",
            "spark-3.3.2-bin-hadoop3/jars/jakarta.ws.rs-api-2.1.6.jar\n",
            "spark-3.3.2-bin-hadoop3/jars/jakarta.xml.bind-api-2.3.2.jar\n",
            "spark-3.3.2-bin-hadoop3/jars/janino-3.0.16.jar\n",
            "spark-3.3.2-bin-hadoop3/jars/javassist-3.25.0-GA.jar\n",
            "spark-3.3.2-bin-hadoop3/jars/javax.jdo-3.2.0-m3.jar\n",
            "spark-3.3.2-bin-hadoop3/jars/javolution-5.5.1.jar\n",
            "spark-3.3.2-bin-hadoop3/jars/jaxb-runtime-2.3.2.jar\n",
            "spark-3.3.2-bin-hadoop3/jars/jcl-over-slf4j-1.7.32.jar\n",
            "spark-3.3.2-bin-hadoop3/jars/jdo-api-3.0.1.jar\n",
            "spark-3.3.2-bin-hadoop3/jars/jersey-client-2.36.jar\n",
            "spark-3.3.2-bin-hadoop3/jars/jersey-common-2.36.jar\n",
            "spark-3.3.2-bin-hadoop3/jars/jersey-container-servlet-2.36.jar\n",
            "spark-3.3.2-bin-hadoop3/jars/jersey-container-servlet-core-2.36.jar\n",
            "spark-3.3.2-bin-hadoop3/jars/jersey-hk2-2.36.jar\n",
            "spark-3.3.2-bin-hadoop3/jars/jersey-server-2.36.jar\n",
            "spark-3.3.2-bin-hadoop3/jars/jline-2.14.6.jar\n",
            "spark-3.3.2-bin-hadoop3/jars/joda-time-2.10.13.jar\n",
            "spark-3.3.2-bin-hadoop3/jars/jodd-core-3.5.2.jar\n",
            "spark-3.3.2-bin-hadoop3/jars/jpam-1.1.jar\n",
            "spark-3.3.2-bin-hadoop3/jars/json-1.8.jar\n",
            "spark-3.3.2-bin-hadoop3/jars/json4s-ast_2.12-3.7.0-M11.jar\n",
            "spark-3.3.2-bin-hadoop3/jars/json4s-core_2.12-3.7.0-M11.jar\n",
            "spark-3.3.2-bin-hadoop3/jars/json4s-jackson_2.12-3.7.0-M11.jar\n",
            "spark-3.3.2-bin-hadoop3/jars/json4s-scalap_2.12-3.7.0-M11.jar\n",
            "spark-3.3.2-bin-hadoop3/jars/jsr305-3.0.0.jar\n",
            "spark-3.3.2-bin-hadoop3/jars/jta-1.1.jar\n",
            "spark-3.3.2-bin-hadoop3/jars/jul-to-slf4j-1.7.32.jar\n",
            "spark-3.3.2-bin-hadoop3/jars/kryo-shaded-4.0.2.jar\n",
            "spark-3.3.2-bin-hadoop3/jars/kubernetes-client-5.12.2.jar\n",
            "spark-3.3.2-bin-hadoop3/jars/kubernetes-model-admissionregistration-5.12.2.jar\n",
            "spark-3.3.2-bin-hadoop3/jars/kubernetes-model-apiextensions-5.12.2.jar\n",
            "spark-3.3.2-bin-hadoop3/jars/kubernetes-model-apps-5.12.2.jar\n",
            "spark-3.3.2-bin-hadoop3/jars/kubernetes-model-autoscaling-5.12.2.jar\n",
            "spark-3.3.2-bin-hadoop3/jars/kubernetes-model-batch-5.12.2.jar\n",
            "spark-3.3.2-bin-hadoop3/jars/kubernetes-model-certificates-5.12.2.jar\n",
            "spark-3.3.2-bin-hadoop3/jars/kubernetes-model-common-5.12.2.jar\n",
            "spark-3.3.2-bin-hadoop3/jars/kubernetes-model-coordination-5.12.2.jar\n",
            "spark-3.3.2-bin-hadoop3/jars/kubernetes-model-core-5.12.2.jar\n",
            "spark-3.3.2-bin-hadoop3/jars/kubernetes-model-discovery-5.12.2.jar\n",
            "spark-3.3.2-bin-hadoop3/jars/kubernetes-model-events-5.12.2.jar\n",
            "spark-3.3.2-bin-hadoop3/jars/kubernetes-model-extensions-5.12.2.jar\n",
            "spark-3.3.2-bin-hadoop3/jars/kubernetes-model-flowcontrol-5.12.2.jar\n",
            "spark-3.3.2-bin-hadoop3/jars/kubernetes-model-metrics-5.12.2.jar\n",
            "spark-3.3.2-bin-hadoop3/jars/kubernetes-model-networking-5.12.2.jar\n",
            "spark-3.3.2-bin-hadoop3/jars/kubernetes-model-node-5.12.2.jar\n",
            "spark-3.3.2-bin-hadoop3/jars/kubernetes-model-policy-5.12.2.jar\n",
            "spark-3.3.2-bin-hadoop3/jars/kubernetes-model-rbac-5.12.2.jar\n",
            "spark-3.3.2-bin-hadoop3/jars/kubernetes-model-scheduling-5.12.2.jar\n",
            "spark-3.3.2-bin-hadoop3/jars/kubernetes-model-storageclass-5.12.2.jar\n",
            "spark-3.3.2-bin-hadoop3/jars/lapack-2.2.1.jar\n",
            "spark-3.3.2-bin-hadoop3/jars/leveldbjni-all-1.8.jar\n",
            "spark-3.3.2-bin-hadoop3/jars/libfb303-0.9.3.jar\n",
            "spark-3.3.2-bin-hadoop3/jars/libthrift-0.12.0.jar\n",
            "spark-3.3.2-bin-hadoop3/jars/log4j-1.2-api-2.17.2.jar\n",
            "spark-3.3.2-bin-hadoop3/jars/log4j-api-2.17.2.jar\n",
            "spark-3.3.2-bin-hadoop3/jars/log4j-core-2.17.2.jar\n",
            "spark-3.3.2-bin-hadoop3/jars/log4j-slf4j-impl-2.17.2.jar\n",
            "spark-3.3.2-bin-hadoop3/jars/logging-interceptor-3.12.12.jar\n",
            "spark-3.3.2-bin-hadoop3/jars/lz4-java-1.8.0.jar\n",
            "spark-3.3.2-bin-hadoop3/jars/mesos-1.4.3-shaded-protobuf.jar\n",
            "spark-3.3.2-bin-hadoop3/jars/metrics-core-4.2.7.jar\n",
            "spark-3.3.2-bin-hadoop3/jars/metrics-graphite-4.2.7.jar\n",
            "spark-3.3.2-bin-hadoop3/jars/metrics-jmx-4.2.7.jar\n",
            "spark-3.3.2-bin-hadoop3/jars/metrics-json-4.2.7.jar\n",
            "spark-3.3.2-bin-hadoop3/jars/metrics-jvm-4.2.7.jar\n",
            "spark-3.3.2-bin-hadoop3/jars/minlog-1.3.0.jar\n",
            "spark-3.3.2-bin-hadoop3/jars/netty-all-4.1.74.Final.jar\n",
            "spark-3.3.2-bin-hadoop3/jars/netty-buffer-4.1.74.Final.jar\n",
            "spark-3.3.2-bin-hadoop3/jars/netty-codec-4.1.74.Final.jar\n",
            "spark-3.3.2-bin-hadoop3/jars/netty-common-4.1.74.Final.jar\n",
            "spark-3.3.2-bin-hadoop3/jars/netty-handler-4.1.74.Final.jar\n",
            "spark-3.3.2-bin-hadoop3/jars/netty-resolver-4.1.74.Final.jar\n",
            "spark-3.3.2-bin-hadoop3/jars/netty-tcnative-classes-2.0.48.Final.jar\n",
            "spark-3.3.2-bin-hadoop3/jars/netty-transport-4.1.74.Final.jar\n",
            "spark-3.3.2-bin-hadoop3/jars/netty-transport-classes-epoll-4.1.74.Final.jar\n",
            "spark-3.3.2-bin-hadoop3/jars/netty-transport-classes-kqueue-4.1.74.Final.jar\n",
            "spark-3.3.2-bin-hadoop3/jars/netty-transport-native-epoll-4.1.74.Final-linux-aarch_64.jar\n",
            "spark-3.3.2-bin-hadoop3/jars/netty-transport-native-epoll-4.1.74.Final-linux-x86_64.jar\n",
            "spark-3.3.2-bin-hadoop3/jars/netty-transport-native-kqueue-4.1.74.Final-osx-aarch_64.jar\n",
            "spark-3.3.2-bin-hadoop3/jars/netty-transport-native-kqueue-4.1.74.Final-osx-x86_64.jar\n",
            "spark-3.3.2-bin-hadoop3/jars/netty-transport-native-unix-common-4.1.74.Final.jar\n",
            "spark-3.3.2-bin-hadoop3/jars/objenesis-3.2.jar\n",
            "spark-3.3.2-bin-hadoop3/jars/okhttp-3.12.12.jar\n",
            "spark-3.3.2-bin-hadoop3/jars/okio-1.14.0.jar\n",
            "spark-3.3.2-bin-hadoop3/jars/opencsv-2.3.jar\n",
            "spark-3.3.2-bin-hadoop3/jars/orc-core-1.7.8.jar\n",
            "spark-3.3.2-bin-hadoop3/jars/orc-mapreduce-1.7.8.jar\n",
            "spark-3.3.2-bin-hadoop3/jars/orc-shims-1.7.8.jar\n",
            "spark-3.3.2-bin-hadoop3/jars/oro-2.0.8.jar\n",
            "spark-3.3.2-bin-hadoop3/jars/osgi-resource-locator-1.0.3.jar\n",
            "spark-3.3.2-bin-hadoop3/jars/paranamer-2.8.jar\n",
            "spark-3.3.2-bin-hadoop3/jars/parquet-column-1.12.2.jar\n",
            "spark-3.3.2-bin-hadoop3/jars/parquet-common-1.12.2.jar\n",
            "spark-3.3.2-bin-hadoop3/jars/parquet-encoding-1.12.2.jar\n",
            "spark-3.3.2-bin-hadoop3/jars/parquet-format-structures-1.12.2.jar\n",
            "spark-3.3.2-bin-hadoop3/jars/parquet-hadoop-1.12.2.jar\n",
            "spark-3.3.2-bin-hadoop3/jars/parquet-jackson-1.12.2.jar\n",
            "spark-3.3.2-bin-hadoop3/jars/pickle-1.2.jar\n",
            "spark-3.3.2-bin-hadoop3/jars/protobuf-java-2.5.0.jar\n",
            "spark-3.3.2-bin-hadoop3/jars/py4j-0.10.9.5.jar\n",
            "spark-3.3.2-bin-hadoop3/jars/rocksdbjni-6.20.3.jar\n",
            "spark-3.3.2-bin-hadoop3/jars/scala-collection-compat_2.12-2.1.1.jar\n",
            "spark-3.3.2-bin-hadoop3/jars/scala-compiler-2.12.15.jar\n",
            "spark-3.3.2-bin-hadoop3/jars/scala-library-2.12.15.jar\n",
            "spark-3.3.2-bin-hadoop3/jars/scala-parser-combinators_2.12-1.1.2.jar\n",
            "spark-3.3.2-bin-hadoop3/jars/scala-reflect-2.12.15.jar\n",
            "spark-3.3.2-bin-hadoop3/jars/scala-xml_2.12-1.2.0.jar\n",
            "spark-3.3.2-bin-hadoop3/jars/shapeless_2.12-2.3.7.jar\n",
            "spark-3.3.2-bin-hadoop3/jars/shims-0.9.25.jar\n",
            "spark-3.3.2-bin-hadoop3/jars/slf4j-api-1.7.32.jar\n",
            "spark-3.3.2-bin-hadoop3/jars/snakeyaml-1.31.jar\n",
            "spark-3.3.2-bin-hadoop3/jars/snappy-java-1.1.8.4.jar\n",
            "spark-3.3.2-bin-hadoop3/jars/spark-catalyst_2.12-3.3.2.jar\n",
            "spark-3.3.2-bin-hadoop3/jars/spark-core_2.12-3.3.2.jar\n",
            "spark-3.3.2-bin-hadoop3/jars/spark-graphx_2.12-3.3.2.jar\n",
            "spark-3.3.2-bin-hadoop3/jars/spark-hive-thriftserver_2.12-3.3.2.jar\n",
            "spark-3.3.2-bin-hadoop3/jars/spark-hive_2.12-3.3.2.jar\n",
            "spark-3.3.2-bin-hadoop3/jars/spark-kubernetes_2.12-3.3.2.jar\n",
            "spark-3.3.2-bin-hadoop3/jars/spark-kvstore_2.12-3.3.2.jar\n",
            "spark-3.3.2-bin-hadoop3/jars/spark-launcher_2.12-3.3.2.jar\n",
            "spark-3.3.2-bin-hadoop3/jars/spark-mesos_2.12-3.3.2.jar\n",
            "spark-3.3.2-bin-hadoop3/jars/spark-mllib-local_2.12-3.3.2.jar\n",
            "spark-3.3.2-bin-hadoop3/jars/spark-mllib_2.12-3.3.2.jar\n",
            "spark-3.3.2-bin-hadoop3/jars/spark-network-common_2.12-3.3.2.jar\n",
            "spark-3.3.2-bin-hadoop3/jars/spark-network-shuffle_2.12-3.3.2.jar\n",
            "spark-3.3.2-bin-hadoop3/jars/spark-repl_2.12-3.3.2.jar\n",
            "spark-3.3.2-bin-hadoop3/jars/spark-sketch_2.12-3.3.2.jar\n",
            "spark-3.3.2-bin-hadoop3/jars/spark-sql_2.12-3.3.2.jar\n",
            "spark-3.3.2-bin-hadoop3/jars/spark-streaming_2.12-3.3.2.jar\n",
            "spark-3.3.2-bin-hadoop3/jars/spark-tags_2.12-3.3.2-tests.jar\n",
            "spark-3.3.2-bin-hadoop3/jars/spark-tags_2.12-3.3.2.jar\n",
            "spark-3.3.2-bin-hadoop3/jars/spark-unsafe_2.12-3.3.2.jar\n",
            "spark-3.3.2-bin-hadoop3/jars/spark-yarn_2.12-3.3.2.jar\n",
            "spark-3.3.2-bin-hadoop3/jars/spire-macros_2.12-0.17.0.jar\n",
            "spark-3.3.2-bin-hadoop3/jars/spire-platform_2.12-0.17.0.jar\n",
            "spark-3.3.2-bin-hadoop3/jars/spire-util_2.12-0.17.0.jar\n",
            "spark-3.3.2-bin-hadoop3/jars/spire_2.12-0.17.0.jar\n",
            "spark-3.3.2-bin-hadoop3/jars/stax-api-1.0.1.jar\n",
            "spark-3.3.2-bin-hadoop3/jars/stream-2.9.6.jar\n",
            "spark-3.3.2-bin-hadoop3/jars/super-csv-2.2.0.jar\n",
            "spark-3.3.2-bin-hadoop3/jars/threeten-extra-1.5.0.jar\n",
            "spark-3.3.2-bin-hadoop3/jars/tink-1.6.1.jar\n",
            "spark-3.3.2-bin-hadoop3/jars/transaction-api-1.1.jar\n",
            "spark-3.3.2-bin-hadoop3/jars/univocity-parsers-2.9.1.jar\n",
            "spark-3.3.2-bin-hadoop3/jars/velocity-1.5.jar\n",
            "spark-3.3.2-bin-hadoop3/jars/xbean-asm9-shaded-4.20.jar\n",
            "spark-3.3.2-bin-hadoop3/jars/xz-1.9.jar\n",
            "spark-3.3.2-bin-hadoop3/jars/zjsonpatch-0.3.0.jar\n",
            "spark-3.3.2-bin-hadoop3/jars/zookeeper-3.6.2.jar\n",
            "spark-3.3.2-bin-hadoop3/jars/zookeeper-jute-3.6.2.jar\n",
            "spark-3.3.2-bin-hadoop3/jars/zstd-jni-1.5.2-1.jar\n",
            "spark-3.3.2-bin-hadoop3/kubernetes/\n",
            "spark-3.3.2-bin-hadoop3/kubernetes/dockerfiles/\n",
            "spark-3.3.2-bin-hadoop3/kubernetes/dockerfiles/spark/\n",
            "spark-3.3.2-bin-hadoop3/kubernetes/dockerfiles/spark/Dockerfile\n",
            "spark-3.3.2-bin-hadoop3/kubernetes/dockerfiles/spark/Dockerfile.java17\n",
            "spark-3.3.2-bin-hadoop3/kubernetes/dockerfiles/spark/bindings/\n",
            "spark-3.3.2-bin-hadoop3/kubernetes/dockerfiles/spark/bindings/R/\n",
            "spark-3.3.2-bin-hadoop3/kubernetes/dockerfiles/spark/bindings/R/Dockerfile\n",
            "spark-3.3.2-bin-hadoop3/kubernetes/dockerfiles/spark/bindings/python/\n",
            "spark-3.3.2-bin-hadoop3/kubernetes/dockerfiles/spark/bindings/python/Dockerfile\n",
            "spark-3.3.2-bin-hadoop3/kubernetes/dockerfiles/spark/decom.sh\n",
            "spark-3.3.2-bin-hadoop3/kubernetes/dockerfiles/spark/entrypoint.sh\n",
            "spark-3.3.2-bin-hadoop3/kubernetes/tests/\n",
            "spark-3.3.2-bin-hadoop3/kubernetes/tests/autoscale.py\n",
            "spark-3.3.2-bin-hadoop3/kubernetes/tests/decommissioning.py\n",
            "spark-3.3.2-bin-hadoop3/kubernetes/tests/decommissioning_cleanup.py\n",
            "spark-3.3.2-bin-hadoop3/kubernetes/tests/py_container_checks.py\n",
            "spark-3.3.2-bin-hadoop3/kubernetes/tests/pyfiles.py\n",
            "spark-3.3.2-bin-hadoop3/kubernetes/tests/python_executable_check.py\n",
            "spark-3.3.2-bin-hadoop3/kubernetes/tests/worker_memory_check.py\n",
            "spark-3.3.2-bin-hadoop3/licenses/\n",
            "spark-3.3.2-bin-hadoop3/licenses/LICENSE-AnchorJS.txt\n",
            "spark-3.3.2-bin-hadoop3/licenses/LICENSE-CC0.txt\n",
            "spark-3.3.2-bin-hadoop3/licenses/LICENSE-JLargeArrays.txt\n",
            "spark-3.3.2-bin-hadoop3/licenses/LICENSE-JTransforms.txt\n",
            "spark-3.3.2-bin-hadoop3/licenses/LICENSE-antlr.txt\n",
            "spark-3.3.2-bin-hadoop3/licenses/LICENSE-arpack.txt\n",
            "spark-3.3.2-bin-hadoop3/licenses/LICENSE-automaton.txt\n",
            "spark-3.3.2-bin-hadoop3/licenses/LICENSE-blas.txt\n",
            "spark-3.3.2-bin-hadoop3/licenses/LICENSE-bootstrap.txt\n",
            "spark-3.3.2-bin-hadoop3/licenses/LICENSE-cloudpickle.txt\n",
            "spark-3.3.2-bin-hadoop3/licenses/LICENSE-d3.min.js.txt\n",
            "spark-3.3.2-bin-hadoop3/licenses/LICENSE-dagre-d3.txt\n",
            "spark-3.3.2-bin-hadoop3/licenses/LICENSE-datatables.txt\n",
            "spark-3.3.2-bin-hadoop3/licenses/LICENSE-dnsjava.txt\n",
            "spark-3.3.2-bin-hadoop3/licenses/LICENSE-f2j.txt\n",
            "spark-3.3.2-bin-hadoop3/licenses/LICENSE-graphlib-dot.txt\n",
            "spark-3.3.2-bin-hadoop3/licenses/LICENSE-istack-commons-runtime.txt\n",
            "spark-3.3.2-bin-hadoop3/licenses/LICENSE-jakarta-annotation-api\n",
            "spark-3.3.2-bin-hadoop3/licenses/LICENSE-jakarta-ws-rs-api\n",
            "spark-3.3.2-bin-hadoop3/licenses/LICENSE-jakarta.activation-api.txt\n",
            "spark-3.3.2-bin-hadoop3/licenses/LICENSE-jakarta.xml.bind-api.txt\n",
            "spark-3.3.2-bin-hadoop3/licenses/LICENSE-janino.txt\n",
            "spark-3.3.2-bin-hadoop3/licenses/LICENSE-javassist.html\n",
            "spark-3.3.2-bin-hadoop3/licenses/LICENSE-javax-transaction-transaction-api.txt\n",
            "spark-3.3.2-bin-hadoop3/licenses/LICENSE-javolution.txt\n",
            "spark-3.3.2-bin-hadoop3/licenses/LICENSE-jaxb-runtime.txt\n",
            "spark-3.3.2-bin-hadoop3/licenses/LICENSE-jline.txt\n",
            "spark-3.3.2-bin-hadoop3/licenses/LICENSE-jodd.txt\n",
            "spark-3.3.2-bin-hadoop3/licenses/LICENSE-join.txt\n",
            "spark-3.3.2-bin-hadoop3/licenses/LICENSE-jquery.txt\n",
            "spark-3.3.2-bin-hadoop3/licenses/LICENSE-json-formatter.txt\n",
            "spark-3.3.2-bin-hadoop3/licenses/LICENSE-jsp-api.txt\n",
            "spark-3.3.2-bin-hadoop3/licenses/LICENSE-kryo.txt\n",
            "spark-3.3.2-bin-hadoop3/licenses/LICENSE-leveldbjni.txt\n",
            "spark-3.3.2-bin-hadoop3/licenses/LICENSE-machinist.txt\n",
            "spark-3.3.2-bin-hadoop3/licenses/LICENSE-matchMedia-polyfill.txt\n",
            "spark-3.3.2-bin-hadoop3/licenses/LICENSE-minlog.txt\n",
            "spark-3.3.2-bin-hadoop3/licenses/LICENSE-modernizr.txt\n",
            "spark-3.3.2-bin-hadoop3/licenses/LICENSE-mustache.txt\n",
            "spark-3.3.2-bin-hadoop3/licenses/LICENSE-netlib.txt\n",
            "spark-3.3.2-bin-hadoop3/licenses/LICENSE-paranamer.txt\n",
            "spark-3.3.2-bin-hadoop3/licenses/LICENSE-pmml-model.txt\n",
            "spark-3.3.2-bin-hadoop3/licenses/LICENSE-protobuf.txt\n",
            "spark-3.3.2-bin-hadoop3/licenses/LICENSE-py4j.txt\n",
            "spark-3.3.2-bin-hadoop3/licenses/LICENSE-pyrolite.txt\n",
            "spark-3.3.2-bin-hadoop3/licenses/LICENSE-re2j.txt\n",
            "spark-3.3.2-bin-hadoop3/licenses/LICENSE-reflectasm.txt\n",
            "spark-3.3.2-bin-hadoop3/licenses/LICENSE-respond.txt\n",
            "spark-3.3.2-bin-hadoop3/licenses/LICENSE-sbt-launch-lib.txt\n",
            "spark-3.3.2-bin-hadoop3/licenses/LICENSE-scala.txt\n",
            "spark-3.3.2-bin-hadoop3/licenses/LICENSE-scopt.txt\n",
            "spark-3.3.2-bin-hadoop3/licenses/LICENSE-slf4j.txt\n",
            "spark-3.3.2-bin-hadoop3/licenses/LICENSE-sorttable.js.txt\n",
            "spark-3.3.2-bin-hadoop3/licenses/LICENSE-spire.txt\n",
            "spark-3.3.2-bin-hadoop3/licenses/LICENSE-vis-timeline.txt\n",
            "spark-3.3.2-bin-hadoop3/licenses/LICENSE-xmlenc.txt\n",
            "spark-3.3.2-bin-hadoop3/licenses/LICENSE-zstd-jni.txt\n",
            "spark-3.3.2-bin-hadoop3/licenses/LICENSE-zstd.txt\n",
            "spark-3.3.2-bin-hadoop3/python/\n",
            "spark-3.3.2-bin-hadoop3/python/.coveragerc\n",
            "spark-3.3.2-bin-hadoop3/python/.gitignore\n",
            "spark-3.3.2-bin-hadoop3/python/MANIFEST.in\n",
            "spark-3.3.2-bin-hadoop3/python/README.md\n",
            "spark-3.3.2-bin-hadoop3/python/dist/\n",
            "spark-3.3.2-bin-hadoop3/python/docs/\n",
            "spark-3.3.2-bin-hadoop3/python/docs/Makefile\n",
            "spark-3.3.2-bin-hadoop3/python/docs/make.bat\n",
            "spark-3.3.2-bin-hadoop3/python/docs/make2.bat\n",
            "spark-3.3.2-bin-hadoop3/python/docs/source/\n",
            "spark-3.3.2-bin-hadoop3/python/docs/source/_static/\n",
            "spark-3.3.2-bin-hadoop3/python/docs/source/_static/copybutton.js\n",
            "spark-3.3.2-bin-hadoop3/python/docs/source/_static/css/\n",
            "spark-3.3.2-bin-hadoop3/python/docs/source/_static/css/pyspark.css\n",
            "spark-3.3.2-bin-hadoop3/python/docs/source/_templates/\n",
            "spark-3.3.2-bin-hadoop3/python/docs/source/_templates/autosummary/\n",
            "spark-3.3.2-bin-hadoop3/python/docs/source/_templates/autosummary/class.rst\n",
            "spark-3.3.2-bin-hadoop3/python/docs/source/_templates/autosummary/class_with_docs.rst\n",
            "spark-3.3.2-bin-hadoop3/python/docs/source/conf.py\n",
            "spark-3.3.2-bin-hadoop3/python/docs/source/development/\n",
            "spark-3.3.2-bin-hadoop3/python/docs/source/development/contributing.rst\n",
            "spark-3.3.2-bin-hadoop3/python/docs/source/development/debugging.rst\n",
            "spark-3.3.2-bin-hadoop3/python/docs/source/development/index.rst\n",
            "spark-3.3.2-bin-hadoop3/python/docs/source/development/setting_ide.rst\n",
            "spark-3.3.2-bin-hadoop3/python/docs/source/development/testing.rst\n",
            "spark-3.3.2-bin-hadoop3/python/docs/source/getting_started/\n",
            "spark-3.3.2-bin-hadoop3/python/docs/source/getting_started/index.rst\n",
            "spark-3.3.2-bin-hadoop3/python/docs/source/getting_started/install.rst\n",
            "spark-3.3.2-bin-hadoop3/python/docs/source/getting_started/quickstart_df.ipynb\n",
            "spark-3.3.2-bin-hadoop3/python/docs/source/getting_started/quickstart_ps.ipynb\n",
            "spark-3.3.2-bin-hadoop3/python/docs/source/index.rst\n",
            "spark-3.3.2-bin-hadoop3/python/docs/source/migration_guide/\n",
            "spark-3.3.2-bin-hadoop3/python/docs/source/migration_guide/index.rst\n",
            "spark-3.3.2-bin-hadoop3/python/docs/source/migration_guide/koalas_to_pyspark.rst\n",
            "spark-3.3.2-bin-hadoop3/python/docs/source/migration_guide/pyspark_1.0_1.2_to_1.3.rst\n",
            "spark-3.3.2-bin-hadoop3/python/docs/source/migration_guide/pyspark_1.4_to_1.5.rst\n",
            "spark-3.3.2-bin-hadoop3/python/docs/source/migration_guide/pyspark_2.2_to_2.3.rst\n",
            "spark-3.3.2-bin-hadoop3/python/docs/source/migration_guide/pyspark_2.3.0_to_2.3.1_above.rst\n",
            "spark-3.3.2-bin-hadoop3/python/docs/source/migration_guide/pyspark_2.3_to_2.4.rst\n",
            "spark-3.3.2-bin-hadoop3/python/docs/source/migration_guide/pyspark_2.4_to_3.0.rst\n",
            "spark-3.3.2-bin-hadoop3/python/docs/source/migration_guide/pyspark_3.1_to_3.2.rst\n",
            "spark-3.3.2-bin-hadoop3/python/docs/source/migration_guide/pyspark_3.2_to_3.3.rst\n",
            "spark-3.3.2-bin-hadoop3/python/docs/source/reference/\n",
            "spark-3.3.2-bin-hadoop3/python/docs/source/reference/index.rst\n",
            "spark-3.3.2-bin-hadoop3/python/docs/source/reference/pyspark.ml.rst\n",
            "spark-3.3.2-bin-hadoop3/python/docs/source/reference/pyspark.mllib.rst\n",
            "spark-3.3.2-bin-hadoop3/python/docs/source/reference/pyspark.pandas/\n",
            "spark-3.3.2-bin-hadoop3/python/docs/source/reference/pyspark.pandas/extensions.rst\n",
            "spark-3.3.2-bin-hadoop3/python/docs/source/reference/pyspark.pandas/frame.rst\n",
            "spark-3.3.2-bin-hadoop3/python/docs/source/reference/pyspark.pandas/general_functions.rst\n",
            "spark-3.3.2-bin-hadoop3/python/docs/source/reference/pyspark.pandas/groupby.rst\n",
            "spark-3.3.2-bin-hadoop3/python/docs/source/reference/pyspark.pandas/index.rst\n",
            "spark-3.3.2-bin-hadoop3/python/docs/source/reference/pyspark.pandas/indexing.rst\n",
            "spark-3.3.2-bin-hadoop3/python/docs/source/reference/pyspark.pandas/io.rst\n",
            "spark-3.3.2-bin-hadoop3/python/docs/source/reference/pyspark.pandas/ml.rst\n",
            "spark-3.3.2-bin-hadoop3/python/docs/source/reference/pyspark.pandas/series.rst\n",
            "spark-3.3.2-bin-hadoop3/python/docs/source/reference/pyspark.pandas/window.rst\n",
            "spark-3.3.2-bin-hadoop3/python/docs/source/reference/pyspark.resource.rst\n",
            "spark-3.3.2-bin-hadoop3/python/docs/source/reference/pyspark.rst\n",
            "spark-3.3.2-bin-hadoop3/python/docs/source/reference/pyspark.sql/\n",
            "spark-3.3.2-bin-hadoop3/python/docs/source/reference/pyspark.sql/avro.rst\n",
            "spark-3.3.2-bin-hadoop3/python/docs/source/reference/pyspark.sql/catalog.rst\n",
            "spark-3.3.2-bin-hadoop3/python/docs/source/reference/pyspark.sql/column.rst\n",
            "spark-3.3.2-bin-hadoop3/python/docs/source/reference/pyspark.sql/configuration.rst\n",
            "spark-3.3.2-bin-hadoop3/python/docs/source/reference/pyspark.sql/core_classes.rst\n",
            "spark-3.3.2-bin-hadoop3/python/docs/source/reference/pyspark.sql/data_types.rst\n",
            "spark-3.3.2-bin-hadoop3/python/docs/source/reference/pyspark.sql/dataframe.rst\n",
            "spark-3.3.2-bin-hadoop3/python/docs/source/reference/pyspark.sql/functions.rst\n",
            "spark-3.3.2-bin-hadoop3/python/docs/source/reference/pyspark.sql/grouping.rst\n",
            "spark-3.3.2-bin-hadoop3/python/docs/source/reference/pyspark.sql/index.rst\n",
            "spark-3.3.2-bin-hadoop3/python/docs/source/reference/pyspark.sql/io.rst\n",
            "spark-3.3.2-bin-hadoop3/python/docs/source/reference/pyspark.sql/observation.rst\n",
            "spark-3.3.2-bin-hadoop3/python/docs/source/reference/pyspark.sql/row.rst\n",
            "spark-3.3.2-bin-hadoop3/python/docs/source/reference/pyspark.sql/spark_session.rst\n",
            "spark-3.3.2-bin-hadoop3/python/docs/source/reference/pyspark.sql/window.rst\n",
            "spark-3.3.2-bin-hadoop3/python/docs/source/reference/pyspark.ss/\n",
            "spark-3.3.2-bin-hadoop3/python/docs/source/reference/pyspark.ss/core_classes.rst\n",
            "spark-3.3.2-bin-hadoop3/python/docs/source/reference/pyspark.ss/index.rst\n",
            "spark-3.3.2-bin-hadoop3/python/docs/source/reference/pyspark.ss/io.rst\n",
            "spark-3.3.2-bin-hadoop3/python/docs/source/reference/pyspark.ss/query_management.rst\n",
            "spark-3.3.2-bin-hadoop3/python/docs/source/reference/pyspark.streaming.rst\n",
            "spark-3.3.2-bin-hadoop3/python/docs/source/user_guide/\n",
            "spark-3.3.2-bin-hadoop3/python/docs/source/user_guide/arrow_pandas.rst\n",
            "spark-3.3.2-bin-hadoop3/python/docs/source/user_guide/index.rst\n",
            "spark-3.3.2-bin-hadoop3/python/docs/source/user_guide/pandas_on_spark/\n",
            "spark-3.3.2-bin-hadoop3/python/docs/source/user_guide/pandas_on_spark/best_practices.rst\n",
            "spark-3.3.2-bin-hadoop3/python/docs/source/user_guide/pandas_on_spark/faq.rst\n",
            "spark-3.3.2-bin-hadoop3/python/docs/source/user_guide/pandas_on_spark/from_to_dbms.rst\n",
            "spark-3.3.2-bin-hadoop3/python/docs/source/user_guide/pandas_on_spark/index.rst\n",
            "spark-3.3.2-bin-hadoop3/python/docs/source/user_guide/pandas_on_spark/options.rst\n",
            "spark-3.3.2-bin-hadoop3/python/docs/source/user_guide/pandas_on_spark/pandas_pyspark.rst\n",
            "spark-3.3.2-bin-hadoop3/python/docs/source/user_guide/pandas_on_spark/supported_pandas_api.rst\n",
            "spark-3.3.2-bin-hadoop3/python/docs/source/user_guide/pandas_on_spark/transform_apply.rst\n",
            "spark-3.3.2-bin-hadoop3/python/docs/source/user_guide/pandas_on_spark/typehints.rst\n",
            "spark-3.3.2-bin-hadoop3/python/docs/source/user_guide/pandas_on_spark/types.rst\n",
            "spark-3.3.2-bin-hadoop3/python/docs/source/user_guide/python_packaging.rst\n",
            "spark-3.3.2-bin-hadoop3/python/docs/source/user_guide/sql/\n",
            "spark-3.3.2-bin-hadoop3/python/docs/source/user_guide/sql/arrow_pandas.rst\n",
            "spark-3.3.2-bin-hadoop3/python/docs/source/user_guide/sql/index.rst\n",
            "spark-3.3.2-bin-hadoop3/python/lib/\n",
            "spark-3.3.2-bin-hadoop3/python/lib/PY4J_LICENSE.txt\n",
            "spark-3.3.2-bin-hadoop3/python/lib/py4j-0.10.9.5-src.zip\n",
            "spark-3.3.2-bin-hadoop3/python/lib/pyspark.zip\n",
            "spark-3.3.2-bin-hadoop3/python/mypy.ini\n",
            "spark-3.3.2-bin-hadoop3/python/pyspark/\n",
            "spark-3.3.2-bin-hadoop3/python/pyspark/__init__.py\n",
            "spark-3.3.2-bin-hadoop3/python/pyspark/__pycache__/\n",
            "spark-3.3.2-bin-hadoop3/python/pyspark/__pycache__/install.cpython-38.pyc\n",
            "spark-3.3.2-bin-hadoop3/python/pyspark/_globals.py\n",
            "spark-3.3.2-bin-hadoop3/python/pyspark/_typing.pyi\n",
            "spark-3.3.2-bin-hadoop3/python/pyspark/accumulators.py\n",
            "spark-3.3.2-bin-hadoop3/python/pyspark/broadcast.py\n",
            "spark-3.3.2-bin-hadoop3/python/pyspark/cloudpickle/\n",
            "spark-3.3.2-bin-hadoop3/python/pyspark/cloudpickle/__init__.py\n",
            "spark-3.3.2-bin-hadoop3/python/pyspark/cloudpickle/cloudpickle.py\n",
            "spark-3.3.2-bin-hadoop3/python/pyspark/cloudpickle/cloudpickle_fast.py\n",
            "spark-3.3.2-bin-hadoop3/python/pyspark/cloudpickle/compat.py\n",
            "spark-3.3.2-bin-hadoop3/python/pyspark/conf.py\n",
            "spark-3.3.2-bin-hadoop3/python/pyspark/context.py\n",
            "spark-3.3.2-bin-hadoop3/python/pyspark/daemon.py\n",
            "spark-3.3.2-bin-hadoop3/python/pyspark/files.py\n",
            "spark-3.3.2-bin-hadoop3/python/pyspark/find_spark_home.py\n",
            "spark-3.3.2-bin-hadoop3/python/pyspark/install.py\n",
            "spark-3.3.2-bin-hadoop3/python/pyspark/instrumentation_utils.py\n",
            "spark-3.3.2-bin-hadoop3/python/pyspark/java_gateway.py\n",
            "spark-3.3.2-bin-hadoop3/python/pyspark/join.py\n",
            "spark-3.3.2-bin-hadoop3/python/pyspark/ml/\n",
            "spark-3.3.2-bin-hadoop3/python/pyspark/ml/__init__.py\n",
            "spark-3.3.2-bin-hadoop3/python/pyspark/ml/_typing.pyi\n",
            "spark-3.3.2-bin-hadoop3/python/pyspark/ml/base.py\n",
            "spark-3.3.2-bin-hadoop3/python/pyspark/ml/classification.py\n",
            "spark-3.3.2-bin-hadoop3/python/pyspark/ml/clustering.py\n",
            "spark-3.3.2-bin-hadoop3/python/pyspark/ml/common.py\n",
            "spark-3.3.2-bin-hadoop3/python/pyspark/ml/evaluation.py\n",
            "spark-3.3.2-bin-hadoop3/python/pyspark/ml/feature.py\n",
            "spark-3.3.2-bin-hadoop3/python/pyspark/ml/fpm.py\n",
            "spark-3.3.2-bin-hadoop3/python/pyspark/ml/functions.py\n",
            "spark-3.3.2-bin-hadoop3/python/pyspark/ml/image.py\n",
            "spark-3.3.2-bin-hadoop3/python/pyspark/ml/linalg/\n",
            "spark-3.3.2-bin-hadoop3/python/pyspark/ml/linalg/__init__.py\n",
            "spark-3.3.2-bin-hadoop3/python/pyspark/ml/param/\n",
            "spark-3.3.2-bin-hadoop3/python/pyspark/ml/param/__init__.py\n",
            "spark-3.3.2-bin-hadoop3/python/pyspark/ml/param/_shared_params_code_gen.py\n",
            "spark-3.3.2-bin-hadoop3/python/pyspark/ml/param/shared.py\n",
            "spark-3.3.2-bin-hadoop3/python/pyspark/ml/pipeline.py\n",
            "spark-3.3.2-bin-hadoop3/python/pyspark/ml/recommendation.py\n",
            "spark-3.3.2-bin-hadoop3/python/pyspark/ml/regression.py\n",
            "spark-3.3.2-bin-hadoop3/python/pyspark/ml/stat.py\n",
            "spark-3.3.2-bin-hadoop3/python/pyspark/ml/tests/\n",
            "spark-3.3.2-bin-hadoop3/python/pyspark/ml/tests/__init__.py\n",
            "spark-3.3.2-bin-hadoop3/python/pyspark/ml/tests/test_algorithms.py\n",
            "spark-3.3.2-bin-hadoop3/python/pyspark/ml/tests/test_base.py\n",
            "spark-3.3.2-bin-hadoop3/python/pyspark/ml/tests/test_evaluation.py\n",
            "spark-3.3.2-bin-hadoop3/python/pyspark/ml/tests/test_feature.py\n",
            "spark-3.3.2-bin-hadoop3/python/pyspark/ml/tests/test_image.py\n",
            "spark-3.3.2-bin-hadoop3/python/pyspark/ml/tests/test_linalg.py\n",
            "spark-3.3.2-bin-hadoop3/python/pyspark/ml/tests/test_param.py\n",
            "spark-3.3.2-bin-hadoop3/python/pyspark/ml/tests/test_persistence.py\n",
            "spark-3.3.2-bin-hadoop3/python/pyspark/ml/tests/test_pipeline.py\n",
            "spark-3.3.2-bin-hadoop3/python/pyspark/ml/tests/test_stat.py\n",
            "spark-3.3.2-bin-hadoop3/python/pyspark/ml/tests/test_training_summary.py\n",
            "spark-3.3.2-bin-hadoop3/python/pyspark/ml/tests/test_tuning.py\n",
            "spark-3.3.2-bin-hadoop3/python/pyspark/ml/tests/test_util.py\n",
            "spark-3.3.2-bin-hadoop3/python/pyspark/ml/tests/test_wrapper.py\n",
            "spark-3.3.2-bin-hadoop3/python/pyspark/ml/tests/typing/\n",
            "spark-3.3.2-bin-hadoop3/python/pyspark/ml/tests/typing/test_classification.yml\n",
            "spark-3.3.2-bin-hadoop3/python/pyspark/ml/tests/typing/test_clustering.yaml\n",
            "spark-3.3.2-bin-hadoop3/python/pyspark/ml/tests/typing/test_evaluation.yml\n",
            "spark-3.3.2-bin-hadoop3/python/pyspark/ml/tests/typing/test_feature.yml\n",
            "spark-3.3.2-bin-hadoop3/python/pyspark/ml/tests/typing/test_param.yml\n",
            "spark-3.3.2-bin-hadoop3/python/pyspark/ml/tests/typing/test_readable.yml\n",
            "spark-3.3.2-bin-hadoop3/python/pyspark/ml/tests/typing/test_regression.yml\n",
            "spark-3.3.2-bin-hadoop3/python/pyspark/ml/tree.py\n",
            "spark-3.3.2-bin-hadoop3/python/pyspark/ml/tuning.py\n",
            "spark-3.3.2-bin-hadoop3/python/pyspark/ml/util.py\n",
            "spark-3.3.2-bin-hadoop3/python/pyspark/ml/wrapper.py\n",
            "spark-3.3.2-bin-hadoop3/python/pyspark/mllib/\n",
            "spark-3.3.2-bin-hadoop3/python/pyspark/mllib/__init__.py\n",
            "spark-3.3.2-bin-hadoop3/python/pyspark/mllib/_typing.pyi\n",
            "spark-3.3.2-bin-hadoop3/python/pyspark/mllib/classification.py\n",
            "spark-3.3.2-bin-hadoop3/python/pyspark/mllib/clustering.py\n",
            "spark-3.3.2-bin-hadoop3/python/pyspark/mllib/common.py\n",
            "spark-3.3.2-bin-hadoop3/python/pyspark/mllib/evaluation.py\n",
            "spark-3.3.2-bin-hadoop3/python/pyspark/mllib/feature.py\n",
            "spark-3.3.2-bin-hadoop3/python/pyspark/mllib/fpm.py\n",
            "spark-3.3.2-bin-hadoop3/python/pyspark/mllib/linalg/\n",
            "spark-3.3.2-bin-hadoop3/python/pyspark/mllib/linalg/__init__.py\n",
            "spark-3.3.2-bin-hadoop3/python/pyspark/mllib/linalg/distributed.py\n",
            "spark-3.3.2-bin-hadoop3/python/pyspark/mllib/random.py\n",
            "spark-3.3.2-bin-hadoop3/python/pyspark/mllib/random.pyi\n",
            "spark-3.3.2-bin-hadoop3/python/pyspark/mllib/recommendation.py\n",
            "spark-3.3.2-bin-hadoop3/python/pyspark/mllib/recommendation.pyi\n",
            "spark-3.3.2-bin-hadoop3/python/pyspark/mllib/regression.py\n",
            "spark-3.3.2-bin-hadoop3/python/pyspark/mllib/stat/\n",
            "spark-3.3.2-bin-hadoop3/python/pyspark/mllib/stat/KernelDensity.py\n",
            "spark-3.3.2-bin-hadoop3/python/pyspark/mllib/stat/__init__.py\n",
            "spark-3.3.2-bin-hadoop3/python/pyspark/mllib/stat/_statistics.py\n",
            "spark-3.3.2-bin-hadoop3/python/pyspark/mllib/stat/distribution.py\n",
            "spark-3.3.2-bin-hadoop3/python/pyspark/mllib/stat/test.py\n",
            "spark-3.3.2-bin-hadoop3/python/pyspark/mllib/tests/\n",
            "spark-3.3.2-bin-hadoop3/python/pyspark/mllib/tests/__init__.py\n",
            "spark-3.3.2-bin-hadoop3/python/pyspark/mllib/tests/test_algorithms.py\n",
            "spark-3.3.2-bin-hadoop3/python/pyspark/mllib/tests/test_feature.py\n",
            "spark-3.3.2-bin-hadoop3/python/pyspark/mllib/tests/test_linalg.py\n",
            "spark-3.3.2-bin-hadoop3/python/pyspark/mllib/tests/test_stat.py\n",
            "spark-3.3.2-bin-hadoop3/python/pyspark/mllib/tests/test_streaming_algorithms.py\n",
            "spark-3.3.2-bin-hadoop3/python/pyspark/mllib/tests/test_util.py\n",
            "spark-3.3.2-bin-hadoop3/python/pyspark/mllib/tree.py\n",
            "spark-3.3.2-bin-hadoop3/python/pyspark/mllib/util.py\n",
            "spark-3.3.2-bin-hadoop3/python/pyspark/pandas/\n",
            "spark-3.3.2-bin-hadoop3/python/pyspark/pandas/__init__.py\n",
            "spark-3.3.2-bin-hadoop3/python/pyspark/pandas/_typing.py\n",
            "spark-3.3.2-bin-hadoop3/python/pyspark/pandas/accessors.py\n",
            "spark-3.3.2-bin-hadoop3/python/pyspark/pandas/base.py\n",
            "spark-3.3.2-bin-hadoop3/python/pyspark/pandas/categorical.py\n",
            "spark-3.3.2-bin-hadoop3/python/pyspark/pandas/config.py\n",
            "spark-3.3.2-bin-hadoop3/python/pyspark/pandas/data_type_ops/\n",
            "spark-3.3.2-bin-hadoop3/python/pyspark/pandas/data_type_ops/__init__.py\n",
            "spark-3.3.2-bin-hadoop3/python/pyspark/pandas/data_type_ops/base.py\n",
            "spark-3.3.2-bin-hadoop3/python/pyspark/pandas/data_type_ops/binary_ops.py\n",
            "spark-3.3.2-bin-hadoop3/python/pyspark/pandas/data_type_ops/boolean_ops.py\n",
            "spark-3.3.2-bin-hadoop3/python/pyspark/pandas/data_type_ops/categorical_ops.py\n",
            "spark-3.3.2-bin-hadoop3/python/pyspark/pandas/data_type_ops/complex_ops.py\n",
            "spark-3.3.2-bin-hadoop3/python/pyspark/pandas/data_type_ops/date_ops.py\n",
            "spark-3.3.2-bin-hadoop3/python/pyspark/pandas/data_type_ops/datetime_ops.py\n",
            "spark-3.3.2-bin-hadoop3/python/pyspark/pandas/data_type_ops/null_ops.py\n",
            "spark-3.3.2-bin-hadoop3/python/pyspark/pandas/data_type_ops/num_ops.py\n",
            "spark-3.3.2-bin-hadoop3/python/pyspark/pandas/data_type_ops/string_ops.py\n",
            "spark-3.3.2-bin-hadoop3/python/pyspark/pandas/data_type_ops/timedelta_ops.py\n",
            "spark-3.3.2-bin-hadoop3/python/pyspark/pandas/data_type_ops/udt_ops.py\n",
            "spark-3.3.2-bin-hadoop3/python/pyspark/pandas/datetimes.py\n",
            "spark-3.3.2-bin-hadoop3/python/pyspark/pandas/exceptions.py\n",
            "spark-3.3.2-bin-hadoop3/python/pyspark/pandas/extensions.py\n",
            "spark-3.3.2-bin-hadoop3/python/pyspark/pandas/frame.py\n",
            "spark-3.3.2-bin-hadoop3/python/pyspark/pandas/generic.py\n",
            "spark-3.3.2-bin-hadoop3/python/pyspark/pandas/groupby.py\n",
            "spark-3.3.2-bin-hadoop3/python/pyspark/pandas/indexes/\n",
            "spark-3.3.2-bin-hadoop3/python/pyspark/pandas/indexes/__init__.py\n",
            "spark-3.3.2-bin-hadoop3/python/pyspark/pandas/indexes/base.py\n",
            "spark-3.3.2-bin-hadoop3/python/pyspark/pandas/indexes/category.py\n",
            "spark-3.3.2-bin-hadoop3/python/pyspark/pandas/indexes/datetimes.py\n",
            "spark-3.3.2-bin-hadoop3/python/pyspark/pandas/indexes/multi.py\n",
            "spark-3.3.2-bin-hadoop3/python/pyspark/pandas/indexes/numeric.py\n",
            "spark-3.3.2-bin-hadoop3/python/pyspark/pandas/indexes/timedelta.py\n",
            "spark-3.3.2-bin-hadoop3/python/pyspark/pandas/indexing.py\n",
            "spark-3.3.2-bin-hadoop3/python/pyspark/pandas/internal.py\n",
            "spark-3.3.2-bin-hadoop3/python/pyspark/pandas/missing/\n",
            "spark-3.3.2-bin-hadoop3/python/pyspark/pandas/missing/__init__.py\n",
            "spark-3.3.2-bin-hadoop3/python/pyspark/pandas/missing/common.py\n",
            "spark-3.3.2-bin-hadoop3/python/pyspark/pandas/missing/frame.py\n",
            "spark-3.3.2-bin-hadoop3/python/pyspark/pandas/missing/general_functions.py\n",
            "spark-3.3.2-bin-hadoop3/python/pyspark/pandas/missing/groupby.py\n",
            "spark-3.3.2-bin-hadoop3/python/pyspark/pandas/missing/indexes.py\n",
            "spark-3.3.2-bin-hadoop3/python/pyspark/pandas/missing/series.py\n",
            "spark-3.3.2-bin-hadoop3/python/pyspark/pandas/missing/window.py\n",
            "spark-3.3.2-bin-hadoop3/python/pyspark/pandas/ml.py\n",
            "spark-3.3.2-bin-hadoop3/python/pyspark/pandas/mlflow.py\n",
            "spark-3.3.2-bin-hadoop3/python/pyspark/pandas/namespace.py\n",
            "spark-3.3.2-bin-hadoop3/python/pyspark/pandas/numpy_compat.py\n",
            "spark-3.3.2-bin-hadoop3/python/pyspark/pandas/plot/\n",
            "spark-3.3.2-bin-hadoop3/python/pyspark/pandas/plot/__init__.py\n",
            "spark-3.3.2-bin-hadoop3/python/pyspark/pandas/plot/core.py\n",
            "spark-3.3.2-bin-hadoop3/python/pyspark/pandas/plot/matplotlib.py\n",
            "spark-3.3.2-bin-hadoop3/python/pyspark/pandas/plot/plotly.py\n",
            "spark-3.3.2-bin-hadoop3/python/pyspark/pandas/series.py\n",
            "spark-3.3.2-bin-hadoop3/python/pyspark/pandas/spark/\n",
            "spark-3.3.2-bin-hadoop3/python/pyspark/pandas/spark/__init__.py\n",
            "spark-3.3.2-bin-hadoop3/python/pyspark/pandas/spark/accessors.py\n",
            "spark-3.3.2-bin-hadoop3/python/pyspark/pandas/spark/functions.py\n",
            "spark-3.3.2-bin-hadoop3/python/pyspark/pandas/spark/utils.py\n",
            "spark-3.3.2-bin-hadoop3/python/pyspark/pandas/sql_formatter.py\n",
            "spark-3.3.2-bin-hadoop3/python/pyspark/pandas/sql_processor.py\n",
            "spark-3.3.2-bin-hadoop3/python/pyspark/pandas/strings.py\n",
            "spark-3.3.2-bin-hadoop3/python/pyspark/pandas/tests/\n",
            "spark-3.3.2-bin-hadoop3/python/pyspark/pandas/tests/__init__.py\n",
            "spark-3.3.2-bin-hadoop3/python/pyspark/pandas/tests/data_type_ops/\n",
            "spark-3.3.2-bin-hadoop3/python/pyspark/pandas/tests/data_type_ops/__init__.py\n",
            "spark-3.3.2-bin-hadoop3/python/pyspark/pandas/tests/data_type_ops/test_base.py\n",
            "spark-3.3.2-bin-hadoop3/python/pyspark/pandas/tests/data_type_ops/test_binary_ops.py\n",
            "spark-3.3.2-bin-hadoop3/python/pyspark/pandas/tests/data_type_ops/test_boolean_ops.py\n",
            "spark-3.3.2-bin-hadoop3/python/pyspark/pandas/tests/data_type_ops/test_categorical_ops.py\n",
            "spark-3.3.2-bin-hadoop3/python/pyspark/pandas/tests/data_type_ops/test_complex_ops.py\n",
            "spark-3.3.2-bin-hadoop3/python/pyspark/pandas/tests/data_type_ops/test_date_ops.py\n",
            "spark-3.3.2-bin-hadoop3/python/pyspark/pandas/tests/data_type_ops/test_datetime_ops.py\n",
            "spark-3.3.2-bin-hadoop3/python/pyspark/pandas/tests/data_type_ops/test_null_ops.py\n",
            "spark-3.3.2-bin-hadoop3/python/pyspark/pandas/tests/data_type_ops/test_num_ops.py\n",
            "spark-3.3.2-bin-hadoop3/python/pyspark/pandas/tests/data_type_ops/test_string_ops.py\n",
            "spark-3.3.2-bin-hadoop3/python/pyspark/pandas/tests/data_type_ops/test_timedelta_ops.py\n",
            "spark-3.3.2-bin-hadoop3/python/pyspark/pandas/tests/data_type_ops/test_udt_ops.py\n",
            "spark-3.3.2-bin-hadoop3/python/pyspark/pandas/tests/data_type_ops/testing_utils.py\n",
            "spark-3.3.2-bin-hadoop3/python/pyspark/pandas/tests/indexes/\n",
            "spark-3.3.2-bin-hadoop3/python/pyspark/pandas/tests/indexes/__init__.py\n",
            "spark-3.3.2-bin-hadoop3/python/pyspark/pandas/tests/indexes/test_base.py\n",
            "spark-3.3.2-bin-hadoop3/python/pyspark/pandas/tests/indexes/test_category.py\n",
            "spark-3.3.2-bin-hadoop3/python/pyspark/pandas/tests/indexes/test_datetime.py\n",
            "spark-3.3.2-bin-hadoop3/python/pyspark/pandas/tests/indexes/test_timedelta.py\n",
            "spark-3.3.2-bin-hadoop3/python/pyspark/pandas/tests/plot/\n",
            "spark-3.3.2-bin-hadoop3/python/pyspark/pandas/tests/plot/__init__.py\n",
            "spark-3.3.2-bin-hadoop3/python/pyspark/pandas/tests/plot/test_frame_plot.py\n",
            "spark-3.3.2-bin-hadoop3/python/pyspark/pandas/tests/plot/test_frame_plot_matplotlib.py\n",
            "spark-3.3.2-bin-hadoop3/python/pyspark/pandas/tests/plot/test_frame_plot_plotly.py\n",
            "spark-3.3.2-bin-hadoop3/python/pyspark/pandas/tests/plot/test_series_plot.py\n",
            "spark-3.3.2-bin-hadoop3/python/pyspark/pandas/tests/plot/test_series_plot_matplotlib.py\n",
            "spark-3.3.2-bin-hadoop3/python/pyspark/pandas/tests/plot/test_series_plot_plotly.py\n",
            "spark-3.3.2-bin-hadoop3/python/pyspark/pandas/tests/test_categorical.py\n",
            "spark-3.3.2-bin-hadoop3/python/pyspark/pandas/tests/test_config.py\n",
            "spark-3.3.2-bin-hadoop3/python/pyspark/pandas/tests/test_csv.py\n",
            "spark-3.3.2-bin-hadoop3/python/pyspark/pandas/tests/test_dataframe.py\n",
            "spark-3.3.2-bin-hadoop3/python/pyspark/pandas/tests/test_dataframe_conversion.py\n",
            "spark-3.3.2-bin-hadoop3/python/pyspark/pandas/tests/test_dataframe_spark_io.py\n",
            "spark-3.3.2-bin-hadoop3/python/pyspark/pandas/tests/test_default_index.py\n",
            "spark-3.3.2-bin-hadoop3/python/pyspark/pandas/tests/test_expanding.py\n",
            "spark-3.3.2-bin-hadoop3/python/pyspark/pandas/tests/test_extension.py\n",
            "spark-3.3.2-bin-hadoop3/python/pyspark/pandas/tests/test_frame_spark.py\n",
            "spark-3.3.2-bin-hadoop3/python/pyspark/pandas/tests/test_groupby.py\n",
            "spark-3.3.2-bin-hadoop3/python/pyspark/pandas/tests/test_indexing.py\n",
            "spark-3.3.2-bin-hadoop3/python/pyspark/pandas/tests/test_indexops_spark.py\n",
            "spark-3.3.2-bin-hadoop3/python/pyspark/pandas/tests/test_internal.py\n",
            "spark-3.3.2-bin-hadoop3/python/pyspark/pandas/tests/test_namespace.py\n",
            "spark-3.3.2-bin-hadoop3/python/pyspark/pandas/tests/test_numpy_compat.py\n",
            "spark-3.3.2-bin-hadoop3/python/pyspark/pandas/tests/test_ops_on_diff_frames.py\n",
            "spark-3.3.2-bin-hadoop3/python/pyspark/pandas/tests/test_ops_on_diff_frames_groupby.py\n",
            "spark-3.3.2-bin-hadoop3/python/pyspark/pandas/tests/test_ops_on_diff_frames_groupby_expanding.py\n",
            "spark-3.3.2-bin-hadoop3/python/pyspark/pandas/tests/test_ops_on_diff_frames_groupby_rolling.py\n",
            "spark-3.3.2-bin-hadoop3/python/pyspark/pandas/tests/test_repr.py\n",
            "spark-3.3.2-bin-hadoop3/python/pyspark/pandas/tests/test_reshape.py\n",
            "spark-3.3.2-bin-hadoop3/python/pyspark/pandas/tests/test_rolling.py\n",
            "spark-3.3.2-bin-hadoop3/python/pyspark/pandas/tests/test_series.py\n",
            "spark-3.3.2-bin-hadoop3/python/pyspark/pandas/tests/test_series_conversion.py\n",
            "spark-3.3.2-bin-hadoop3/python/pyspark/pandas/tests/test_series_datetime.py\n",
            "spark-3.3.2-bin-hadoop3/python/pyspark/pandas/tests/test_series_string.py\n",
            "spark-3.3.2-bin-hadoop3/python/pyspark/pandas/tests/test_spark_functions.py\n",
            "spark-3.3.2-bin-hadoop3/python/pyspark/pandas/tests/test_sql.py\n",
            "spark-3.3.2-bin-hadoop3/python/pyspark/pandas/tests/test_stats.py\n",
            "spark-3.3.2-bin-hadoop3/python/pyspark/pandas/tests/test_typedef.py\n",
            "spark-3.3.2-bin-hadoop3/python/pyspark/pandas/tests/test_utils.py\n",
            "spark-3.3.2-bin-hadoop3/python/pyspark/pandas/tests/test_window.py\n",
            "spark-3.3.2-bin-hadoop3/python/pyspark/pandas/typedef/\n",
            "spark-3.3.2-bin-hadoop3/python/pyspark/pandas/typedef/__init__.py\n",
            "spark-3.3.2-bin-hadoop3/python/pyspark/pandas/typedef/typehints.py\n",
            "spark-3.3.2-bin-hadoop3/python/pyspark/pandas/usage_logging/\n",
            "spark-3.3.2-bin-hadoop3/python/pyspark/pandas/usage_logging/__init__.py\n",
            "spark-3.3.2-bin-hadoop3/python/pyspark/pandas/usage_logging/usage_logger.py\n",
            "spark-3.3.2-bin-hadoop3/python/pyspark/pandas/utils.py\n",
            "spark-3.3.2-bin-hadoop3/python/pyspark/pandas/window.py\n",
            "spark-3.3.2-bin-hadoop3/python/pyspark/profiler.py\n",
            "spark-3.3.2-bin-hadoop3/python/pyspark/py.typed\n",
            "spark-3.3.2-bin-hadoop3/python/pyspark/python/\n",
            "spark-3.3.2-bin-hadoop3/python/pyspark/python/pyspark/\n",
            "spark-3.3.2-bin-hadoop3/python/pyspark/python/pyspark/shell.py\n",
            "spark-3.3.2-bin-hadoop3/python/pyspark/rdd.py\n",
            "spark-3.3.2-bin-hadoop3/python/pyspark/rddsampler.py\n",
            "spark-3.3.2-bin-hadoop3/python/pyspark/resource/\n",
            "spark-3.3.2-bin-hadoop3/python/pyspark/resource/__init__.py\n",
            "spark-3.3.2-bin-hadoop3/python/pyspark/resource/information.py\n",
            "spark-3.3.2-bin-hadoop3/python/pyspark/resource/profile.py\n",
            "spark-3.3.2-bin-hadoop3/python/pyspark/resource/requests.py\n",
            "spark-3.3.2-bin-hadoop3/python/pyspark/resource/tests/\n",
            "spark-3.3.2-bin-hadoop3/python/pyspark/resource/tests/__init__.py\n",
            "spark-3.3.2-bin-hadoop3/python/pyspark/resource/tests/test_resources.py\n",
            "spark-3.3.2-bin-hadoop3/python/pyspark/resultiterable.py\n",
            "spark-3.3.2-bin-hadoop3/python/pyspark/serializers.py\n",
            "spark-3.3.2-bin-hadoop3/python/pyspark/shell.py\n",
            "spark-3.3.2-bin-hadoop3/python/pyspark/shuffle.py\n",
            "spark-3.3.2-bin-hadoop3/python/pyspark/sql/\n",
            "spark-3.3.2-bin-hadoop3/python/pyspark/sql/__init__.py\n",
            "spark-3.3.2-bin-hadoop3/python/pyspark/sql/_typing.pyi\n",
            "spark-3.3.2-bin-hadoop3/python/pyspark/sql/avro/\n",
            "spark-3.3.2-bin-hadoop3/python/pyspark/sql/avro/__init__.py\n",
            "spark-3.3.2-bin-hadoop3/python/pyspark/sql/avro/functions.py\n",
            "spark-3.3.2-bin-hadoop3/python/pyspark/sql/catalog.py\n",
            "spark-3.3.2-bin-hadoop3/python/pyspark/sql/column.py\n",
            "spark-3.3.2-bin-hadoop3/python/pyspark/sql/conf.py\n",
            "spark-3.3.2-bin-hadoop3/python/pyspark/sql/context.py\n",
            "spark-3.3.2-bin-hadoop3/python/pyspark/sql/dataframe.py\n",
            "spark-3.3.2-bin-hadoop3/python/pyspark/sql/functions.py\n",
            "spark-3.3.2-bin-hadoop3/python/pyspark/sql/group.py\n",
            "spark-3.3.2-bin-hadoop3/python/pyspark/sql/observation.py\n",
            "spark-3.3.2-bin-hadoop3/python/pyspark/sql/pandas/\n",
            "spark-3.3.2-bin-hadoop3/python/pyspark/sql/pandas/__init__.py\n",
            "spark-3.3.2-bin-hadoop3/python/pyspark/sql/pandas/_typing/\n",
            "spark-3.3.2-bin-hadoop3/python/pyspark/sql/pandas/_typing/__init__.pyi\n",
            "spark-3.3.2-bin-hadoop3/python/pyspark/sql/pandas/_typing/protocols/\n",
            "spark-3.3.2-bin-hadoop3/python/pyspark/sql/pandas/_typing/protocols/__init__.pyi\n",
            "spark-3.3.2-bin-hadoop3/python/pyspark/sql/pandas/_typing/protocols/frame.pyi\n",
            "spark-3.3.2-bin-hadoop3/python/pyspark/sql/pandas/_typing/protocols/series.pyi\n",
            "spark-3.3.2-bin-hadoop3/python/pyspark/sql/pandas/conversion.py\n",
            "spark-3.3.2-bin-hadoop3/python/pyspark/sql/pandas/functions.py\n",
            "spark-3.3.2-bin-hadoop3/python/pyspark/sql/pandas/functions.pyi\n",
            "spark-3.3.2-bin-hadoop3/python/pyspark/sql/pandas/group_ops.py\n",
            "spark-3.3.2-bin-hadoop3/python/pyspark/sql/pandas/map_ops.py\n",
            "spark-3.3.2-bin-hadoop3/python/pyspark/sql/pandas/serializers.py\n",
            "spark-3.3.2-bin-hadoop3/python/pyspark/sql/pandas/typehints.py\n",
            "spark-3.3.2-bin-hadoop3/python/pyspark/sql/pandas/types.py\n",
            "spark-3.3.2-bin-hadoop3/python/pyspark/sql/pandas/utils.py\n",
            "spark-3.3.2-bin-hadoop3/python/pyspark/sql/readwriter.py\n",
            "spark-3.3.2-bin-hadoop3/python/pyspark/sql/session.py\n",
            "spark-3.3.2-bin-hadoop3/python/pyspark/sql/sql_formatter.py\n",
            "spark-3.3.2-bin-hadoop3/python/pyspark/sql/streaming.py\n",
            "spark-3.3.2-bin-hadoop3/python/pyspark/sql/tests/\n",
            "spark-3.3.2-bin-hadoop3/python/pyspark/sql/tests/__init__.py\n",
            "spark-3.3.2-bin-hadoop3/python/pyspark/sql/tests/test_arrow.py\n",
            "spark-3.3.2-bin-hadoop3/python/pyspark/sql/tests/test_arrow_map.py\n",
            "spark-3.3.2-bin-hadoop3/python/pyspark/sql/tests/test_catalog.py\n",
            "spark-3.3.2-bin-hadoop3/python/pyspark/sql/tests/test_column.py\n",
            "spark-3.3.2-bin-hadoop3/python/pyspark/sql/tests/test_conf.py\n",
            "spark-3.3.2-bin-hadoop3/python/pyspark/sql/tests/test_context.py\n",
            "spark-3.3.2-bin-hadoop3/python/pyspark/sql/tests/test_dataframe.py\n",
            "spark-3.3.2-bin-hadoop3/python/pyspark/sql/tests/test_datasources.py\n",
            "spark-3.3.2-bin-hadoop3/python/pyspark/sql/tests/test_functions.py\n",
            "spark-3.3.2-bin-hadoop3/python/pyspark/sql/tests/test_group.py\n",
            "spark-3.3.2-bin-hadoop3/python/pyspark/sql/tests/test_pandas_cogrouped_map.py\n",
            "spark-3.3.2-bin-hadoop3/python/pyspark/sql/tests/test_pandas_grouped_map.py\n",
            "spark-3.3.2-bin-hadoop3/python/pyspark/sql/tests/test_pandas_map.py\n",
            "spark-3.3.2-bin-hadoop3/python/pyspark/sql/tests/test_pandas_udf.py\n",
            "spark-3.3.2-bin-hadoop3/python/pyspark/sql/tests/test_pandas_udf_grouped_agg.py\n",
            "spark-3.3.2-bin-hadoop3/python/pyspark/sql/tests/test_pandas_udf_scalar.py\n",
            "spark-3.3.2-bin-hadoop3/python/pyspark/sql/tests/test_pandas_udf_typehints.py\n",
            "spark-3.3.2-bin-hadoop3/python/pyspark/sql/tests/test_pandas_udf_typehints_with_future_annotations.py\n",
            "spark-3.3.2-bin-hadoop3/python/pyspark/sql/tests/test_pandas_udf_window.py\n",
            "spark-3.3.2-bin-hadoop3/python/pyspark/sql/tests/test_readwriter.py\n",
            "spark-3.3.2-bin-hadoop3/python/pyspark/sql/tests/test_serde.py\n",
            "spark-3.3.2-bin-hadoop3/python/pyspark/sql/tests/test_session.py\n",
            "spark-3.3.2-bin-hadoop3/python/pyspark/sql/tests/test_streaming.py\n",
            "spark-3.3.2-bin-hadoop3/python/pyspark/sql/tests/test_types.py\n",
            "spark-3.3.2-bin-hadoop3/python/pyspark/sql/tests/test_udf.py\n",
            "spark-3.3.2-bin-hadoop3/python/pyspark/sql/tests/test_udf_profiler.py\n",
            "spark-3.3.2-bin-hadoop3/python/pyspark/sql/tests/test_utils.py\n",
            "spark-3.3.2-bin-hadoop3/python/pyspark/sql/tests/typing/\n",
            "spark-3.3.2-bin-hadoop3/python/pyspark/sql/tests/typing/test_column.yml\n",
            "spark-3.3.2-bin-hadoop3/python/pyspark/sql/tests/typing/test_dataframe.yml\n",
            "spark-3.3.2-bin-hadoop3/python/pyspark/sql/tests/typing/test_functions.yml\n",
            "spark-3.3.2-bin-hadoop3/python/pyspark/sql/tests/typing/test_readwriter.yml\n",
            "spark-3.3.2-bin-hadoop3/python/pyspark/sql/tests/typing/test_session.yml\n",
            "spark-3.3.2-bin-hadoop3/python/pyspark/sql/tests/typing/test_udf.yml\n",
            "spark-3.3.2-bin-hadoop3/python/pyspark/sql/types.py\n",
            "spark-3.3.2-bin-hadoop3/python/pyspark/sql/udf.py\n",
            "spark-3.3.2-bin-hadoop3/python/pyspark/sql/utils.py\n",
            "spark-3.3.2-bin-hadoop3/python/pyspark/sql/window.py\n",
            "spark-3.3.2-bin-hadoop3/python/pyspark/statcounter.py\n",
            "spark-3.3.2-bin-hadoop3/python/pyspark/status.py\n",
            "spark-3.3.2-bin-hadoop3/python/pyspark/storagelevel.py\n",
            "spark-3.3.2-bin-hadoop3/python/pyspark/streaming/\n",
            "spark-3.3.2-bin-hadoop3/python/pyspark/streaming/__init__.py\n",
            "spark-3.3.2-bin-hadoop3/python/pyspark/streaming/context.py\n",
            "spark-3.3.2-bin-hadoop3/python/pyspark/streaming/dstream.py\n",
            "spark-3.3.2-bin-hadoop3/python/pyspark/streaming/kinesis.py\n",
            "spark-3.3.2-bin-hadoop3/python/pyspark/streaming/listener.py\n",
            "spark-3.3.2-bin-hadoop3/python/pyspark/streaming/tests/\n",
            "spark-3.3.2-bin-hadoop3/python/pyspark/streaming/tests/__init__.py\n",
            "spark-3.3.2-bin-hadoop3/python/pyspark/streaming/tests/test_context.py\n",
            "spark-3.3.2-bin-hadoop3/python/pyspark/streaming/tests/test_dstream.py\n",
            "spark-3.3.2-bin-hadoop3/python/pyspark/streaming/tests/test_kinesis.py\n",
            "spark-3.3.2-bin-hadoop3/python/pyspark/streaming/tests/test_listener.py\n",
            "spark-3.3.2-bin-hadoop3/python/pyspark/streaming/util.py\n",
            "spark-3.3.2-bin-hadoop3/python/pyspark/taskcontext.py\n",
            "spark-3.3.2-bin-hadoop3/python/pyspark/testing/\n",
            "spark-3.3.2-bin-hadoop3/python/pyspark/testing/__init__.py\n",
            "spark-3.3.2-bin-hadoop3/python/pyspark/testing/mllibutils.py\n",
            "spark-3.3.2-bin-hadoop3/python/pyspark/testing/mlutils.py\n",
            "spark-3.3.2-bin-hadoop3/python/pyspark/testing/pandasutils.py\n",
            "spark-3.3.2-bin-hadoop3/python/pyspark/testing/sqlutils.py\n",
            "spark-3.3.2-bin-hadoop3/python/pyspark/testing/streamingutils.py\n",
            "spark-3.3.2-bin-hadoop3/python/pyspark/testing/utils.py\n",
            "spark-3.3.2-bin-hadoop3/python/pyspark/tests/\n",
            "spark-3.3.2-bin-hadoop3/python/pyspark/tests/__init__.py\n",
            "spark-3.3.2-bin-hadoop3/python/pyspark/tests/test_appsubmit.py\n",
            "spark-3.3.2-bin-hadoop3/python/pyspark/tests/test_broadcast.py\n",
            "spark-3.3.2-bin-hadoop3/python/pyspark/tests/test_conf.py\n",
            "spark-3.3.2-bin-hadoop3/python/pyspark/tests/test_context.py\n",
            "spark-3.3.2-bin-hadoop3/python/pyspark/tests/test_daemon.py\n",
            "spark-3.3.2-bin-hadoop3/python/pyspark/tests/test_install_spark.py\n",
            "spark-3.3.2-bin-hadoop3/python/pyspark/tests/test_join.py\n",
            "spark-3.3.2-bin-hadoop3/python/pyspark/tests/test_pin_thread.py\n",
            "spark-3.3.2-bin-hadoop3/python/pyspark/tests/test_profiler.py\n",
            "spark-3.3.2-bin-hadoop3/python/pyspark/tests/test_rdd.py\n",
            "spark-3.3.2-bin-hadoop3/python/pyspark/tests/test_rddbarrier.py\n",
            "spark-3.3.2-bin-hadoop3/python/pyspark/tests/test_readwrite.py\n",
            "spark-3.3.2-bin-hadoop3/python/pyspark/tests/test_serializers.py\n",
            "spark-3.3.2-bin-hadoop3/python/pyspark/tests/test_shuffle.py\n",
            "spark-3.3.2-bin-hadoop3/python/pyspark/tests/test_statcounter.py\n",
            "spark-3.3.2-bin-hadoop3/python/pyspark/tests/test_taskcontext.py\n",
            "spark-3.3.2-bin-hadoop3/python/pyspark/tests/test_util.py\n",
            "spark-3.3.2-bin-hadoop3/python/pyspark/tests/test_worker.py\n",
            "spark-3.3.2-bin-hadoop3/python/pyspark/tests/typing/\n",
            "spark-3.3.2-bin-hadoop3/python/pyspark/tests/typing/test_context.yml\n",
            "spark-3.3.2-bin-hadoop3/python/pyspark/tests/typing/test_core.yml\n",
            "spark-3.3.2-bin-hadoop3/python/pyspark/tests/typing/test_rdd.yml\n",
            "spark-3.3.2-bin-hadoop3/python/pyspark/tests/typing/test_resultiterable.yml\n",
            "spark-3.3.2-bin-hadoop3/python/pyspark/traceback_utils.py\n",
            "spark-3.3.2-bin-hadoop3/python/pyspark/util.py\n",
            "spark-3.3.2-bin-hadoop3/python/pyspark/version.py\n",
            "spark-3.3.2-bin-hadoop3/python/pyspark/worker.py\n",
            "spark-3.3.2-bin-hadoop3/python/pyspark.egg-info/\n",
            "spark-3.3.2-bin-hadoop3/python/pyspark.egg-info/PKG-INFO\n",
            "spark-3.3.2-bin-hadoop3/python/pyspark.egg-info/SOURCES.txt\n",
            "spark-3.3.2-bin-hadoop3/python/pyspark.egg-info/dependency_links.txt\n",
            "spark-3.3.2-bin-hadoop3/python/pyspark.egg-info/requires.txt\n",
            "spark-3.3.2-bin-hadoop3/python/pyspark.egg-info/top_level.txt\n",
            "spark-3.3.2-bin-hadoop3/python/run-tests\n",
            "spark-3.3.2-bin-hadoop3/python/run-tests-with-coverage\n",
            "spark-3.3.2-bin-hadoop3/python/run-tests.py\n",
            "spark-3.3.2-bin-hadoop3/python/setup.cfg\n",
            "spark-3.3.2-bin-hadoop3/python/setup.py\n",
            "spark-3.3.2-bin-hadoop3/python/test_coverage/\n",
            "spark-3.3.2-bin-hadoop3/python/test_coverage/conf/\n",
            "spark-3.3.2-bin-hadoop3/python/test_coverage/conf/spark-defaults.conf\n",
            "spark-3.3.2-bin-hadoop3/python/test_coverage/coverage_daemon.py\n",
            "spark-3.3.2-bin-hadoop3/python/test_coverage/sitecustomize.py\n",
            "spark-3.3.2-bin-hadoop3/python/test_support/\n",
            "spark-3.3.2-bin-hadoop3/python/test_support/SimpleHTTPServer.py\n",
            "spark-3.3.2-bin-hadoop3/python/test_support/hello/\n",
            "spark-3.3.2-bin-hadoop3/python/test_support/hello/hello.txt\n",
            "spark-3.3.2-bin-hadoop3/python/test_support/hello/sub_hello/\n",
            "spark-3.3.2-bin-hadoop3/python/test_support/hello/sub_hello/sub_hello.txt\n",
            "spark-3.3.2-bin-hadoop3/python/test_support/sql/\n",
            "spark-3.3.2-bin-hadoop3/python/test_support/sql/ages.csv\n",
            "spark-3.3.2-bin-hadoop3/python/test_support/sql/ages_newlines.csv\n",
            "spark-3.3.2-bin-hadoop3/python/test_support/sql/orc_partitioned/\n",
            "spark-3.3.2-bin-hadoop3/python/test_support/sql/orc_partitioned/_SUCCESS\n",
            "spark-3.3.2-bin-hadoop3/python/test_support/sql/orc_partitioned/b=0/\n",
            "spark-3.3.2-bin-hadoop3/python/test_support/sql/orc_partitioned/b=0/c=0/\n",
            "spark-3.3.2-bin-hadoop3/python/test_support/sql/orc_partitioned/b=0/c=0/.part-r-00000-829af031-b970-49d6-ad39-30460a0be2c8.orc.crc\n",
            "spark-3.3.2-bin-hadoop3/python/test_support/sql/orc_partitioned/b=0/c=0/part-r-00000-829af031-b970-49d6-ad39-30460a0be2c8.orc\n",
            "spark-3.3.2-bin-hadoop3/python/test_support/sql/orc_partitioned/b=1/\n",
            "spark-3.3.2-bin-hadoop3/python/test_support/sql/orc_partitioned/b=1/c=1/\n",
            "spark-3.3.2-bin-hadoop3/python/test_support/sql/orc_partitioned/b=1/c=1/.part-r-00000-829af031-b970-49d6-ad39-30460a0be2c8.orc.crc\n",
            "spark-3.3.2-bin-hadoop3/python/test_support/sql/orc_partitioned/b=1/c=1/part-r-00000-829af031-b970-49d6-ad39-30460a0be2c8.orc\n",
            "spark-3.3.2-bin-hadoop3/python/test_support/sql/parquet_partitioned/\n",
            "spark-3.3.2-bin-hadoop3/python/test_support/sql/parquet_partitioned/_SUCCESS\n",
            "spark-3.3.2-bin-hadoop3/python/test_support/sql/parquet_partitioned/_common_metadata\n",
            "spark-3.3.2-bin-hadoop3/python/test_support/sql/parquet_partitioned/_metadata\n",
            "spark-3.3.2-bin-hadoop3/python/test_support/sql/parquet_partitioned/year=2014/\n",
            "spark-3.3.2-bin-hadoop3/python/test_support/sql/parquet_partitioned/year=2014/month=9/\n",
            "spark-3.3.2-bin-hadoop3/python/test_support/sql/parquet_partitioned/year=2014/month=9/day=1/\n",
            "spark-3.3.2-bin-hadoop3/python/test_support/sql/parquet_partitioned/year=2014/month=9/day=1/.part-r-00008.gz.parquet.crc\n",
            "spark-3.3.2-bin-hadoop3/python/test_support/sql/parquet_partitioned/year=2014/month=9/day=1/part-r-00008.gz.parquet\n",
            "spark-3.3.2-bin-hadoop3/python/test_support/sql/parquet_partitioned/year=2015/\n",
            "spark-3.3.2-bin-hadoop3/python/test_support/sql/parquet_partitioned/year=2015/month=10/\n",
            "spark-3.3.2-bin-hadoop3/python/test_support/sql/parquet_partitioned/year=2015/month=10/day=25/\n",
            "spark-3.3.2-bin-hadoop3/python/test_support/sql/parquet_partitioned/year=2015/month=10/day=25/.part-r-00002.gz.parquet.crc\n",
            "spark-3.3.2-bin-hadoop3/python/test_support/sql/parquet_partitioned/year=2015/month=10/day=25/.part-r-00004.gz.parquet.crc\n",
            "spark-3.3.2-bin-hadoop3/python/test_support/sql/parquet_partitioned/year=2015/month=10/day=25/part-r-00002.gz.parquet\n",
            "spark-3.3.2-bin-hadoop3/python/test_support/sql/parquet_partitioned/year=2015/month=10/day=25/part-r-00004.gz.parquet\n",
            "spark-3.3.2-bin-hadoop3/python/test_support/sql/parquet_partitioned/year=2015/month=10/day=26/\n",
            "spark-3.3.2-bin-hadoop3/python/test_support/sql/parquet_partitioned/year=2015/month=10/day=26/.part-r-00005.gz.parquet.crc\n",
            "spark-3.3.2-bin-hadoop3/python/test_support/sql/parquet_partitioned/year=2015/month=10/day=26/part-r-00005.gz.parquet\n",
            "spark-3.3.2-bin-hadoop3/python/test_support/sql/parquet_partitioned/year=2015/month=9/\n",
            "spark-3.3.2-bin-hadoop3/python/test_support/sql/parquet_partitioned/year=2015/month=9/day=1/\n",
            "spark-3.3.2-bin-hadoop3/python/test_support/sql/parquet_partitioned/year=2015/month=9/day=1/.part-r-00007.gz.parquet.crc\n",
            "spark-3.3.2-bin-hadoop3/python/test_support/sql/parquet_partitioned/year=2015/month=9/day=1/part-r-00007.gz.parquet\n",
            "spark-3.3.2-bin-hadoop3/python/test_support/sql/people.json\n",
            "spark-3.3.2-bin-hadoop3/python/test_support/sql/people1.json\n",
            "spark-3.3.2-bin-hadoop3/python/test_support/sql/people_array.json\n",
            "spark-3.3.2-bin-hadoop3/python/test_support/sql/people_array_utf16le.json\n",
            "spark-3.3.2-bin-hadoop3/python/test_support/sql/streaming/\n",
            "spark-3.3.2-bin-hadoop3/python/test_support/sql/streaming/text-test.txt\n",
            "spark-3.3.2-bin-hadoop3/python/test_support/sql/text-test.txt\n",
            "spark-3.3.2-bin-hadoop3/python/test_support/userlib-0.1.zip\n",
            "spark-3.3.2-bin-hadoop3/python/test_support/userlibrary.py\n",
            "spark-3.3.2-bin-hadoop3/sbin/\n",
            "spark-3.3.2-bin-hadoop3/sbin/decommission-slave.sh\n",
            "spark-3.3.2-bin-hadoop3/sbin/decommission-worker.sh\n",
            "spark-3.3.2-bin-hadoop3/sbin/slaves.sh\n",
            "spark-3.3.2-bin-hadoop3/sbin/spark-config.sh\n",
            "spark-3.3.2-bin-hadoop3/sbin/spark-daemon.sh\n",
            "spark-3.3.2-bin-hadoop3/sbin/spark-daemons.sh\n",
            "spark-3.3.2-bin-hadoop3/sbin/start-all.sh\n",
            "spark-3.3.2-bin-hadoop3/sbin/start-history-server.sh\n",
            "spark-3.3.2-bin-hadoop3/sbin/start-master.sh\n",
            "spark-3.3.2-bin-hadoop3/sbin/start-mesos-dispatcher.sh\n",
            "spark-3.3.2-bin-hadoop3/sbin/start-mesos-shuffle-service.sh\n",
            "spark-3.3.2-bin-hadoop3/sbin/start-slave.sh\n",
            "spark-3.3.2-bin-hadoop3/sbin/start-slaves.sh\n",
            "spark-3.3.2-bin-hadoop3/sbin/start-thriftserver.sh\n",
            "spark-3.3.2-bin-hadoop3/sbin/start-worker.sh\n",
            "spark-3.3.2-bin-hadoop3/sbin/start-workers.sh\n",
            "spark-3.3.2-bin-hadoop3/sbin/stop-all.sh\n",
            "spark-3.3.2-bin-hadoop3/sbin/stop-history-server.sh\n",
            "spark-3.3.2-bin-hadoop3/sbin/stop-master.sh\n",
            "spark-3.3.2-bin-hadoop3/sbin/stop-mesos-dispatcher.sh\n",
            "spark-3.3.2-bin-hadoop3/sbin/stop-mesos-shuffle-service.sh\n",
            "spark-3.3.2-bin-hadoop3/sbin/stop-slave.sh\n",
            "spark-3.3.2-bin-hadoop3/sbin/stop-slaves.sh\n",
            "spark-3.3.2-bin-hadoop3/sbin/stop-thriftserver.sh\n",
            "spark-3.3.2-bin-hadoop3/sbin/stop-worker.sh\n",
            "spark-3.3.2-bin-hadoop3/sbin/stop-workers.sh\n",
            "spark-3.3.2-bin-hadoop3/sbin/workers.sh\n",
            "spark-3.3.2-bin-hadoop3/yarn/\n",
            "spark-3.3.2-bin-hadoop3/yarn/spark-3.3.2-yarn-shuffle.jar\n"
          ]
        }
      ]
    },
    {
      "cell_type": "code",
      "source": [
        "#Install PySpark\n",
        "!pip install pyspark\n"
      ],
      "metadata": {
        "colab": {
          "base_uri": "https://localhost:8080/"
        },
        "id": "CUnaudeEMLrh",
        "outputId": "da6dc675-5cfe-49d9-cc8a-ae8de415efa5"
      },
      "execution_count": 2,
      "outputs": [
        {
          "output_type": "stream",
          "name": "stdout",
          "text": [
            "Collecting pyspark\n",
            "  Downloading pyspark-3.5.1.tar.gz (317.0 MB)\n",
            "\u001b[2K     \u001b[90m━━━━━━━━━━━━━━━━━━━━━━━━━━━━━━━━━━━━━━━━\u001b[0m \u001b[32m317.0/317.0 MB\u001b[0m \u001b[31m2.6 MB/s\u001b[0m eta \u001b[36m0:00:00\u001b[0m\n",
            "\u001b[?25h  Preparing metadata (setup.py) ... \u001b[?25l\u001b[?25hdone\n",
            "Requirement already satisfied: py4j==0.10.9.7 in /usr/local/lib/python3.10/dist-packages (from pyspark) (0.10.9.7)\n",
            "Building wheels for collected packages: pyspark\n",
            "  Building wheel for pyspark (setup.py) ... \u001b[?25l\u001b[?25hdone\n",
            "  Created wheel for pyspark: filename=pyspark-3.5.1-py2.py3-none-any.whl size=317488491 sha256=d4db334b81d44a1a428c9dcc06d98468a09af16070a0f16a0c4e34306622be7a\n",
            "  Stored in directory: /root/.cache/pip/wheels/80/1d/60/2c256ed38dddce2fdd93be545214a63e02fbd8d74fb0b7f3a6\n",
            "Successfully built pyspark\n",
            "Installing collected packages: pyspark\n",
            "Successfully installed pyspark-3.5.1\n"
          ]
        }
      ]
    },
    {
      "cell_type": "code",
      "source": [
        "# Install findspark\n",
        "!pip install -q findspark"
      ],
      "metadata": {
        "id": "QlVuy8Y1Ny2v"
      },
      "execution_count": 3,
      "outputs": []
    },
    {
      "cell_type": "code",
      "source": [
        "# Set environment variables\n",
        "import os\n",
        "os.environ[\"JAVA_HOME\"] = \"/usr/lib/jvm/java-8-openjdk-amd64\"\n",
        "os.environ[\"SPARK_HOME\"] = \"/content/spark-3.3.2-bin-hadoop3\"\n",
        "\n",
        "# Start a SparkSession\n",
        "import findspark\n",
        "findspark.init()"
      ],
      "metadata": {
        "id": "e-fWBUOSN4Mn"
      },
      "execution_count": 4,
      "outputs": []
    },
    {
      "cell_type": "markdown",
      "metadata": {
        "id": "eNgzUtoyQM47"
      },
      "source": [
        "# DataFrame Operations"
      ]
    },
    {
      "cell_type": "markdown",
      "metadata": {
        "id": "KBrsJ9WgQEU0"
      },
      "source": [
        "Let's get some quick practice with your new Spark DataFrame skills, you will be asked some basic questions about some stock market data, in this case Walmart Stock from the years 2012-2017. This exercise will just ask a bunch of questions, unlike the future machine learning exercises, which will be a little looser and be in the form of \"Consulting Projects\", but more on that later!\n",
        "\n",
        "For now, just answer the questions and complete the tasks below."
      ]
    },
    {
      "cell_type": "code",
      "execution_count": 5,
      "metadata": {
        "colab": {
          "base_uri": "https://localhost:8080/",
          "height": 17
        },
        "id": "Zk1DkbJ6LFuy",
        "outputId": "d6fd1838-c727-4fd6-a200-f58952eb003b"
      },
      "outputs": [
        {
          "output_type": "display_data",
          "data": {
            "text/plain": [
              "<IPython.core.display.HTML object>"
            ],
            "text/html": [
              "<style>pre { white-space: pre !important; }</style>"
            ]
          },
          "metadata": {}
        }
      ],
      "source": [
        "## To display notebook cell with horizontal scroll bar\n",
        "from IPython.display import display, HTML\n",
        "display(HTML(\"<style>pre { white-space: pre !important; }</style>\"))"
      ]
    },
    {
      "cell_type": "markdown",
      "metadata": {
        "id": "klOLe4_bQEU3"
      },
      "source": [
        "#### Use the walmart_stock.csv file to Answer and complete the  tasks below!"
      ]
    },
    {
      "cell_type": "markdown",
      "metadata": {
        "id": "pBTm6mJjQEU4"
      },
      "source": [
        "#### Start a simple Spark Session"
      ]
    },
    {
      "cell_type": "code",
      "execution_count": 6,
      "metadata": {
        "collapsed": true,
        "id": "AFIdTSZaQEU6"
      },
      "outputs": [],
      "source": [
        "from pyspark.sql import SparkSession\n",
        "spark = SparkSession.builder.appName(\"WalmartStock\").getOrCreate()"
      ]
    },
    {
      "cell_type": "markdown",
      "metadata": {
        "id": "_SvK1u-xQEU7"
      },
      "source": [
        "#### Load the Walmart Stock CSV File, have Spark infer the data types."
      ]
    },
    {
      "cell_type": "code",
      "execution_count": 7,
      "metadata": {
        "collapsed": true,
        "id": "PFufNumHQEU8"
      },
      "outputs": [],
      "source": [
        "df = spark.read.csv('/content/walmart_stock.csv', header=True, inferSchema=True)"
      ]
    },
    {
      "cell_type": "markdown",
      "metadata": {
        "id": "EWyuYG3HQEU9"
      },
      "source": [
        "#### What are the column names?"
      ]
    },
    {
      "cell_type": "code",
      "execution_count": 8,
      "metadata": {
        "id": "HqoXRFGuQEU-",
        "outputId": "a1bffc5c-dd3a-4811-cf5b-59e839a9f853",
        "colab": {
          "base_uri": "https://localhost:8080/"
        }
      },
      "outputs": [
        {
          "output_type": "execute_result",
          "data": {
            "text/plain": [
              "['Date', 'Open', 'High', 'Low', 'Close', 'Volume', 'Adj Close']"
            ]
          },
          "metadata": {},
          "execution_count": 8
        }
      ],
      "source": [
        "df.columns"
      ]
    },
    {
      "cell_type": "markdown",
      "metadata": {
        "id": "IF87H3r1QEU_"
      },
      "source": [
        "#### What does the Schema look like?"
      ]
    },
    {
      "cell_type": "code",
      "execution_count": 9,
      "metadata": {
        "id": "FaM8KQGTQEU_",
        "outputId": "0a729ff0-ff0e-4b74-d226-06af616cd987",
        "colab": {
          "base_uri": "https://localhost:8080/"
        }
      },
      "outputs": [
        {
          "output_type": "stream",
          "name": "stdout",
          "text": [
            "root\n",
            " |-- Date: timestamp (nullable = true)\n",
            " |-- Open: double (nullable = true)\n",
            " |-- High: double (nullable = true)\n",
            " |-- Low: double (nullable = true)\n",
            " |-- Close: double (nullable = true)\n",
            " |-- Volume: integer (nullable = true)\n",
            " |-- Adj Close: double (nullable = true)\n",
            "\n"
          ]
        }
      ],
      "source": [
        "df.printSchema()"
      ]
    },
    {
      "cell_type": "markdown",
      "metadata": {
        "id": "ixYkVStcQEVA"
      },
      "source": [
        "#### Print out the first 5 salary."
      ]
    },
    {
      "cell_type": "code",
      "execution_count": 10,
      "metadata": {
        "id": "4hWNEBxlQEVA",
        "outputId": "6c45a25b-e656-4940-ed42-eea25c33d50a",
        "colab": {
          "base_uri": "https://localhost:8080/"
        }
      },
      "outputs": [
        {
          "output_type": "stream",
          "name": "stdout",
          "text": [
            "+-------------------+------------------+---------+---------+------------------+--------+------------------+\n",
            "|               Date|              Open|     High|      Low|             Close|  Volume|         Adj Close|\n",
            "+-------------------+------------------+---------+---------+------------------+--------+------------------+\n",
            "|2012-01-03 00:00:00|         59.970001|61.060001|59.869999|         60.330002|12668800|52.619234999999996|\n",
            "|2012-01-04 00:00:00|60.209998999999996|60.349998|59.470001|59.709998999999996| 9593300|         52.078475|\n",
            "|2012-01-05 00:00:00|         59.349998|59.619999|58.369999|         59.419998|12768200|         51.825539|\n",
            "|2012-01-06 00:00:00|         59.419998|59.450001|58.869999|              59.0| 8069400|          51.45922|\n",
            "|2012-01-09 00:00:00|         59.029999|59.549999|58.919998|             59.18| 6679300|51.616215000000004|\n",
            "+-------------------+------------------+---------+---------+------------------+--------+------------------+\n",
            "only showing top 5 rows\n",
            "\n"
          ]
        }
      ],
      "source": [
        "df.show(5)"
      ]
    },
    {
      "cell_type": "code",
      "source": [],
      "metadata": {
        "id": "Moi1_8icPQUX"
      },
      "execution_count": 10,
      "outputs": []
    },
    {
      "cell_type": "markdown",
      "metadata": {
        "id": "k5biK3B4QEVB"
      },
      "source": [
        "#### Use describe() to learn about the DataFrame."
      ]
    },
    {
      "cell_type": "code",
      "source": [
        "import pyspark.sql.functions as f"
      ],
      "metadata": {
        "id": "l-AFV02GPYUF"
      },
      "execution_count": 20,
      "outputs": []
    },
    {
      "cell_type": "code",
      "source": [
        "result = df.describe()"
      ],
      "metadata": {
        "id": "GMyB7BAYPc-j"
      },
      "execution_count": 12,
      "outputs": []
    },
    {
      "cell_type": "code",
      "source": [
        "result.show()"
      ],
      "metadata": {
        "colab": {
          "base_uri": "https://localhost:8080/"
        },
        "id": "okiIKn7_RKdO",
        "outputId": "c33f6173-c610-410a-c647-ba34dc3a8c39"
      },
      "execution_count": 13,
      "outputs": [
        {
          "output_type": "stream",
          "name": "stdout",
          "text": [
            "+-------+------------------+-----------------+-----------------+-----------------+-----------------+-----------------+\n",
            "|summary|              Open|             High|              Low|            Close|           Volume|        Adj Close|\n",
            "+-------+------------------+-----------------+-----------------+-----------------+-----------------+-----------------+\n",
            "|  count|              1258|             1258|             1258|             1258|             1258|             1258|\n",
            "|   mean| 72.35785375357709|72.83938807631165| 71.9186009594594|72.38844998012726|8222093.481717011|67.23883848728146|\n",
            "| stddev|  6.76809024470826|6.768186808159218|6.744075756255496|6.756859163732991|  4519780.8431556|6.722609449996857|\n",
            "|    min|56.389998999999996|        57.060001|        56.299999|        56.419998|          2094900|        50.363689|\n",
            "|    max|         90.800003|        90.970001|            89.25|        90.470001|         80898100|84.91421600000001|\n",
            "+-------+------------------+-----------------+-----------------+-----------------+-----------------+-----------------+\n",
            "\n"
          ]
        }
      ]
    },
    {
      "cell_type": "markdown",
      "metadata": {
        "id": "p1nK57i1QEVC"
      },
      "source": [
        "## Bonus Question!\n",
        "#### There are too many decimal places for mean and stddev in the describe() dataframe. Format the numbers to just show up to two decimal places. Pay careful attention to the datatypes that .describe() returns, we didn't cover how to do this exact formatting, but we covered something very similar.\n",
        "\n",
        "If you get stuck on this, don't worry, just view the solutions."
      ]
    },
    {
      "cell_type": "code",
      "source": [
        "df.printSchema()"
      ],
      "metadata": {
        "colab": {
          "base_uri": "https://localhost:8080/"
        },
        "id": "3Z5A8oBWQwI5",
        "outputId": "9630ed6f-554e-4506-8825-29560227c489"
      },
      "execution_count": 14,
      "outputs": [
        {
          "output_type": "stream",
          "name": "stdout",
          "text": [
            "root\n",
            " |-- Date: timestamp (nullable = true)\n",
            " |-- Open: double (nullable = true)\n",
            " |-- High: double (nullable = true)\n",
            " |-- Low: double (nullable = true)\n",
            " |-- Close: double (nullable = true)\n",
            " |-- Volume: integer (nullable = true)\n",
            " |-- Adj Close: double (nullable = true)\n",
            "\n"
          ]
        }
      ]
    },
    {
      "cell_type": "code",
      "execution_count": 15,
      "metadata": {
        "id": "pGsynyqIQM5L",
        "outputId": "22a36e92-ec80-4037-c579-e67ef0a77698",
        "colab": {
          "base_uri": "https://localhost:8080/"
        }
      },
      "outputs": [
        {
          "output_type": "stream",
          "name": "stdout",
          "text": [
            "root\n",
            " |-- summary: string (nullable = true)\n",
            " |-- Open: string (nullable = true)\n",
            " |-- High: string (nullable = true)\n",
            " |-- Low: string (nullable = true)\n",
            " |-- Close: string (nullable = true)\n",
            " |-- Volume: string (nullable = true)\n",
            " |-- Adj Close: string (nullable = true)\n",
            "\n"
          ]
        }
      ],
      "source": [
        "# Notice all data types are Strings!\n",
        "df.describe().printSchema()"
      ]
    },
    {
      "cell_type": "code",
      "execution_count": 16,
      "metadata": {
        "id": "3Je88u3_QM5L",
        "outputId": "4dd1ed0c-464c-4fac-d34c-b1e0e2ba13e2",
        "scrolled": true,
        "colab": {
          "base_uri": "https://localhost:8080/"
        }
      },
      "outputs": [
        {
          "output_type": "stream",
          "name": "stdout",
          "text": [
            "+-------+--------+--------+--------+--------+--------+\n",
            "|summary|    Open|    High|     Low|   Close|  Volume|\n",
            "+-------+--------+--------+--------+--------+--------+\n",
            "|  count|1,258.00|1,258.00|1,258.00|1,258.00|    1258|\n",
            "|   mean|   72.36|   72.84|   71.92|   72.39| 8222093|\n",
            "| stddev|    6.77|    6.77|    6.74|    6.76| 4519780|\n",
            "|    min|   56.39|   57.06|   56.30|   56.42| 2094900|\n",
            "|    max|   90.80|   90.97|   89.25|   90.47|80898100|\n",
            "+-------+--------+--------+--------+--------+--------+\n",
            "\n"
          ]
        }
      ],
      "source": [
        "result = df.describe()\n",
        "result.select(result['summary'],\n",
        "             f. format_number(result['Open'].cast('float'),2).alias('Open'),\n",
        "             f. format_number(result['High'].cast('float'),2).alias('High'),\n",
        "             f.format_number(result['Low'].cast('float'),2).alias('Low'),\n",
        "            f.format_number(result['Close'].cast('float'),2).alias('Close'),\n",
        "              result['Volume'].cast('int').alias('Volume')\n",
        "             ).show()"
      ]
    },
    {
      "cell_type": "markdown",
      "metadata": {
        "id": "ZF1nvwbFLFu4"
      },
      "source": [
        "#### ################################################################## End of Bonus Question"
      ]
    },
    {
      "cell_type": "markdown",
      "metadata": {
        "id": "9MwLgnCSQEVD"
      },
      "source": [
        "#### Create a new dataframe with a column called HV Ratio that is the ratio of the High Price versus volume of stock traded for a day."
      ]
    },
    {
      "cell_type": "code",
      "execution_count": 17,
      "metadata": {
        "id": "zgjpPZkRQEVE",
        "outputId": "b115b9ac-b7da-4383-a3a0-b9f2c392e7f7",
        "colab": {
          "base_uri": "https://localhost:8080/"
        }
      },
      "outputs": [
        {
          "output_type": "stream",
          "name": "stdout",
          "text": [
            "+--------------------+\n",
            "|            HV Ratio|\n",
            "+--------------------+\n",
            "|4.819714653321546E-6|\n",
            "|6.290848613094555E-6|\n",
            "|4.669412994783916E-6|\n",
            "|7.367338463826307E-6|\n",
            "|8.915604778943901E-6|\n",
            "|8.644477436914568E-6|\n",
            "|9.351828421515645E-6|\n",
            "| 8.29141562102703E-6|\n",
            "|7.712212102001476E-6|\n",
            "|7.071764823529412E-6|\n",
            "|1.015495466386981E-5|\n",
            "|6.576354146362592...|\n",
            "| 5.90145296180676E-6|\n",
            "|8.547679455011844E-6|\n",
            "|8.420709512685392E-6|\n",
            "|1.041448341728929...|\n",
            "|8.316075414862431E-6|\n",
            "|9.721183814992126E-6|\n",
            "|8.029436027707578E-6|\n",
            "|6.307432259386365E-6|\n",
            "+--------------------+\n",
            "only showing top 20 rows\n",
            "\n"
          ]
        }
      ],
      "source": [
        "df_with_hv_ratio = df.withColumn(\"HV Ratio\", df[\"High\"] / df[\"Volume\"])\n",
        "df_with_hv_ratio.select(\"HV Ratio\").show()"
      ]
    },
    {
      "cell_type": "markdown",
      "metadata": {
        "id": "sfOdDUdCQEVE"
      },
      "source": [
        "#### What day had the Peak High in Price?"
      ]
    },
    {
      "cell_type": "code",
      "execution_count": 18,
      "metadata": {
        "id": "FRi1idOrQEVE",
        "outputId": "d2db5efc-2c14-4c21-8da8-5af45c1306fb",
        "colab": {
          "base_uri": "https://localhost:8080/"
        }
      },
      "outputs": [
        {
          "output_type": "execute_result",
          "data": {
            "text/plain": [
              "Row(Date=datetime.datetime(2015, 1, 13, 0, 0))"
            ]
          },
          "metadata": {},
          "execution_count": 18
        }
      ],
      "source": [
        "peak_high_day = df.orderBy(df[\"High\"].desc()).select(\"Date\").first()\n",
        "peak_high_day"
      ]
    },
    {
      "cell_type": "markdown",
      "metadata": {
        "id": "z_RIIXHnQEVE"
      },
      "source": [
        "#### What is the mean of the Close column?"
      ]
    },
    {
      "cell_type": "code",
      "execution_count": 21,
      "metadata": {
        "id": "_W9kgKR7QEVF",
        "outputId": "1b55abd3-5196-44e7-a1cd-95171bd7dbab",
        "colab": {
          "base_uri": "https://localhost:8080/"
        }
      },
      "outputs": [
        {
          "output_type": "stream",
          "name": "stdout",
          "text": [
            "+-----------------+\n",
            "|       avg(Close)|\n",
            "+-----------------+\n",
            "|72.38844998012726|\n",
            "+-----------------+\n",
            "\n"
          ]
        }
      ],
      "source": [
        "mean_close = df.select(f.mean(\"Close\")).show()"
      ]
    },
    {
      "cell_type": "markdown",
      "metadata": {
        "id": "Z8V-r7I1QEVF"
      },
      "source": [
        "#### What is the max and min of the Volume column?"
      ]
    },
    {
      "cell_type": "code",
      "execution_count": 22,
      "metadata": {
        "id": "yAklGLjPQEVG",
        "outputId": "0d3b12d7-ec40-41e3-ba62-e228cb0914eb",
        "colab": {
          "base_uri": "https://localhost:8080/"
        }
      },
      "outputs": [
        {
          "output_type": "stream",
          "name": "stdout",
          "text": [
            "+-----------+-----------+\n",
            "|max(Volume)|min(Volume)|\n",
            "+-----------+-----------+\n",
            "|   80898100|    2094900|\n",
            "+-----------+-----------+\n",
            "\n"
          ]
        }
      ],
      "source": [
        "max_min_volume = df.select(f.max(\"Volume\"), f.min(\"Volume\")).show()"
      ]
    },
    {
      "cell_type": "markdown",
      "metadata": {
        "id": "VT4RVThzQEVG"
      },
      "source": [
        "#### How many days was the Close lower than 60 dollars?"
      ]
    },
    {
      "cell_type": "code",
      "execution_count": 26,
      "metadata": {
        "id": "ukyn4th3QEVG",
        "outputId": "9cdc6eb6-45a1-46e8-9650-3095a4fceafe",
        "colab": {
          "base_uri": "https://localhost:8080/"
        }
      },
      "outputs": [
        {
          "output_type": "execute_result",
          "data": {
            "text/plain": [
              "81"
            ]
          },
          "metadata": {},
          "execution_count": 26
        }
      ],
      "source": [
        "days_close_lower_60 = df.filter(df[\"Close\"] < 60).count()\n",
        "days_close_lower_60"
      ]
    },
    {
      "cell_type": "markdown",
      "metadata": {
        "id": "7pqovtOeQEVG"
      },
      "source": [
        "#### What percentage of the time was the High greater than 80 dollars ?\n",
        "#### In other words, (Number of Days High>80)/(Total Days in the dataset)"
      ]
    },
    {
      "cell_type": "code",
      "execution_count": 27,
      "metadata": {
        "id": "NKtLJx4jQEVH",
        "outputId": "9e10ad52-b664-43a1-c83c-faa36336c0f3",
        "colab": {
          "base_uri": "https://localhost:8080/"
        }
      },
      "outputs": [
        {
          "output_type": "execute_result",
          "data": {
            "text/plain": [
              "9.141494435612083"
            ]
          },
          "metadata": {},
          "execution_count": 27
        }
      ],
      "source": [
        "high_greater_80 = df.filter(df[\"High\"] > 80).count()\n",
        "total_days = df.count()\n",
        "percentage_high_greater_80 = (high_greater_80 / total_days) * 100\n",
        "percentage_high_greater_80"
      ]
    },
    {
      "cell_type": "markdown",
      "metadata": {
        "id": "hhggc4nrQEVH"
      },
      "source": [
        "#### What is the Pearson correlation between High and Volume?"
      ]
    },
    {
      "cell_type": "code",
      "execution_count": 30,
      "metadata": {
        "id": "l2QnuBp6QEVI",
        "outputId": "d2453454-2bd1-4743-95de-9929964739ef",
        "colab": {
          "base_uri": "https://localhost:8080/"
        }
      },
      "outputs": [
        {
          "output_type": "execute_result",
          "data": {
            "text/plain": [
              "-0.3384326061737161"
            ]
          },
          "metadata": {},
          "execution_count": 30
        }
      ],
      "source": [
        "correlation = df.corr(\"High\", \"Volume\")\n",
        "correlation"
      ]
    },
    {
      "cell_type": "markdown",
      "metadata": {
        "id": "5cUkJpW8QEVJ"
      },
      "source": [
        "#### What is the max High per year?"
      ]
    },
    {
      "cell_type": "code",
      "execution_count": 31,
      "metadata": {
        "id": "JX3A9WxbQEVK",
        "outputId": "68c88bd7-52ef-4e0b-d19b-b32c9d15b242",
        "colab": {
          "base_uri": "https://localhost:8080/"
        }
      },
      "outputs": [
        {
          "output_type": "stream",
          "name": "stdout",
          "text": [
            "+----+---------+\n",
            "|Year|max(High)|\n",
            "+----+---------+\n",
            "|2012|77.599998|\n",
            "|2013|81.370003|\n",
            "|2014|88.089996|\n",
            "|2015|90.970001|\n",
            "|2016|75.190002|\n",
            "+----+---------+\n",
            "\n"
          ]
        }
      ],
      "source": [
        "df_with_year = df.withColumn(\"Year\", f.year(df[\"Date\"]))\n",
        "max_high_per_year = df_with_year.groupBy(\"Year\").max(\"High\").orderBy(\"Year\").show()"
      ]
    },
    {
      "cell_type": "markdown",
      "metadata": {
        "id": "Qzrj0hnQQEVK"
      },
      "source": [
        "#### What is the average Close for each Calendar Month?\n",
        "#### In other words, across all the years, what is the average Close price for Jan,Feb, Mar, etc... Your result will have a value for each of these months."
      ]
    },
    {
      "cell_type": "code",
      "execution_count": 32,
      "metadata": {
        "id": "dCRHSQiJQEVK",
        "outputId": "7a8d5223-e627-4c2a-af09-9453a4902e0a",
        "colab": {
          "base_uri": "https://localhost:8080/"
        }
      },
      "outputs": [
        {
          "output_type": "stream",
          "name": "stdout",
          "text": [
            "+-----+-----------------+\n",
            "|Month|       avg(Close)|\n",
            "+-----+-----------------+\n",
            "|    1|71.44801958415842|\n",
            "|    2|  71.306804443299|\n",
            "|    3|71.77794377570092|\n",
            "|    4|72.97361900952382|\n",
            "|    5|72.30971688679247|\n",
            "|    6| 72.4953774245283|\n",
            "|    7|74.43971943925233|\n",
            "|    8|73.02981855454546|\n",
            "|    9|72.18411785294116|\n",
            "|   10|71.57854545454543|\n",
            "|   11| 72.1110893069307|\n",
            "|   12|72.84792478301885|\n",
            "+-----+-----------------+\n",
            "\n"
          ]
        }
      ],
      "source": [
        "df_with_month = df.withColumn(\"Month\",f.month(df[\"Date\"]))\n",
        "average_close_per_month = df_with_month.groupBy(\"Month\").mean(\"Close\").orderBy(\"Month\").show()"
      ]
    },
    {
      "cell_type": "markdown",
      "metadata": {
        "id": "5d6364f6"
      },
      "source": [
        "## Task 2\n"
      ]
    },
    {
      "cell_type": "markdown",
      "metadata": {
        "id": "rlWhDvTPfZgu"
      },
      "source": [
        "### Read \"test1\" dataset:"
      ]
    },
    {
      "cell_type": "code",
      "execution_count": 33,
      "metadata": {
        "id": "7964d064"
      },
      "outputs": [],
      "source": [
        "test1_df = spark.read.csv('/content/test1.csv', header=True, inferSchema=True)"
      ]
    },
    {
      "cell_type": "code",
      "source": [
        "test1_df.show()"
      ],
      "metadata": {
        "colab": {
          "base_uri": "https://localhost:8080/"
        },
        "id": "TUu85yzLJDDo",
        "outputId": "5e0c595a-6bb4-4c26-ba40-177c988ef694"
      },
      "execution_count": 34,
      "outputs": [
        {
          "output_type": "stream",
          "name": "stdout",
          "text": [
            "+---------+---+----------+------+\n",
            "|     Name|age|Experience|Salary|\n",
            "+---------+---+----------+------+\n",
            "|    Krish| 31|        10| 30000|\n",
            "|Sudhanshu| 30|         8| 25000|\n",
            "|    Sunny| 29|         4| 20000|\n",
            "|     Paul| 24|         3| 20000|\n",
            "|   Harsha| 21|         1| 15000|\n",
            "|  Shubham| 23|         2| 18000|\n",
            "+---------+---+----------+------+\n",
            "\n"
          ]
        }
      ]
    },
    {
      "cell_type": "markdown",
      "metadata": {
        "id": "EJKjDOKHfnCt"
      },
      "source": [
        "### Display Salary of the people less than or equal to 20000"
      ]
    },
    {
      "cell_type": "code",
      "execution_count": 35,
      "metadata": {
        "id": "c21edffc",
        "colab": {
          "base_uri": "https://localhost:8080/"
        },
        "outputId": "f95925bf-9478-4718-a979-6d26a4f431f3"
      },
      "outputs": [
        {
          "output_type": "stream",
          "name": "stdout",
          "text": [
            "+-------+---+----------+------+\n",
            "|   Name|age|Experience|Salary|\n",
            "+-------+---+----------+------+\n",
            "|  Sunny| 29|         4| 20000|\n",
            "|   Paul| 24|         3| 20000|\n",
            "| Harsha| 21|         1| 15000|\n",
            "|Shubham| 23|         2| 18000|\n",
            "+-------+---+----------+------+\n",
            "\n"
          ]
        }
      ],
      "source": [
        "test1_df.filter(test1_df[\"Salary\"] <= 20000).show()"
      ]
    },
    {
      "cell_type": "markdown",
      "metadata": {
        "id": "OvFWNFJjf0Pq"
      },
      "source": [
        "### Display Salary of the people less than or equal to 20000 and greater than or equal 15000"
      ]
    },
    {
      "cell_type": "code",
      "execution_count": 36,
      "metadata": {
        "id": "26f76ee1",
        "colab": {
          "base_uri": "https://localhost:8080/"
        },
        "outputId": "6e6f8b2f-0c34-4530-8bf9-333f3224a816"
      },
      "outputs": [
        {
          "output_type": "stream",
          "name": "stdout",
          "text": [
            "+-------+---+----------+------+\n",
            "|   Name|age|Experience|Salary|\n",
            "+-------+---+----------+------+\n",
            "|  Sunny| 29|         4| 20000|\n",
            "|   Paul| 24|         3| 20000|\n",
            "| Harsha| 21|         1| 15000|\n",
            "|Shubham| 23|         2| 18000|\n",
            "+-------+---+----------+------+\n",
            "\n"
          ]
        }
      ],
      "source": [
        "test1_df.filter((test1_df[\"Salary\"] <= 20000) & (test1_df[\"Salary\"] >= 15000)).show()"
      ]
    },
    {
      "cell_type": "markdown",
      "metadata": {
        "id": "9VAcIXkTgN9D"
      },
      "source": [
        "## Task 3"
      ]
    },
    {
      "cell_type": "markdown",
      "metadata": {
        "id": "uOeqRO2KgW34"
      },
      "source": [
        "### Read \"test3\" dataset:"
      ]
    },
    {
      "cell_type": "code",
      "execution_count": 37,
      "metadata": {
        "id": "4d3bd081"
      },
      "outputs": [],
      "source": [
        "test3_df = spark.read.csv('/content/test3.csv', header=True, inferSchema=True)"
      ]
    },
    {
      "cell_type": "markdown",
      "metadata": {
        "id": "ejyUT1rngdeR"
      },
      "source": [
        "### Display dataset"
      ]
    },
    {
      "cell_type": "code",
      "execution_count": 38,
      "metadata": {
        "id": "7ed791ed",
        "colab": {
          "base_uri": "https://localhost:8080/"
        },
        "outputId": "0836ca57-5553-4056-ef52-a7f7cf7db85b"
      },
      "outputs": [
        {
          "output_type": "stream",
          "name": "stdout",
          "text": [
            "+---------+------------+------+\n",
            "|     Name| Departments|salary|\n",
            "+---------+------------+------+\n",
            "|    Krish|Data Science| 10000|\n",
            "|    Krish|         IOT|  5000|\n",
            "|   Mahesh|    Big Data|  4000|\n",
            "|    Krish|    Big Data|  4000|\n",
            "|   Mahesh|Data Science|  3000|\n",
            "|Sudhanshu|Data Science| 20000|\n",
            "|Sudhanshu|         IOT| 10000|\n",
            "|Sudhanshu|    Big Data|  5000|\n",
            "|    Sunny|Data Science| 10000|\n",
            "|    Sunny|    Big Data|  2000|\n",
            "+---------+------------+------+\n",
            "\n"
          ]
        }
      ],
      "source": [
        "test3_df.show()"
      ]
    },
    {
      "cell_type": "markdown",
      "metadata": {
        "id": "Xp42YtorghXJ"
      },
      "source": [
        "### Display schema"
      ]
    },
    {
      "cell_type": "code",
      "execution_count": 39,
      "metadata": {
        "id": "d57d24ca",
        "colab": {
          "base_uri": "https://localhost:8080/"
        },
        "outputId": "e0d376a3-b558-46d9-d7df-fa620d75229f"
      },
      "outputs": [
        {
          "output_type": "stream",
          "name": "stdout",
          "text": [
            "root\n",
            " |-- Name: string (nullable = true)\n",
            " |-- Departments: string (nullable = true)\n",
            " |-- salary: integer (nullable = true)\n",
            "\n"
          ]
        }
      ],
      "source": [
        "test3_df.printSchema()"
      ]
    },
    {
      "cell_type": "markdown",
      "metadata": {
        "id": "PHxWeGCCgnww"
      },
      "source": [
        "### Group by \"Name\" column and using sum function on \"salary\" column"
      ]
    },
    {
      "cell_type": "code",
      "execution_count": 40,
      "metadata": {
        "id": "f15f8197",
        "colab": {
          "base_uri": "https://localhost:8080/"
        },
        "outputId": "3c0cec0e-c658-486f-d5a9-88386790bcab"
      },
      "outputs": [
        {
          "output_type": "stream",
          "name": "stdout",
          "text": [
            "+---------+-----------+\n",
            "|     Name|sum(salary)|\n",
            "+---------+-----------+\n",
            "|Sudhanshu|      35000|\n",
            "|    Sunny|      12000|\n",
            "|    Krish|      19000|\n",
            "|   Mahesh|       7000|\n",
            "+---------+-----------+\n",
            "\n"
          ]
        }
      ],
      "source": [
        "test3_df.groupBy(\"Name\").sum(\"salary\").show()"
      ]
    },
    {
      "cell_type": "markdown",
      "metadata": {
        "id": "gWgkaU3bhUOL"
      },
      "source": [
        "### Group by \"Name\" column and using avg function on \"salary\" column"
      ]
    },
    {
      "cell_type": "code",
      "execution_count": 41,
      "metadata": {
        "id": "fc122ace",
        "colab": {
          "base_uri": "https://localhost:8080/"
        },
        "outputId": "e35f9723-ab6a-443c-900e-6461fec3a1a8"
      },
      "outputs": [
        {
          "output_type": "stream",
          "name": "stdout",
          "text": [
            "+---------+------------------+\n",
            "|     Name|       avg(salary)|\n",
            "+---------+------------------+\n",
            "|Sudhanshu|11666.666666666666|\n",
            "|    Sunny|            6000.0|\n",
            "|    Krish| 6333.333333333333|\n",
            "|   Mahesh|            3500.0|\n",
            "+---------+------------------+\n",
            "\n"
          ]
        }
      ],
      "source": [
        "test3_df.groupBy(\"Name\").avg(\"salary\").show()"
      ]
    },
    {
      "cell_type": "markdown",
      "metadata": {
        "id": "ARg_-WPKhfL5"
      },
      "source": [
        "### Group by \"Departments\" column and using sum function on \"salary\" column"
      ]
    },
    {
      "cell_type": "code",
      "execution_count": 42,
      "metadata": {
        "id": "151d2264",
        "colab": {
          "base_uri": "https://localhost:8080/"
        },
        "outputId": "73300138-abe2-4b93-8b6b-68346ee1dede"
      },
      "outputs": [
        {
          "output_type": "stream",
          "name": "stdout",
          "text": [
            "+------------+-----------+\n",
            "| Departments|sum(salary)|\n",
            "+------------+-----------+\n",
            "|         IOT|      15000|\n",
            "|    Big Data|      15000|\n",
            "|Data Science|      43000|\n",
            "+------------+-----------+\n",
            "\n"
          ]
        }
      ],
      "source": [
        "test3_df.groupBy(\"Departments\").sum(\"salary\").show()"
      ]
    },
    {
      "cell_type": "markdown",
      "metadata": {
        "id": "S7rdLSEXhn4W"
      },
      "source": [
        "### Group by \"Departments\" column and using mean function on \"salary\" column:"
      ]
    },
    {
      "cell_type": "code",
      "execution_count": 44,
      "metadata": {
        "id": "66fe5552",
        "colab": {
          "base_uri": "https://localhost:8080/"
        },
        "outputId": "4d6a6c4e-9aa6-47b5-a3c1-8d80c7ccfe6c"
      },
      "outputs": [
        {
          "output_type": "stream",
          "name": "stdout",
          "text": [
            "+------------+-----------+\n",
            "| Departments|avg(salary)|\n",
            "+------------+-----------+\n",
            "|         IOT|     7500.0|\n",
            "|    Big Data|     3750.0|\n",
            "|Data Science|    10750.0|\n",
            "+------------+-----------+\n",
            "\n"
          ]
        }
      ],
      "source": [
        "test3_df.groupBy(\"Departments\").mean(\"salary\").show()"
      ]
    },
    {
      "cell_type": "markdown",
      "metadata": {
        "id": "bndivgGjhsbq"
      },
      "source": [
        "Group by \"Departments\" column and using count function on \"Departments\" column:"
      ]
    },
    {
      "cell_type": "code",
      "execution_count": 45,
      "metadata": {
        "id": "bc7bf192",
        "colab": {
          "base_uri": "https://localhost:8080/"
        },
        "outputId": "57eaf482-2379-4300-d5c9-5d8fcbd00cb6"
      },
      "outputs": [
        {
          "output_type": "stream",
          "name": "stdout",
          "text": [
            "+------------+-----+\n",
            "| Departments|count|\n",
            "+------------+-----+\n",
            "|         IOT|    2|\n",
            "|    Big Data|    4|\n",
            "|Data Science|    4|\n",
            "+------------+-----+\n",
            "\n"
          ]
        }
      ],
      "source": [
        "test3_df.groupBy(\"Departments\").count().show()"
      ]
    },
    {
      "cell_type": "markdown",
      "metadata": {
        "id": "dfPs99wnhwGu"
      },
      "source": [
        "### Apply agg to using sum function get the total of salaries"
      ]
    },
    {
      "cell_type": "code",
      "execution_count": 46,
      "metadata": {
        "id": "37b26cbe"
      },
      "outputs": [],
      "source": [
        "total_salaries = test3_df.agg({\"salary\": \"sum\"})"
      ]
    },
    {
      "cell_type": "code",
      "execution_count": 47,
      "metadata": {
        "colab": {
          "base_uri": "https://localhost:8080/"
        },
        "id": "NNinO5V8LFvE",
        "outputId": "d949a20a-be6e-4bdd-9e5f-170e8f279111"
      },
      "outputs": [
        {
          "output_type": "stream",
          "name": "stdout",
          "text": [
            "+-----------+\n",
            "|sum(salary)|\n",
            "+-----------+\n",
            "|      73000|\n",
            "+-----------+\n",
            "\n"
          ]
        }
      ],
      "source": [
        "total_salaries .show()"
      ]
    }
  ],
  "metadata": {
    "anaconda-cloud": {},
    "colab": {
      "provenance": []
    },
    "kernelspec": {
      "display_name": "Python 3 (ipykernel)",
      "language": "python",
      "name": "python3"
    },
    "language_info": {
      "codemirror_mode": {
        "name": "ipython",
        "version": 3
      },
      "file_extension": ".py",
      "mimetype": "text/x-python",
      "name": "python",
      "nbconvert_exporter": "python",
      "pygments_lexer": "ipython3",
      "version": "3.9.13"
    }
  },
  "nbformat": 4,
  "nbformat_minor": 0
}